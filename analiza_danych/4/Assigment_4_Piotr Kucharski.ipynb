{
 "cells": [
  {
   "cell_type": "markdown",
   "metadata": {},
   "source": [
    "### Today we are going to perform the simple classification of the amazon reviews' sentiment.\n",
    "\n",
    "### Please, download the dataset amazon_baby.csv."
   ]
  },
  {
   "cell_type": "code",
   "execution_count": 19,
   "metadata": {
    "pycharm": {
     "is_executing": false
    }
   },
   "outputs": [
    {
     "name": "stdout",
     "text": [
      "/home/SoliareofAstora/studia1920/analiza_danych/4\n"
     ],
     "output_type": "stream"
    },
    {
     "data": {
      "text/plain": "                                                name  \\\n0                           Planetwise Flannel Wipes   \n1                              Planetwise Wipe Pouch   \n2                Annas Dream Full Quilt with 2 Shams   \n3  Stop Pacifier Sucking without tears with Thumb...   \n4  Stop Pacifier Sucking without tears with Thumb...   \n\n                                              review  rating  \n0  These flannel wipes are OK, but in my opinion ...       3  \n1  it came early and was not disappointed. i love...       5  \n2  Very soft and comfortable and warmer than it l...       5  \n3  This is a product well worth the purchase.  I ...       5  \n4  All of my kids have cried non-stop when I trie...       5  ",
      "text/html": "<div>\n<style scoped>\n    .dataframe tbody tr th:only-of-type {\n        vertical-align: middle;\n    }\n\n    .dataframe tbody tr th {\n        vertical-align: top;\n    }\n\n    .dataframe thead th {\n        text-align: right;\n    }\n</style>\n<table border=\"1\" class=\"dataframe\">\n  <thead>\n    <tr style=\"text-align: right;\">\n      <th></th>\n      <th>name</th>\n      <th>review</th>\n      <th>rating</th>\n    </tr>\n  </thead>\n  <tbody>\n    <tr>\n      <td>0</td>\n      <td>Planetwise Flannel Wipes</td>\n      <td>These flannel wipes are OK, but in my opinion ...</td>\n      <td>3</td>\n    </tr>\n    <tr>\n      <td>1</td>\n      <td>Planetwise Wipe Pouch</td>\n      <td>it came early and was not disappointed. i love...</td>\n      <td>5</td>\n    </tr>\n    <tr>\n      <td>2</td>\n      <td>Annas Dream Full Quilt with 2 Shams</td>\n      <td>Very soft and comfortable and warmer than it l...</td>\n      <td>5</td>\n    </tr>\n    <tr>\n      <td>3</td>\n      <td>Stop Pacifier Sucking without tears with Thumb...</td>\n      <td>This is a product well worth the purchase.  I ...</td>\n      <td>5</td>\n    </tr>\n    <tr>\n      <td>4</td>\n      <td>Stop Pacifier Sucking without tears with Thumb...</td>\n      <td>All of my kids have cried non-stop when I trie...</td>\n      <td>5</td>\n    </tr>\n  </tbody>\n</table>\n</div>"
     },
     "metadata": {},
     "output_type": "execute_result",
     "execution_count": 19
    }
   ],
   "source": [
    "import pandas as pd\n",
    "import numpy as np\n",
    "import matplotlib.pyplot as plt\n",
    "import string\n",
    "from sklearn.linear_model import LogisticRegression\n",
    "import os\n",
    "print(os.getcwd())\n",
    "def remove_punctuation(text):\n",
    "    import string\n",
    "    translator = str.maketrans('', '', string.punctuation)\n",
    "    return str(text).translate(translator)\n",
    "\n",
    "baby_df = pd.read_csv('amazon_baby.csv')\n",
    "baby_df.head()"
   ]
  },
  {
   "cell_type": "markdown",
   "metadata": {},
   "source": [
    "## Exercise 1 (data preparation)\n",
    "a) Remove punctuation from reviews using the given function.   \n",
    "b) Replace all missing (nan) revies with empty \"\" string.  \n",
    "c) Drop all the entries with rating = 3, as they have neutral sentiment.   \n",
    "d) Set all positive ($\\geq$4) ratings to 1 and negative($\\leq$2) to -1."
   ]
  },
  {
   "cell_type": "code",
   "execution_count": 20,
   "metadata": {
    "pycharm": {
     "is_executing": false
    }
   },
   "outputs": [
    {
     "data": {
      "text/plain": "True"
     },
     "metadata": {},
     "output_type": "execute_result",
     "execution_count": 20
    }
   ],
   "source": [
    "#a)\n",
    "baby_df['review'] = baby_df[\"review\"].apply(remove_punctuation)\n",
    "#short test: \n",
    "baby_df[\"review\"][4] == 'All of my kids have cried nonstop when I tried to ween them off their pacifier until I found Thumbuddy To Loves Binky Fairy Puppet  It is an easy way to work with your kids to allow them to understand where their pacifier is going and help them part from itThis is a must buy book and a great gift for expecting parents  You will save them soo many headachesThanks for this book  You all rock'"
   ]
  },
  {
   "cell_type": "code",
   "execution_count": 21,
   "metadata": {
    "pycharm": {
     "is_executing": false
    }
   },
   "outputs": [
    {
     "data": {
      "text/plain": "''"
     },
     "metadata": {},
     "output_type": "execute_result",
     "execution_count": 21
    }
   ],
   "source": [
    "#b)\n",
    "baby_df['review'] = baby_df[\"review\"].apply(lambda x: '' if x=='nan' else x)\n",
    "#short test:\n",
    "baby_df[\"review\"][38]"
   ]
  },
  {
   "cell_type": "code",
   "execution_count": 22,
   "metadata": {
    "pycharm": {
     "is_executing": false
    }
   },
   "outputs": [
    {
     "data": {
      "text/plain": "0"
     },
     "metadata": {},
     "output_type": "execute_result",
     "execution_count": 22
    }
   ],
   "source": [
    "#c)\n",
    "baby_df = baby_df[baby_df[\"rating\"]!=3]\n",
    "#short test:\n",
    "sum(baby_df[\"rating\"] == 3)"
   ]
  },
  {
   "cell_type": "code",
   "execution_count": 23,
   "metadata": {
    "pycharm": {
     "is_executing": false
    }
   },
   "outputs": [
    {
     "data": {
      "text/plain": "0"
     },
     "metadata": {},
     "output_type": "execute_result",
     "execution_count": 23
    }
   ],
   "source": [
    "#d) \n",
    "baby_df['rating'] = baby_df[\"rating\"].apply(lambda x: -1 if x<3 else 1)\n",
    "#short test:\n",
    "sum(baby_df[\"rating\"]**2 != 1)"
   ]
  },
  {
   "cell_type": "markdown",
   "metadata": {},
   "source": [
    "## CountVectorizer\n",
    "In order to analyze strings, we need to assign them numerical values. We will use one of the simplest string representation, which transforms strings into the $n$ dimensional vectors. The number of dimensions will be the size of our dictionary, and then the values of the vector will represent the number of appereances of the given word in the sentence."
   ]
  },
  {
   "cell_type": "code",
   "execution_count": 7,
   "metadata": {
    "pycharm": {
     "is_executing": false
    }
   },
   "outputs": [
    {
     "name": "stdout",
     "text": [
      "['adore', 'and', 'apples', 'bananas', 'dislike', 'hate', 'like', 'oranges', 'they', 'we']\n",
      "[[0 0 1 0 0 0 1 0 0 1]\n",
      " [0 0 0 0 0 1 0 1 0 1]\n",
      " [1 0 0 1 0 0 0 0 0 0]\n",
      " [0 1 1 0 0 0 2 1 0 1]\n",
      " [0 0 0 1 1 0 0 0 1 0]]\n"
     ],
     "output_type": "stream"
    }
   ],
   "source": [
    "from sklearn.feature_extraction.text import CountVectorizer\n",
    "\n",
    "vectorizer = CountVectorizer()\n",
    "reviews_train_example = [\"We like apples\",\n",
    "                   \"We hate oranges\",\n",
    "                   \"I adore bananas\",\n",
    "                   \"We like like apples and oranges\",\n",
    "                   \"They dislike bananas\"]\n",
    "\n",
    "X_train_example = vectorizer.fit_transform(reviews_train_example)\n",
    "\n",
    "print(vectorizer.get_feature_names())\n",
    "print(X_train_example.todense())\n",
    "\n"
   ]
  },
  {
   "cell_type": "code",
   "execution_count": 8,
   "metadata": {
    "pycharm": {
     "is_executing": false
    }
   },
   "outputs": [
    {
     "name": "stdout",
     "text": [
      "[[0 0 0 1 0 0 1 0 1 0]\n",
      " [0 1 1 1 0 1 0 1 0 1]\n",
      " [0 0 0 1 0 0 0 0 0 1]]\n"
     ],
     "output_type": "stream"
    }
   ],
   "source": [
    "reviews_test_example = [\"They like bananas\",\n",
    "                   \"We hate oranges bananas and apples\",\n",
    "                   \"We love bananas\"] #New word!\n",
    "\n",
    "X_test_example = vectorizer.transform(reviews_test_example)\n",
    "\n",
    "print(X_test_example.todense())"
   ]
  },
  {
   "cell_type": "markdown",
   "metadata": {},
   "source": [
    "We should acknowledge few facts. Firstly, CountVectorizer does not take order into account. Secondly, it ignores one-letter words (this can be changed during initialization). Finally, for test values, CountVectorizer ignores words which are not in it's dictionary."
   ]
  },
  {
   "cell_type": "markdown",
   "metadata": {},
   "source": [
    "## Exercise 2 \n",
    "a) Split dataset into training and test sets.     \n",
    "b) Transform reviews into vectors using CountVectorizer. "
   ]
  },
  {
   "cell_type": "code",
   "execution_count": 9,
   "metadata": {
    "pycharm": {
     "is_executing": false
    }
   },
   "outputs": [],
   "source": [
    "#a)\n",
    "baby_df = baby_df.reset_index()\n",
    "\n",
    "vectors = vectorizer.fit_transform(baby_df.review)\n",
    "negative = vectors[baby_df.index[baby_df[\"rating\"] == -1]]\n",
    "positive = vectors[baby_df.index[baby_df[\"rating\"] == 1]]\n",
    "\n",
    "from scipy.sparse import vstack\n",
    "X_train = vstack([negative[2600:],\n",
    "                positive[10000:]])\n",
    "X_test = vstack([negative[:2600],\n",
    "                positive[:10000]])\n",
    "\n",
    "#b)\n",
    "Y_test = np.array([-1]*2600+[1]*10000)\n",
    "Y_train = np.array([-1]*(negative.shape[0]-2600)+[1]*(positive.shape[0]-10000))"
   ]
  },
  {
   "cell_type": "markdown",
   "metadata": {},
   "source": [
    "## Exercise 3 \n",
    "a) Train LogisticRegression model on training data (reviews processed with CountVectorizer, ratings as they were).   \n",
    "b) Print 10 most positive and 10 most negative words."
   ]
  },
  {
   "cell_type": "code",
   "execution_count": 10,
   "metadata": {
    "pycharm": {
     "is_executing": false
    }
   },
   "outputs": [
    {
     "name": "stderr",
     "text": [
      "/home/SoliareofAstora/miniconda3/envs/analiza/lib/python3.7/site-packages/sklearn/linear_model/logistic.py:432: FutureWarning: Default solver will be changed to 'lbfgs' in 0.22. Specify a solver to silence this warning.\n",
      "  FutureWarning)\n",
      "/home/SoliareofAstora/miniconda3/envs/analiza/lib/python3.7/site-packages/sklearn/svm/base.py:929: ConvergenceWarning: Liblinear failed to converge, increase the number of iterations.\n",
      "  \"the number of iterations.\", ConvergenceWarning)\n"
     ],
     "output_type": "stream"
    },
    {
     "data": {
      "text/plain": "LogisticRegression(C=1.0, class_weight=None, dual=False, fit_intercept=True,\n                   intercept_scaling=1, l1_ratio=None, max_iter=100,\n                   multi_class='warn', n_jobs=None, penalty='l2',\n                   random_state=None, solver='warn', tol=0.0001, verbose=0,\n                   warm_start=False)"
     },
     "metadata": {},
     "output_type": "execute_result",
     "execution_count": 10
    }
   ],
   "source": [
    "#a)\n",
    "model = LogisticRegression()\n",
    "model.fit(X_train,Y_train)"
   ]
  },
  {
   "cell_type": "code",
   "execution_count": 11,
   "metadata": {
    "pycharm": {
     "is_executing": false
    }
   },
   "outputs": [
    {
     "name": "stdout",
     "text": [
      "worst ['dissapointed' 'worthless' 'worst' 'useless' 'theory' 'unusable'\n",
      " 'disappointing' 'poorly' 'shame' 'poor']\n",
      "the best ['pleasantly' 'glad' 'sooner' 'ply' 'saves' 'penny' 'skeptical' 'worry'\n",
      " 'lifesaver' 'downside']\n"
     ],
     "output_type": "stream"
    }
   ],
   "source": [
    "#b)\n",
    "weights = model.coef_\n",
    "ind = np.argpartition(weights[0], 10)[:10]\n",
    "print('worst',np.array(vectorizer.get_feature_names())[ind])\n",
    "\n",
    "ind = np.argpartition(weights[0], -10)[-10:]\n",
    "print('the best',np.array(vectorizer.get_feature_names())[ind])\n",
    "#hint: model.coef_, vectorizer.get_feature_names()"
   ]
  },
  {
   "cell_type": "markdown",
   "metadata": {},
   "source": [
    "## Exercise 4 \n",
    "a) Predict the sentiment of test data reviews.   \n",
    "b) Predict the sentiment of test data reviews in terms of probability.   \n",
    "c) Find five most positive and most negative reviews.   \n",
    "d) Calculate the accuracy of predictions."
   ]
  },
  {
   "cell_type": "code",
   "execution_count": 12,
   "metadata": {
    "pycharm": {
     "is_executing": false
    }
   },
   "outputs": [
    {
     "name": "stdout",
     "text": [
      "[ 1  1 -1 ...  1  1  1]\n"
     ],
     "output_type": "stream"
    }
   ],
   "source": [
    "#a)\n",
    "y_pred = model.predict(X_test)\n",
    "print(y_pred)"
   ]
  },
  {
   "cell_type": "code",
   "execution_count": 13,
   "metadata": {
    "pycharm": {
     "is_executing": false
    }
   },
   "outputs": [
    {
     "name": "stdout",
     "text": [
      "[[0.13934721 0.86065279]\n",
      " [0.385792   0.614208  ]\n",
      " [0.95905345 0.04094655]\n",
      " ...\n",
      " [0.09259253 0.90740747]\n",
      " [0.01792617 0.98207383]\n",
      " [0.01782052 0.98217948]]\n"
     ],
     "output_type": "stream"
    }
   ],
   "source": [
    "#b)\n",
    "prob = model.predict_proba(X_test)\n",
    "print(prob)\n",
    "#hint: model.predict_proba()"
   ]
  },
  {
   "cell_type": "code",
   "execution_count": 14,
   "metadata": {
    "pycharm": {
     "is_executing": false
    }
   },
   "outputs": [
    {
     "name": "stdout",
     "text": [
      "bad  Initially I thought these angled bottles make a lot of sense so I put different sizes into our registry However when our baby girl 1 week old first tried to suck the milk out from the bottle it did not come out My husband had activated the vent and did everything according to the instructions He thought the holes were not big enough since he did not see any on the nipple so he put more holes on them but still nothing came out He finally found out the way that these bottles work are not the same as a traditionally bottle does The hole will not open unless pressure is applied against it and hole will get sealed back again when released Baby has to use their tongue to push against the nipples in order to open up the hole For a newborn infant it is too difficult for them to figure out how to get the milk out especially if you are bottle feeding only Luckily we had two Avent bottles with the traditionally hole idea so she is doing very well with the Avent bottles and she still loves them a lot We ended up returning the unused VentAir bottles and got a lots of AVENT bottles but still stuck with the opened ones I do not recommend these difficult bottles for newborn Baby should not need to think how to get the milk outFor leaking problem we do not have any issue with the Avent bottles When it leaks it is usually because the nipples have not been properly placed push all the way though the ring or the ring has not been tightly screwed We also found out if you use a warmer to warm the bottle you have to unscrew the ring once and screw it all tight again after the warmer It is because the theory of heat with expense the plastic bottle which creates a gap between the ring nipples and the bottle neck This works 99 for us with no leakWe are the fans of the AVENT bottles\n",
      "bad  I bought this car seat after both seeing  the four and a half star customer rating and then reading all of the GLOWING reviews that past customers had written  I based my opinion on things that were posted on this site about the ease convenience safety and customer satisfaction that other parents were writting about  I HATE HATE HATE HATE this car seatThere is nothing easy about having to pull this car seat COMPLETELY apart when you need to wash it  My daughter is 14 months old and vomitted on herself today in the car so I had to literally tear this car seat apart to clean it up  I called two seperate Babies R Us stores to speak w someone about this car seat and neither of the people I spoke w knew anything about customer service and nobody could give me a bit of help or information about getting this monstrosity of a car seat pulled apartI consulted my manual several times but that didnt clarify anything either  It was very cumbersome ackward and difficult to pull this seat apart just to simply wash the cover  I dont know who designed this car seat but obviously my guess would be someone sadistic who has no childrenI will NOT recommend this car seat to ANYONE ever Not even someone I dont like this car seat is a cruel joke and a complete and total waste of money that would have been better spent on a simpler better and more simplistically designed  This thing is completely awfulI hate this car seat think it is a complete waste money and would NEVER recommend it to anyone looking for something easy convenient and just simple to pull apart to clean  Never again will I purchase anything made by Cosco\n",
      "bad  Please see my email to the companyHelloI am writing to voice my familys anger over your unsafe cheap cosleeper  If you recall I had a problem with my newly purchased cosleeper back in May which I immediately called about and was told to send the frame back  At that time I asked to speak to a supervisor about the situation and was told that I would be contacted shortly  However Mayra was the only one who I was able to speak with after numerous attempts to be put in contact with the supervisor  After a huge delay due to mistakes on your end I finally got the cosleeper sent back to the company after speaking with Veronica on June 13thAt this time June 13th I asked to speak with the manager of the company and Veronica told me that Sharon was not in at the time but would be in later that day  I obviously never heard from Sharon or anyone else from this company for that matter from that point on  I was inquiring to speak with the manager after voicing my concern over just repairing the frame instead of receiving a new productWe received the frame shipped back to us without so much as an email or follow up from Arms Reach  The entire process to get our frame back took over a month from the time I first contacted customer service  I had initially asked for a replacement frame since our daughter had been used to sleeping in it by this time and I did not want to completely disrupt her sleep pattern while waiting for the repair which it did  The frame came back to us in a box with one sheet of paper which did nothing to describe what was wrong with the frame or what was done to repair itI use the term repair in disgust since it clearly was never properly repaired  We assembled the cosleeper again according to exact instructions in the manual  Two nights later I noticed that now if I barely touched the rail of the cosleeper nearest our bed that it would collapse and had to be pulled back up into the lock position  Obviously we felt very uncomfortable using the cosleeper but after having dealt with your awful lack of customer service the first time around I did not waste my time trying to reach Mayra Veronica or Sharon againTo avoid the problem of the collapsing side rail we have been careful to not touch or even brush against it for fear that it would collapse with our daughter in it  Without touching it it does stay up  Tonight July 23rd however I laid my daughter down from the other side of the cosleeper all together and the other side rail immediately collapsed when I laid her in the cosleeper  She was in it  I had not put any pressure on the side rail it just collapsed  After taking her out waking her up in the process and moving her elsewhere to be put to sleep for the night I attempted to relock the side rail  It took several tries and does not seem secure at allI can not believe that your remedy to fix the situation of a faulty cosleeper was to send our same frame back to us repaired which still breaks and is worse off than when I first contacted you  I am so turned off by your company not only because of the safety hazards associated with putting a baby in this piece of crap product that you make but the complete lack of care from the supervisor or manager You would think that someone would be concerned that their products for babies are faulty and unsafe  These are babies we are talking about here  Not pets not adultsinnocent babies who need the safest place possible to sleep  Your company disgusts me and I am honestly surprised that you are still around  Not for long I am sure\n",
      "bad  I asked my mother in law for the cosleeper because of the great reviews We received it and automatically our complaint was the awful instructions and awful graphics to illustrate putting it together After finally putting it together we realized this thing is huge But we didnt want the mini because it is just that miniature a growing baby wouldnt last long in the mini and youd have to spend more money on a cribBut as huge as this is we shouldve just bought a cribConsSheets arent cotton cheap polyester Yet they charge an arm and a leg Had to Buy leg extenders Leg extenders are expensive for no apparent reasonConsSuper big issueI washed everything because baby will be here soon The velcro on the liner stuck to the mesh parts of the liner I washed everything in cold water on the delicate cycle When i took the liner out the velcro was stuck to all the mesh parts causing the mesh to fuzz and almost tear After being in a rage because i want everything perfect for my baby girl i then proceeded to stick the velcro together so i could dry the liner on gentle for 8 mins I take the liner out the dryer and guess what the velcro was yet again stuck to the meshI had to as gently as possible pull the velcro off the mesh which then caused the mesh to fuzz and almost tear unacceptableI contacted arms reach customer service a joke and all they did was reiterate washing instructionswashing wasnt my problem and direct me to their 800 to pay 35 to order another linerI just purchased this cosleeper and for the liner issue  i expected as a courtesy they would send me another one without additional costs guess notSave your money and just buy a small crib or bassinet Bassinets can also be used for cosleeping as wellThis is cheap and not worth it in my opinion It should be waaaay cheaper They use cheap materials and they do not value you as a consumerIm upset we have this thing And the mattress doesnt lay 100 flat either the corners turn up Every extra item for this sleeper is another 20 dollars Sheets are expensive when they arent even cotton which is better for babiesFor the size of it we shouldve bought a crib wchanging table attachment Yes its that hugeThe same size as a playpen Defeats the purpose of space saving And no i didnt want the mini its too small\n",
      "bad  This is a long review but if you read the whole thing it may save you some money and frustration If you just want to read the bit about the Bottles jump down to the 6th Paragraph and read from thereI used Avent products with my first child 5 years ago and was absolutely thrilled Back then I was a solomother on welfare so the cost was a real struggle for me but I was so thrilled with the product that I found the money to buy the things I needed for my childFive years on and oh how things have changed This time around I am married and have the funds to be able to buy whichever brand I want without money being a consideration So I eagerly stocked up on all things Avent I bought the 4 oz bottles 9 oz bottles disposable bottle kit Isis Electric Breast Pump pacifiers Bottle  Food Warmer Bottle Tote Formula Dispeser Microwave Steam Steriliser  the whole shebangThe first thing to go wrong was the Isis Breast Pump US150 from BabiesRUs It would work fine for anywhere between 2 and 10 minutes and then the suction would slack off and the rhythm would go out of whack stopping the flow of milk from my breast I would then have to turn off the machine and pump manually instead or be left only partially expressed I was reliant on the pump to take off my milk as my baby would not latch and I really wanted to keep giving her breast milk When the machine broke down I contacted Avent and asked for a refund as I was going to have to replace the machine Avent told me that it was a nonrefundable item but if I waited a week they would send out a label for me to ship the pump back to them and then IF THEY FOUND A FAULT they would then repair it and return it to me They said it would take 24 weeks And what was I to do without a breast pump for a month I asked The lady on the phone suggested that I purchase their manual pump to use in the meantime and boasted that it would only cost me about US50 Needlesstosay I lost a lot of money on this and was absolutely furious I threw the worthless pump in the trash and ended up 100 formulafeeding my babyThen there were issues with some of the nipples tearing and they were less than a month old I figured this was just my misfortune so rather than make a fuss about it I simply replaced the nipples at my own expenseNext came the distorted bottles I noticed one day that the plastic of one of the 4 oz bottles was warped I thought it a little odd but again thought that I had probably just caught a wonky batch and didnt think too much about it Then another bottle warped and another and another and another  fairly soon I had 5 warped bottles some 4 oz some 9 oz Enough was enough I called Avent again and complained only to have the woman on the phone tell me that I mustnt have read the instrustions on the MICROWAVE STEAM STERILISER properly The woman asked me to confirm the wattage of my microwave the amount of time I was putting the bottles in for and how much water I was using 900W 5 minutes 200 mls After telling her she confirmed that yes that was all correct but she still said that I must have been doing something wrong during the sterilising processThe lady sent me out a label to send the bottles back to them for testing She said that once the bottles had been tested then they would get back to me Well while waiting for the label to arrive I ensured that I absolutely was following the instructions correctly when I used the Steriliser but I still managed to have two more bottles warp on me giving me a total of 7 warped bottles to returnI finally got the label and sent the bottles back About a week later Avent called and said that the tests showed I had overloaded the Steriliser and that had caused the bottles to warp She said that as a oneoff courtesy they would replace the five 9oz bottles I pointed out to her that I had stacked the Steriliser as told to do so in the illustrations of the instruction booklet and when I asked about the two 4 oz bottles I had also returned she denied that they had received them even though I put them all in the package myself and refused to discuss the matter any further So I have lost 2 bottles and have a steriliser that apparently likes to melt bottles regardless of how cautious I am about follwing the directionsThe other things I have had issues with are the pacifiers and the Bottle Tote The pacifiers had a hard edge on the silicone which was very uncomfortable for my newborn I ended up replacing these with a different brand as Avent wanted me to return the pacifiers to them at my own expense before they would consider replacing them The Bottle Tote packaging states that it will keep bottles warm or cold for up to 4 hours This is more like up to 2 hours but even that is dubious In order to get the bottles hot enough to stay warm for 4 hours it would have to be boiling water but if you put boiling water into the bottles the pressure becomes too much for them to handle so thats not an option I have ended up throwing out the Bottle Tote which cost me 15 and purchasing a midsize Thermos I put the water of about the right temperature into the Thermos and take empty bottles with me I even use the Thermos at home so that I do not have to wait for the Avent Bottle Warmer to hurry up and do its thing at 3amI also have the Via Nurser Kit and addtional containers but have found that the lids sometimes do not seal properly and therefore leak Very annoying especially when you had premixed formula in the container your baby is hungry and youre an hour drive from homeI am absolutely disappointed with Avent Almost every product of theirs that I have purchased this time around has been defective in one way or another and their cutomer service level has been absolutely pathetic They have obviously never heard the customer is always right because the have continually placed the blame solely on me for the issues that I have hadAvent used to be a great company with a great product and now it seems that they are simply relying on their good reputation of the past to carry them through the future Its not good enough Their products are NOT worth the money anymore and I strongly recommend that no one buy any of their products There are tons of very good better products available on the market and I will be replacing all of my Avent equipment with another brand as soon as I can I noticed while at Target the other day that Circo are now making wide neck bottles that look exactly like the Avent ones but at almost half the price  I think Ill give them a go Maybe you should too\n",
      "bad  This product should be in the hall of fame solely based on its ability to achieve such a high number of positive ratings from parents hoping to stimulate their childs intelligence Dont be fooled its a piece of junk I had such high hopes for this and even at a 15 purchase price I feel ripped offProsNice images with high color contrastCons Simply horrible construction The pieces of plastic could not be more cheap and one of the nubs cracked right off during assembly The arches and misc plastic pieces probably cost all of 20 to manufacture in total The image cards do not easily fit into the attachment nubs and do not hang straight as a result Maybe this changes over time but right now from an underneath view you basically see a card slanted sideways Not interesting IMO The bar that attaches to the side of the crib is a terrible design and it is LAVENDER Seriously it is not white at all It clashes completely with the rest of the product contrary to the image on Amazon and the product boxIts just cheap and hideous really The idea is good but they should be ashamed at the execution The cheap thin plastic and nonmatching parts should be an embarrassment to any manufacturer who claims to me making toys to stimulate a childs thinking and intelligence There was clearly neither thinking or intelligence behind this product\n",
      "bad  When I received the Home Connection Monitor one of the receivers had a constant and intolerable clicking sound no matter where it was placed in my home  The other receiver worked okay other than that the volume was extremely low and there was a considerable amount of static  I was unable to hear my daughter get out of bed and leave her room even at the highest volume  Because this was the only monitor of its kind that I was able to find I decided to give it a try despite the problems  I even went out and purchased a new cordless phone with a different frequency to eliminate any possible interference  We do not have a satellite dish or alarm system so these were not an issue  After a couple of weeks of use the one working monitor began to have periods of extremely loud static so that nothing else could be heard through it and this soon became constant so that it was unusableThis is the worst quality product I have ever received and I am extremely disappointed and frustrated Despite the numerous bad reviews and obvious problems with the product Amazon refused to cover return shipping charges when I returned it  My advise dont waste your time or money\n",
      "bad  I actually didnt buy this someone else did but I HATE it I have 20 month old twin boys and they are VERY small yet this potty is terrible first of all for a standing boy the splash gaurd is in the way and it doesnt fit turned around It is very light weight and it sticks to my sons bottom My sons are frightened of it theres no real seat its the actual pot so they are too scared to sit on it Its very uncomfortable and I believe this is also the problem for our potty delays we bought the real one that flushes but still not bowl movement It slides all over the floor very scary for my toddlers The arm rests are a joke an absolute joke It is nice looking but also very small I will be buying another flushing potty or an insert and keep this one in the car for emergencies onlyI wouldnt recomend it for girls either the splash guard is perminantly on and backwards is not right and it may cause leaks and then the kid cant sit back And I wouldnt recomend for a sitting boy either the splash guard is a REAL hazard for their man parts while sitting down It may be nice because its one piece but even thats annoying terrible terrible potty\n",
      "bad  This product is worthless I had to try and lightly press my daughters foot into the plaster no less than 9 times and each time it barely made an indentation  We tried everything from rolling the plaster a little thicker for more cushion while pushing pressing her foot a little harder and nothing worked  We could have thrown our 30 for this product out the car window and gotten more satisfaction and a better memory than this piece of junk will provide  We ended up with a very faint almost unreconizable imprint that will most likely be replaced with an ink impression if we can find it soon enough  Save your money and buy something else if you really want a true memory of your childs foot or handUPDATE I emailed the manufacturer Pearhead after receiving this product  They sent another plaster packet out and we tried it again  We followed the directions as noted and it still did not work  We again were left with a horrible barely there print  This product truley is a waste of money  We ended up ordering the Inkless print kit from another company for much cheaper worked great and we got the keepsake this productcompany could not deliver on\n",
      "bad  Prior to parenthood I had heard several parents rave about this product but even my tempered expectations were not prepared for the disappointments with this product After using a Diaper Genie for a year I am shocked by the popularity of this product Everything about it including the design the manufacturing and the accessories are a big disappointment Furthermore the product is clearly designed to give away the razor to sell you the razor blades The initial product seems moderately priced but their profit really comes from the highpriced refills which are little more than thin plastic bags which sell for  or moreDesignThe lid is not childproof as advertised My toddler has been able to flip it open since he was old enough to stand up age 1 There is nothing even remotely childproof about the lid The top of the Genie is an overcomplicated somewhat fragile lidwithinalid which my wife and all of our babysitters find confusing to use when replacing refills It took me 1520 minutes the first time I did it Im an engineer so since I now have the expertise the Genie goes unused until I can refill it  From an engineering standpoint the Genie appears designed to dispense the maximum amount of plastic wrap possible while allowing as much odor to escape the unit as possible thereby encouraging you to refill the unit frequentlyManufacturingAs other users have reported the plastic of which the Genie is made of ABSORBS odors causing the unit to PERMANENTLY stink after about 6 months I have washed it with everything I could think of including bleach to no avail The thin plastic tab holding the bottom door tight broke off in the first few weeks so I juryrigged it  The plastic lid does not even attempt to be airtight allowing odors to escape easily from inside the unitAccessoriesThe fundamental purpose of the Genie is to seal dirty diapers in a plastic wrap with twists in between each diaper First the Genie only holds 1215 dirty diapers from a 1 yr old not the up to 25 advertised Second the plastic is so thin that ALL odors pass through it While the plastic does seal the diapers from leaking the odors pass right through The plastic is of incredibly cheap quality and thickness nowhere close to the quality of good outdoor plastic garbage bags The plastic has been scented with a scent I find repulsive The refills which are only available from Playtex are sold at a huge markup from their actual cost and only 5 refills cost more than the entire unit itselfConclusionIf I believed in conspiracy theories I might think the Diaper Genie was a cynical attempt by Playtex to get parents to consume expensive refills as fast as possible  At the very least it is a horrible product which is a complete waste of money You will be wise to save your money just buy some thick outdoor garbage bags and an inexpensive metal garbage can with a lid and youll have a much more effective inexpensive Diaper Genie of your own\n",
      "\n",
      "good  This is my third pregnancy my first I didnt get the luxury of having a body pillow just stacked up blankets or what I could to just go by then my second I got a long pillow and it did fine but my back always hurt Now as my back pains have started sooner having this pillow to have at night or when I can grab a quick nap  is perfect to help give me relief and comfort Its soft as well and makes it easier to relax anytime of day My recommendation over any other maternity pillow out there\n",
      "good  Great tub soft comfortable and safe Is a great solution for trips with small babies Requires careful if used with babies who already turn on their own\n",
      "good  After searching and buying many many sippy cups to find the perfect sippy cup i finally decided to buy these They work perfect for my 12 month old son I always skipped over this product because of the low price automatically made me think and the cups are cheap and do not work good I wished i bought this cup MONTHS ago it would have saved me so much money and trouble This is the perfect sippy cup does not spill or leak unless it is turned upside down but not to much Easy to take with me wherever i have to go The only thing is that i wish i can find more of the to go spout covers But these cups are so cheap I have no problem buying more\n",
      "good  This was one of many items I purchased for my sisters baby shower She loves these bottles and prefers these over any other brand of bottle Her baby never spits up and never has a belly ache She has never had an ear infection either These are truly amazing bottles Wish i could find them when I had my children\n",
      "good  I bought this for my wife because she is pregnant She uses it every night along with about 12 other pillows and she really likes it\n",
      "good  they work well when comes to keeping the baby from playing with the stove However it is tricky to take off when needed to use it\n",
      "good  Ive used the wide bottles for each of my 3 kids as it most closely resembles the breast Ive had no issues with leaking from the bottles and the nipples a well constructed and take quite a bit of abuse My kids prefer the fast flow pretty quickly so we stock on these early on\n",
      "good  This worked great for us  we didnt have the problems of some of the other reviewers  My daughter was 3 years and a few months and had some anxiety about using the potty  We had 2 other potty chairs but if I took her diaper off she just held it until she cried from a belly ache  She wouldnt pee until I put a diaper on her  We got this in the mail she sat and used it immediately She had no interest or use for the little book though  She was completely trained within two days probably because she had such great bladder control from holding it all day until mommy put a diaper on her  Now at 3 12 she still uses it  She gets her pants down and goes by herself  We dont have to take her pants all the way off and even though she is a tall three year old she fits comfortably her knees arent too high  The only thing is since there isnt a reservoir to remove you dump it out the side and have to wipe the whole thing off every time  But the potty is small and all one piece it isnt that big a deal and any potty you get you have to clean some wayNow if only we could get her transitioned to the toilet  We have an insert that works fine but she likes being able to carry to potty to where ever the family is to go  Shes a social pottier\n",
      "good  I wish it came with more travel tops Love these cups\n",
      "good  We bought a 3 pack of these for our daughter before she was born and after she was here found that they were wonderful  We went to Babies R us to buy more and they were out of stock so we got a pack of avent bottles  Unfortunately she was up crying all night that night with gas from the avent bottles they were horrible  We fortunately found more Dr Browns bottles at Toys R Us and I will not buy anything else from now on\n"
     ],
     "output_type": "stream"
    }
   ],
   "source": [
    "#c) \n",
    "def get_string(index):\n",
    "    if index<2600:\n",
    "        return baby_df.review[baby_df[\"rating\"] == -1].iloc[index]\n",
    "    else:\n",
    "        return baby_df.review[baby_df[\"rating\"] == 1].iloc[index]\n",
    "\n",
    "ind = np.argpartition(prob[:,0], -10)[-10:]\n",
    "for id in ind:\n",
    "    print('bad ',get_string(id))\n",
    "\n",
    "print()\n",
    "ind = np.argpartition(prob[:,1], -10)[-10:]\n",
    "for id in ind:\n",
    "    print('good ',get_string(id))\n",
    "\n",
    "#hint: use the results of b)"
   ]
  },
  {
   "cell_type": "code",
   "execution_count": 15,
   "metadata": {
    "pycharm": {
     "is_executing": false
    }
   },
   "outputs": [
    {
     "name": "stdout",
     "text": [
      "0.9107142857142857\n"
     ],
     "output_type": "stream"
    }
   ],
   "source": [
    "#d) \n",
    "from sklearn.metrics import accuracy_score\n",
    "print(accuracy_score(Y_test,y_pred))\n",
    "\n",
    "full_model = model\n",
    "full_test = X_test"
   ]
  },
  {
   "cell_type": "markdown",
   "metadata": {},
   "source": [
    "## Exercise 5\n",
    "In this exercise we will limit the dictionary of CountVectorizer to the set of significant words, defined below.\n",
    "\n",
    "\n",
    "a) Redo exercises 2-5 using limited dictionary.   \n",
    "b) Check the impact of all the words from the dictionary.   \n",
    "c) Compare accuracy of predictions and the time of evaluation."
   ]
  },
  {
   "cell_type": "code",
   "execution_count": 16,
   "metadata": {
    "pycharm": {
     "is_executing": false
    }
   },
   "outputs": [
    {
     "data": {
      "text/plain": "LogisticRegression(C=1.0, class_weight=None, dual=False, fit_intercept=True,\n                   intercept_scaling=1, l1_ratio=None, max_iter=100,\n                   multi_class='warn', n_jobs=None, penalty='l2',\n                   random_state=None, solver='warn', tol=0.0001, verbose=0,\n                   warm_start=False)"
     },
     "metadata": {},
     "output_type": "execute_result",
     "execution_count": 16
    }
   ],
   "source": [
    "#a)\n",
    "vectorizer = CountVectorizer(vocabulary = \n",
    "['love','great','easy','old','little','perfect','loves',\n",
    " 'well','able','car','broke','less','even','waste',\n",
    " 'disappointed','work','product','money','would','return'])\n",
    "\n",
    "vectors = vectorizer.fit_transform(baby_df.review)\n",
    "negative = vectors[baby_df.index[baby_df[\"rating\"] == -1]]\n",
    "positive = vectors[baby_df.index[baby_df[\"rating\"] == 1]]\n",
    "\n",
    "from scipy.sparse import vstack\n",
    "X_train = vstack([negative[2600:],\n",
    "                positive[10000:]])\n",
    "X_test = vstack([negative[:2600],\n",
    "                positive[:10000]])\n",
    "\n",
    "Y_test = np.array([-1]*2600+[1]*10000)\n",
    "Y_train = np.array([-1]*(negative.shape[0]-2600)+[1]*(positive.shape[0]-10000))\n",
    "\n",
    "model = LogisticRegression()\n",
    "model.fit(X_train,Y_train)"
   ]
  },
  {
   "cell_type": "code",
   "execution_count": 17,
   "metadata": {
    "pycharm": {
     "is_executing": false
    }
   },
   "outputs": [
    {
     "name": "stdout",
     "text": [
      "worst ['broke' 'return' 'would' 'money' 'product' 'work' 'disappointed' 'waste'\n",
      " 'even' 'less']\n",
      "the best ['car' 'great' 'able' 'well' 'loves' 'perfect' 'little' 'old' 'easy'\n",
      " 'love']\n",
      "Full dictionary 0.9107142857142857\n",
      "Limited dictionary 0.8262698412698413\n"
     ],
     "output_type": "stream"
    }
   ],
   "source": [
    "#b)\n",
    "\n",
    "weights = model.coef_\n",
    "ind = np.argpartition(weights[0], 10)[:10]\n",
    "print('worst',np.array(vectorizer.get_feature_names())[ind])\n",
    "\n",
    "ind = np.argpartition(weights[0], -10)[-10:]\n",
    "print('the best',np.array(vectorizer.get_feature_names())[ind])\n",
    "\n",
    "y_pred = model.predict(X_test)\n",
    "# print(y_pred)\n",
    "\n",
    "prob = model.predict_proba(X_test)\n",
    "# print(prob)\n",
    "\n",
    "print(\"Full dictionary\",accuracy_score(Y_test,full_model.predict(full_test)))\n",
    "print(\"Limited dictionary\",accuracy_score(Y_test,y_pred))"
   ]
  },
  {
   "cell_type": "code",
   "execution_count": 18,
   "metadata": {
    "pycharm": {
     "is_executing": false,
     "name": "#%%\n"
    }
   },
   "outputs": [
    {
     "name": "stdout",
     "text": [
      "2.4 ms ± 59.6 µs per loop (mean ± std. dev. of 7 runs, 100 loops each)\n",
      "324 µs ± 59.9 µs per loop (mean ± std. dev. of 7 runs, 1000 loops each)\n"
     ],
     "output_type": "stream"
    }
   ],
   "source": [
    "\n",
    "#c)\n",
    "%timeit full_prediction = full_model.predict(full_test)\n",
    "\n",
    "%timeit limited_prediction = model.predict(X_test)\n",
    "#hint: %time, %timeit"
   ]
  },
  {
   "cell_type": "code",
   "execution_count": 18,
   "outputs": [],
   "source": [],
   "metadata": {
    "collapsed": false,
    "pycharm": {
     "name": "#%%\n",
     "is_executing": false
    }
   }
  },
  {
   "cell_type": "code",
   "execution_count": null,
   "outputs": [],
   "source": [
    "\n"
   ],
   "metadata": {
    "collapsed": false,
    "pycharm": {
     "name": "#%%\n"
    }
   }
  }
 ],
 "metadata": {
  "kernelspec": {
   "name": "pycharm-e230bcc",
   "language": "python",
   "display_name": "PyCharm (deeplearning)"
  },
  "language_info": {
   "codemirror_mode": {
    "name": "ipython",
    "version": 3
   },
   "file_extension": ".py",
   "mimetype": "text/x-python",
   "name": "python",
   "nbconvert_exporter": "python",
   "pygments_lexer": "ipython3",
   "version": "3.6.7"
  },
  "pycharm": {
   "stem_cell": {
    "cell_type": "raw",
    "source": [],
    "metadata": {
     "collapsed": false
    }
   }
  }
 },
 "nbformat": 4,
 "nbformat_minor": 2
}