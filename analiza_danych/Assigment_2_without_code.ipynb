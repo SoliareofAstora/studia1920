{
 "cells": [
  {
   "cell_type": "code",
   "execution_count": 2,
   "metadata": {
    "collapsed": true,
    "pycharm": {
     "is_executing": false
    }
   },
   "outputs": [],
   "source": [
    "import pandas as pd\n",
    "import numpy as np\n",
    "import matplotlib.pyplot as plt\n",
    "from sklearn.linear_model import LinearRegression\n",
    "from sklearn.model_selection import train_test_split\n",
    "from sklearn.metrics import mean_squared_error\n",
    "from sklearn.preprocessing import PolynomialFeatures\n",
    "\n",
    "house_df = pd.read_csv('kc_house_data.csv')"
   ]
  },
  {
   "cell_type": "markdown",
   "metadata": {},
   "source": [
    "## Exercise 1\n",
    "a) Create and train simple regression model of sqft_living to price.  \n",
    "b) Evaluate and visualise created model.  \n",
    "c) Create and plot higher order polynomial regression models."
   ]
  },
  {
   "cell_type": "code",
   "execution_count": 3,
   "metadata": {
    "collapsed": false,
    "pycharm": {
     "is_executing": false
    }
   },
   "outputs": [],
   "source": [
    "#a)\n",
    "\n",
    "X = house_df.sqft_living.values.reshape(-1,1)[:1000]\n",
    "y = house_df.price.values.reshape(-1)[:1000]\n",
    "\n",
    "model = LinearRegression() \n",
    "\n",
    "#Your code:\n",
    "\n",
    "\n",
    "#Hint: .fit()"
   ]
  },
  {
   "cell_type": "code",
   "execution_count": 4,
   "metadata": {
    "collapsed": false,
    "pycharm": {
     "is_executing": false
    }
   },
   "outputs": [],
   "source": [
    "#b)\n",
    "\n",
    "#Your code:\n",
    "\n",
    "#Hint: model.predict(), model.intercept_,  model.coef_, model.score()"
   ]
  },
  {
   "cell_type": "code",
   "execution_count": 5,
   "metadata": {
    "collapsed": false,
    "pycharm": {
     "is_executing": false
    }
   },
   "outputs": [],
   "source": [
    "#c)\n",
    "\n",
    "for order in range(1,9):\n",
    "    \n",
    "    poly = PolynomialFeatures(order, include_bias = False)\n",
    "    X_order = poly.fit_transform(X)\n",
    "    \n",
    "    #Your code:\n"
   ]
  },
  {
   "cell_type": "code",
   "execution_count": 6,
   "metadata": {
    "collapsed": false,
    "pycharm": {
     "is_executing": false
    }
   },
   "outputs": [],
   "source": [
    "#Your code:\n"
   ]
  },
  {
   "cell_type": "markdown",
   "metadata": {},
   "source": [
    "## Exercise 2\n",
    "In reality, we are not given the full dataset, so we need to create models which are able to handle unknown data.  \n",
    "a) Split your data into training sample and test sample and repeat exercise 1 c). Plot training and test errors for all models. "
   ]
  },
  {
   "cell_type": "code",
   "execution_count": 7,
   "metadata": {
    "collapsed": false,
    "pycharm": {
     "is_executing": false
    }
   },
   "outputs": [],
   "source": [
    "#a)\n",
    "\n",
    "for order in range(1,9):\n",
    "    \n",
    "    X_train, X_test, y_train, y_test = train_test_split(X_order, y, test_size=0.3, random_state=44)\n",
    "    \n",
    "    ..."
   ]
  },
  {
   "cell_type": "markdown",
   "metadata": {},
   "source": [
    "## Exercise 3\n",
    "a) Train model to predict sqft_living for a given house price. Plot predictions.  \n",
    "b) Apply more features and propose better model for predicting house prices. Try to beat proposed one."
   ]
  },
  {
   "cell_type": "code",
   "execution_count": 8,
   "metadata": {
    "collapsed": false,
    "pycharm": {
     "is_executing": false
    }
   },
   "outputs": [],
   "source": [
    "#a)\n",
    "\n",
    "X = house_df.price.values.reshape(-1,1)[:1000]\n",
    "y = house_df.sqft_living.values.reshape(-1)[:1000]\n",
    "\n",
    "#Your code:\n"
   ]
  },
  {
   "cell_type": "code",
   "execution_count": 9,
   "metadata": {
    "collapsed": false,
    "pycharm": {
     "is_executing": false
    }
   },
   "outputs": [
    {
     "name": "stdout",
     "text": [
      "Mean squared error equals: 48749581797.04599\n"
     ],
     "output_type": "stream"
    }
   ],
   "source": [
    "#b) Let's propose model, which uses living sqft, lot sqft, grade, view and all of their interactions up to third degree\n",
    "\n",
    "X = house_df[['sqft_living', 'sqft_lot', 'grade', 'view']].values.reshape(-1,4)\n",
    "y = house_df.price.values.reshape(-1)\n",
    "\n",
    "poly = PolynomialFeatures(3, include_bias = False)\n",
    "X = poly.fit_transform(X)\n",
    "\n",
    "X_train, X_test, y_train, y_test = train_test_split(X, y, test_size=0.5, random_state=43)\n",
    "    \n",
    "model = LinearRegression() \n",
    "_= model.fit(X_train, y_train) \n",
    "\n",
    "y_pred = model.predict(X_test)\n",
    "print(\"Mean squared error equals: {0}\".format(mean_squared_error(y_pred, y_test)))\n",
    "\n",
    "\n",
    "#Your model:\n"
   ]
  }
 ],
 "metadata": {
  "anaconda-cloud": {},
  "kernelspec": {
   "name": "pycharm-e230bcc",
   "language": "python",
   "display_name": "PyCharm (deeplearning)"
  },
  "language_info": {
   "codemirror_mode": {
    "name": "ipython",
    "version": 2
   },
   "file_extension": ".py",
   "mimetype": "text/x-python",
   "name": "python",
   "nbconvert_exporter": "python",
   "pygments_lexer": "ipython2",
   "version": "2.7.12"
  }
 },
 "nbformat": 4,
 "nbformat_minor": 2
}