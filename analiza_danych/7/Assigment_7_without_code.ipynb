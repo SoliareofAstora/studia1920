{
 "cells": [
  {
   "cell_type": "code",
   "execution_count": 2,
   "metadata": {
    "pycharm": {
     "is_executing": false
    }
   },
   "outputs": [],
   "source": [
    "import numpy as np\n",
    "import pandas as pd\n",
    "from scipy.stats import norm, expon, chi2, uniform\n",
    "import matplotlib.pyplot as plt\n",
    "%matplotlib inline"
   ]
  },
  {
   "cell_type": "markdown",
   "metadata": {},
   "source": [
    "# Foundations for statistical inference - Confidence intervals\n",
    "\n",
    "Based on OpenIntro Labs for Python: https://github.com/vaksakalli/stats_tutorials, https://www.openintro.org/book/os/\n",
    "\n",
    "## Sampling from King County\n",
    "\n",
    "Let's first load the data that we already know: the official public records of all 21613 home sales from May 2014 through May 2015 in the King County area, Washington State (https://rstudio-pubs-static.s3.amazonaws.com/155304_cc51f448116744069664b35e7762999f.html). "
   ]
  },
  {
   "cell_type": "code",
   "execution_count": 3,
   "metadata": {
    "pycharm": {
     "is_executing": false
    }
   },
   "outputs": [],
   "source": [
    "house_df = pd.read_csv('../kc_house_data.csv')"
   ]
  },
  {
   "cell_type": "markdown",
   "metadata": {},
   "source": [
    "This is what we would call a \"population\", that is *all* home sales in that period in that area. It allows to answer questions like, \"How big is the typical house sold in King County in 2014?\" and \"How much variation is there in sizes of houses sold in that area in that period?\".\n",
    "\n",
    "Gathering information on an entire population is often extremely costly or impossible, and so having access to it is rarely the case in real life. Because of this, we often take a *sample* of the population and use that to understand the properties of the population.\n",
    "\n",
    "If you have access to only a sample of the population, answering the above questions becomes more complicated. What is your best guess for the typical size if you only know the sizes of several dozen houses? Guessing from samples to conclude about the population is called *inference*."
   ]
  },
  {
   "cell_type": "markdown",
   "metadata": {},
   "source": [
    "### Exercise 1\n",
    "a) take a sample of N=100 random house prices, and compare histograms, means, and standard deviations of the sample and the population. Repeat it several times and observe what changes."
   ]
  },
  {
   "cell_type": "code",
   "execution_count": 4,
   "metadata": {
    "pycharm": {
     "is_executing": false
    }
   },
   "outputs": [
    {
     "name": "stdout",
     "text": [
      "Distribution mean: 540088.1417665294\n",
      "Sample mean: 538390.95\n",
      "Distribution standard deviation: 367118.7031813723\n",
      "Sample standard deviation 382615.2906116632\n"
     ],
     "output_type": "stream"
    }
   ],
   "source": [
    "prices=house_df[\"price\"]\n",
    "np.random.shuffle(prices.values)\n",
    "sample_prices = prices[:100]\n",
    "\n",
    "\n",
    "print(\"Distribution mean:\" ,np.average(prices))\n",
    "print(\"Sample mean:\" ,np.average(sample_prices))\n",
    "print(\"Distribution standard deviation:\" ,np.std(prices))\n",
    "print(\"Sample standard deviation\" ,np.std(sample_prices))\n",
    "#Distribution mean: 540088.1\n",
    "# Sample mean: 472884.5\n",
    "# Distribution standard deviation: 367127.2\n",
    "# Sample standard deviation 230404.9\n"
   ]
  },
  {
   "cell_type": "markdown",
   "metadata": {},
   "source": [
    "Not surprisingly, every time we take another random sample, we get a different sample mean. It's useful to get a sense of just how much variability we should expect when estimating the population mean this way. The distribution of sample means, called the *sampling distribution*, can help us understand this variability. Here, because we have access to the population, we can build up the sampling distribution for the sample mean by repeating the above steps many times."
   ]
  },
  {
   "cell_type": "markdown",
   "metadata": {},
   "source": [
    "b) generate 1000 samples and compute the sample mean of each. Plot the sampling distribution against the population mean."
   ]
  },
  {
   "cell_type": "code",
   "execution_count": 5,
   "metadata": {
    "pycharm": {
     "is_executing": false
    }
   },
   "outputs": [
    {
     "data": {
      "text/plain": "<Figure size 432x288 with 1 Axes>",
      "image/png": "[encoded data removed]"
     },
     "metadata": {
      "needs_background": "light"
     },
     "output_type": "display_data"
    }
   ],
   "source": [
    "rv = norm(loc = 0, scale = 10)\n",
    "res = []\n",
    "for j in range(1000):\n",
    "    res.append(np.mean(rv.rvs(size=1000)))\n",
    "plt.hist(res,density=True, histtype='stepfilled', alpha=0.3, bins = 20)\n",
    "plt.axvline(x=0)\n",
    "plt.show()"
   ]
  },
  {
   "cell_type": "markdown",
   "metadata": {},
   "source": [
    "Because the sample mean is an unbiased estimator, the sampling distribution is centered at the true average living area of the the population, and the spread of the distribution indicates how much variability is induced by sampling only 100 home sales.\n",
    "The standard deviation of sampling distribution is called the *standard error (SE)* of a statistic. If the parameter or the statistic is the mean, it is called the *standard error of the mean (SEM)*.\n",
    "\n",
    "To get a sense of the effect that sample size has on our distribution, let's build up more sampling distributions:\n",
    "\n",
    "c) build sampling distributions for $N=2, 4, 8, ..., 4096$, compute their standard deviations, plot them on logarithmic-logarithimics scale, and compare them to $1/\\sqrt{N}$."
   ]
  },
  {
   "cell_type": "code",
   "execution_count": 6,
   "metadata": {
    "pycharm": {
     "is_executing": false
    }
   },
   "outputs": [
    {
     "data": {
      "text/plain": "<Figure size 432x288 with 1 Axes>",
      "image/png": "[encoded data removed]"
     },
     "metadata": {
      "needs_background": "light"
     },
     "output_type": "display_data"
    }
   ],
   "source": [
    "rv = norm(loc = 0, scale = 1)\n",
    "res = []\n",
    "steps = [2,4,8,16,32,64,128,256,512,1024,2048,4096,8192,16384,32768,65536]\n",
    "for j in steps:\n",
    "    tmp = []\n",
    "    for i in range(100):\n",
    "        tmp.append(np.std(rv.rvs(size=j)))\n",
    "    res.append(np.std(tmp))\n",
    "plt.plot(steps,res)\n",
    "plt.scatter(steps, np.divide(1,np.sqrt(steps)))\n",
    "plt.xscale('log')\n",
    "plt.yscale(\"log\")\n",
    "plt.show()"
   ]
  },
  {
   "cell_type": "markdown",
   "metadata": {},
   "source": [
    "As expected (https://en.wikipedia.org/wiki/Standard_error#Standard_error_of_the_mean) SEM behaves like $\\propto 1/\\sqrt{N}$, which means that the larger sample you have, the more precise estimate of the population mean you can derive."
   ]
  },
  {
   "cell_type": "markdown",
   "metadata": {},
   "source": [
    "## Confidence intervals\n",
    "One of the most common ways to describe the typical or central value of a distribution is to use *point estimate*, i.e., a single plausible value for a parameter, e.g., the sample mean (usually denoted as $\\bar{x}$). However, usually there is some error in the estimate. In addition to supplying a point estimate of a parameter, a next logical step would be to provide a plausible range of values, in our case a *confidence interval*.\n",
    "\n",
    "After setting the *confidence level* (the probability that the parameter lies in a given interval), usually 95%, we can compute the confidence interval (CI) for the sample mean.\n",
    "If the sampling distribution is normally distributed one can do it by adding and subtracting 1.96 standard errors to the point estimate: $\\bar{x}\\pm 1.96\\times SE$."
   ]
  },
  {
   "cell_type": "code",
   "execution_count": 7,
   "metadata": {
    "pycharm": {
     "is_executing": false
    }
   },
   "outputs": [
    {
     "name": "stdout",
     "text": [
      "lower 461029.0245780372 upper 579668.3954219628\n"
     ],
     "output_type": "stream"
    }
   ],
   "source": [
    "sample_prices = prices.sample(100)\n",
    "sample_mean=sample_prices.mean()\n",
    "se = np.std(sample_prices)/np.sqrt(100)\n",
    "lower = sample_mean - (1.96 * se)\n",
    "upper = sample_mean + (1.96 * se)\n",
    "print(\"lower\",lower, \"upper\",upper)\n",
    "\n"
   ]
  },
  {
   "cell_type": "markdown",
   "metadata": {},
   "source": [
    "This is an important inference that we've just made: even though we don't know what the full population looks like, we're 95% confident that the true average price of houses sold in Kings County lies between the values `lower` and `upper`. There are a few conditions that must be met for this interval to be valid."
   ]
  },
  {
   "cell_type": "markdown",
   "metadata": {},
   "source": [
    "## Exercise 2\n",
    "a) generate a normal distribution with the mean and standard deviation equal to the ones from the price distribution.\n",
    "Compute the probability (use *cumulative distribution function*, `cdf`) of the random variable lying inside the interval $[\\mu-1.96\\times \\sigma,\\mu+1.96\\times \\sigma]$ (where $\\mu$ and $\\sigma$ are population parameters).\n",
    "Plot it.\n",
    "Compute a 99% confidence interval (use `interval`)."
   ]
  },
  {
   "cell_type": "code",
   "execution_count": 8,
   "metadata": {
    "pycharm": {
     "is_executing": false
    }
   },
   "outputs": [
    {
     "name": "stdout",
     "text": [
      "0.950004209703559\n"
     ],
     "output_type": "stream"
    },
    {
     "data": {
      "text/plain": "<Figure size 432x288 with 1 Axes>",
      "image/png": "[encoded data removed]"
     },
     "metadata": {
      "needs_background": "light"
     },
     "output_type": "display_data"
    }
   ],
   "source": [
    "# Distribution mean: 540088.1\n",
    "# Sample mean: 472884.5\n",
    "# Distribution standard deviation: 367127.2\n",
    "# Sample standard deviation 230404.9\n",
    "# lower 462563.6291840892 upper 582595.1508159109\n",
    "u = 540088.1\n",
    "sigma = 367127.2\n",
    "\n",
    "# def fun(x):\n",
    "#     return (1/sigma*np.sqrt(2*np.pi))*np.exp((-1/2)*np.power((x-u)/sigma,2))\n",
    "\n",
    "def fun(x):\n",
    "    return (1 / (np.sqrt(2 * np.pi * np.power(sigma, 2))))*(np.power(np.e, -(np.power((x - u), 2) / (2 * np.power(sigma, 2)))))\n",
    "\n",
    "\n",
    "\n",
    "linsp = np.linspace(-1000000,2000000,10000)\n",
    "rv_norm = norm(loc = u, scale = sigma)\n",
    "data = rv_norm.rvs(10000)\n",
    "plt.hist(data,bins=100, density=True)\n",
    "plt.plot(linsp,fun(linsp))\n",
    "lines = rv_norm.interval(0.99)\n",
    "plt.axvline(lines[0])\n",
    "plt.axvline(lines[1])\n",
    "\n",
    "plt.plot\n",
    "\n",
    "border = rv_norm.cdf([u-1.96*sigma,u+1.96*sigma])\n",
    "print(border[1]-border[0])\n",
    "\n",
    "\n",
    "\n"
   ]
  },
  {
   "cell_type": "markdown",
   "metadata": {},
   "source": [
    "b) generate a sample of $N=10 000$ normally distributed random numbers with the mean and standard deviation equal to the ones from the price distribution.\n",
    "Compute the mean and standard deviation of such a sample.\n",
    "Compute what percentage of numbers lie outside of the interval: $[\\bar{x}-1.96\\times SD,\\bar{x}+1.96\\times SD]$."
   ]
  },
  {
   "cell_type": "code",
   "execution_count": 9,
   "metadata": {
    "pycharm": {
     "is_executing": false
    }
   },
   "outputs": [
    {
     "name": "stdout",
     "text": [
      "0.0528\n"
     ],
     "output_type": "stream"
    }
   ],
   "source": [
    "data = rv_norm.rvs(10000)\n",
    "mean = np.average(data)\n",
    "std = np.std(data)\n",
    "\n",
    "print((np.sum(data<mean-1.96*std)+np.sum(data>mean+1.96*std))/10000)\n",
    "# your code"
   ]
  },
  {
   "cell_type": "markdown",
   "metadata": {},
   "source": [
    "c) take $N=1000$ samples of size $n=50$ from the data prices.\n",
    "For each sample compute mean, SEM and a confidence interval. Check if the *true population mean* lies within or without the CI.\n",
    "What is the percentage of instances that the true mean what not in the CI?"
   ]
  },
  {
   "cell_type": "code",
   "execution_count": 38,
   "metadata": {
    "pycharm": {
     "is_executing": false
    }
   },
   "outputs": [
    {
     "data": {
      "text/plain": "0.0"
     },
     "metadata": {},
     "output_type": "execute_result",
     "execution_count": 38
    }
   ],
   "source": [
    "#Nie poradziłem sobie z tym neistety\n",
    "result = []\n",
    "for i in range(1000):\n",
    "    np.random.shuffle(prices.values)\n",
    "    sample = prices[:50]\n",
    "    mean = sample.mean()\n",
    "    se = np.std(sample)\n",
    "    lower = mean - (1.96 * se)\n",
    "    upper = mean + (1.96 * se)\n",
    "    if lower < u < upper:\n",
    "        result.append(0)\n",
    "    else:\n",
    "        result.append(1)\n",
    "np.sum(result)/1000\n",
    "# your code"
   ]
  },
  {
   "cell_type": "markdown",
   "metadata": {},
   "source": [
    "Now, look again at the result Ex.2b and the meaning of confidence level.\n",
    "A 95% confidence level does not state that for a given realized interval there is a 95% probability that the population parameter lies within the interval (i.e., a 95% probability that the interval covers the population parameter).\n",
    "The confidence level states that 95% of randomly chosen samples produce confidence interval that cover the population parameter, and 5% of samples have CIs that do not cover the true value.\n",
    "\n",
    "For reference, see: https://en.wikipedia.org/wiki/Confidence_interval#Meaning_and_interpretation"
   ]
  },
  {
   "cell_type": "markdown",
   "metadata": {},
   "source": [
    "# Inference for numerical data\n",
    "## North Carolina births\n",
    "In 2004, the state of North Carolina released a large data set containing information on births recorded in this state. This data set is useful to researchers studying the relation between habits and practices of expectant mothers and the birth of their children. We will work with a random sample of observations from this data set.\n",
    "\n",
    "Load the `nc` data set into our notebook."
   ]
  },
  {
   "cell_type": "code",
   "execution_count": 11,
   "metadata": {
    "pycharm": {
     "is_executing": false
    }
   },
   "outputs": [],
   "source": [
    "nc = pd.read_csv('https://www.openintro.org/stat/data/nc.csv')"
   ]
  },
  {
   "cell_type": "markdown",
   "metadata": {},
   "source": [
    "We have observations on 13 different variables, some categorical and some numerical. The meaning of each variable is as follows.\n",
    "\n",
    "| variable         | description |\n",
    "| ---------------- | ------------|\n",
    "| `fage`           | father's age in years. |\n",
    "| `mage`           | mother's age in years. |\n",
    "| `mature`         | maturity status of mother. |\n",
    "| `weeks`          | length of pregnancy in weeks. |\n",
    "| `premie`         | whether the birth was classified as premature (premie) or full-term. |\n",
    "| `visits`         | number of hospital visits during pregnancy. |\n",
    "| `marital`        | whether mother is `married` or `not married` at birth. |\n",
    "| `gained`         | weight gained by mother during pregnancy in pounds. |\n",
    "| `weight`         | weight of the baby at birth in pounds. |\n",
    "| `lowbirthweight` | whether baby was classified as low birthweight (`low`) or not (`not low`). |\n",
    "| `gender`         | gender of the baby, `female` or `male`. |\n",
    "| `habit`          | status of the mother as a `nonsmoker` or a `smoker`. |\n",
    "| `whitemom`       | whether mom is `white` or `not white`. |"
   ]
  },
  {
   "cell_type": "markdown",
   "metadata": {},
   "source": [
    "## Exercise 3\n",
    "Consider the possible relationship between a mother's smoking habit and the weight of her baby.\n",
    "\n",
    "a) plot histograms of baby weights for smoker and non-smoker mothers. Compute means of these two groups (use `groupby`)."
   ]
  },
  {
   "cell_type": "code",
   "execution_count": 25,
   "metadata": {
    "pycharm": {
     "is_executing": false
    }
   },
   "outputs": [
    {
     "data": {
      "text/plain": "<Figure size 432x288 with 1 Axes>",
      "image/png": "[encoded data removed]"
     },
     "metadata": {
      "needs_background": "light"
     },
     "output_type": "display_data"
    }
   ],
   "source": [
    "nc_weightANDsmoker = nc[nc.habit==\"smoker\"].weight\n",
    "nc_weightANDnonsmoker = nc[nc.habit==\"nonsmoker\"].weight\n",
    "\n",
    "plt.hist(nc_weightANDnonsmoker, alpha=0.3,label=\"no smoker\",density=True)\n",
    "plt.hist(nc_weightANDsmoker, alpha=0.3,label=\"smoker\", density=True)\n",
    "plt.legend()\n",
    "plt.show()"
   ]
  },
  {
   "cell_type": "code",
   "execution_count": 26,
   "outputs": [
    {
     "data": {
      "text/plain": "habit\nnonsmoker    7.144273\nsmoker       6.828730\nName: weight, dtype: float64"
     },
     "metadata": {},
     "output_type": "execute_result",
     "execution_count": 26
    }
   ],
   "source": [
    "nc.groupby(nc.habit).mean().weight"
   ],
   "metadata": {
    "collapsed": false,
    "pycharm": {
     "name": "#%%\n",
     "is_executing": false
    }
   }
  },
  {
   "cell_type": "markdown",
   "metadata": {},
   "source": [
    "We will now conduct hypothesis tests for testing if the average weights of babies born to smoking and non-smoking mothers are different. For this task, we can use [`statsmodels`](https://www.statsmodels.org/stable/index.html), a Python module that provides classes and functions for the estimation of many different statistical models, as well as for conducting statistical tests, and statistical data exploration.\n",
    "\n",
    "b) use `DescrStatsW` to compute means and sample sizes. Then use `CompareMeans` to perform a t-test for difference between the two means, compute CI of the difference and find the p-value. Assuming we set a significance level of 0.05 to reach any conclusion, what is the verdict?"
   ]
  },
  {
   "cell_type": "code",
   "execution_count": 27,
   "metadata": {
    "pycharm": {
     "is_executing": false
    }
   },
   "outputs": [
    {
     "data": {
      "text/plain": "<class 'statsmodels.iolib.table.SimpleTable'>",
      "text/html": "<table class=\"simpletable\">\n<caption>Test for equality of means</caption>\n<tr>\n      <td></td>         <th>coef</th>     <th>std err</th>      <th>t</th>      <th>P>|t|</th>  <th>[0.025</th>    <th>0.975]</th>  \n</tr>\n<tr>\n  <th>subset #1</th> <td>   -0.3155</td> <td>    0.143</td> <td>   -2.203</td> <td> 0.028</td> <td>   -0.597</td> <td>   -0.035</td>\n</tr>\n</table>"
     },
     "metadata": {},
     "output_type": "execute_result",
     "execution_count": 27
    }
   ],
   "source": [
    "import statsmodels.stats.weightstats as st\n",
    "\n",
    "\n",
    "dsw1 = st.DescrStatsW(nc_weightANDsmoker)\n",
    "dsw2 = st.DescrStatsW(nc_weightANDnonsmoker)\n",
    "cm = st.CompareMeans(dsw1, dsw2)\n",
    "\n",
    "cm.summary()"
   ]
  },
  {
   "cell_type": "markdown",
   "metadata": {},
   "source": [
    "c) the caveat is that we have not checked t-test assumptions: normality and equal variances of the two samples.\n",
    "Let's use Shapiro-Wilk for the former, and Levene test for the latter.\n",
    "And since the assumptions of Student's t-test will turn out to be not fulfilled, let's use Mann-Whitney's U test to compare the two groups."
   ]
  },
  {
   "cell_type": "code",
   "execution_count": 37,
   "metadata": {
    "pycharm": {
     "is_executing": false
    }
   },
   "outputs": [
    {
     "name": "stdout",
     "text": [
      "smoker\n",
      "stat 0.9442487955093384 p 5.527625762624666e-05\n",
      "\n",
      "smoker\n",
      "stat 0.9260313510894775 p 2.6304698908355736e-20\n",
      "LeveneResult(statistic=0.2606612542534784, pvalue=0.6097792469101571)\n",
      "MannwhitneyuResult(statistic=46616.0, pvalue=0.0028108860531398934)\n"
     ],
     "output_type": "stream"
    }
   ],
   "source": [
    "from scipy.stats import shapiro, levene, mannwhitneyu\n",
    "\n",
    "stat, p = shapiro(nc_weightANDsmoker)\n",
    "print(\"smoker\")\n",
    "print(\"stat\",stat,\"p\",p)\n",
    "\n",
    "print()\n",
    "stat, p = shapiro(nc_weightANDnonsmoker)\n",
    "print(\"smoker\")\n",
    "print(\"stat\",stat,\"p\",p)\n",
    "\n",
    "\n",
    "print(levene(nc_weightANDsmoker,nc_weightANDnonsmoker))\n",
    "print(mannwhitneyu(nc_weightANDnonsmoker,nc_weightANDsmoker))"
   ]
  },
  {
   "cell_type": "markdown",
   "metadata": {},
   "source": [
    "Which means you'd better quit smoking."
   ]
  }
 ],
 "metadata": {
  "kernelspec": {
   "name": "pycharm-e230bcc",
   "language": "python",
   "display_name": "PyCharm (deeplearning)"
  },
  "language_info": {
   "codemirror_mode": {
    "name": "ipython",
    "version": 3
   },
   "file_extension": ".py",
   "mimetype": "text/x-python",
   "name": "python",
   "nbconvert_exporter": "python",
   "pygments_lexer": "ipython3",
   "version": "3.7.4"
  },
  "pycharm": {
   "stem_cell": {
    "cell_type": "raw",
    "source": [],
    "metadata": {
     "collapsed": false
    }
   }
  }
 },
 "nbformat": 4,
 "nbformat_minor": 4
}