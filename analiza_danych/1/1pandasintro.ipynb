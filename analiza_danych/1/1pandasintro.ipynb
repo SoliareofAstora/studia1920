{
 "cells": [
  {
   "cell_type": "code",
   "execution_count": 1,
   "metadata": {
    "pycharm": {
     "is_executing": false
    }
   },
   "outputs": [],
   "source": [
    "import numpy as np\n",
    "import pandas as pd"
   ]
  },
  {
   "cell_type": "markdown",
   "metadata": {},
   "source": [
    "## Object creation"
   ]
  },
  {
   "cell_type": "code",
   "execution_count": 2,
   "metadata": {
    "pycharm": {
     "is_executing": false
    }
   },
   "outputs": [
    {
     "data": {
      "text/plain": "0    1.0\n1    3.0\n2    5.0\n3    NaN\n4    6.0\n5    8.0\ndtype: float64"
     },
     "metadata": {},
     "output_type": "execute_result",
     "execution_count": 2
    }
   ],
   "source": [
    "s = pd.Series([1,3,5,np.nan, 6, 8])\n",
    "s"
   ]
  },
  {
   "cell_type": "code",
   "execution_count": 3,
   "metadata": {
    "pycharm": {
     "is_executing": false
    }
   },
   "outputs": [
    {
     "data": {
      "text/plain": "DatetimeIndex(['2019-10-01', '2019-10-02', '2019-10-03', '2019-10-04',\n               '2019-10-05', '2019-10-06', '2019-10-07', '2019-10-08',\n               '2019-10-09', '2019-10-10', '2019-10-11', '2019-10-12',\n               '2019-10-13', '2019-10-14', '2019-10-15', '2019-10-16'],\n              dtype='datetime64[ns]', freq='D')"
     },
     "metadata": {},
     "output_type": "execute_result",
     "execution_count": 3
    }
   ],
   "source": [
    "dates = pd.date_range('20191001',periods=16)\n",
    "dates"
   ]
  },
  {
   "cell_type": "code",
   "execution_count": 4,
   "metadata": {
    "pycharm": {
     "is_executing": false
    }
   },
   "outputs": [],
   "source": [
    "df = pd.DataFrame(np.random.rand(16,4),index=dates,columns=list('ABCD'))\n",
    "# ?np.random.randint\n",
    "# np.random.randint(0,high=10,size=(3,4))"
   ]
  },
  {
   "cell_type": "code",
   "execution_count": 5,
   "metadata": {
    "pycharm": {
     "is_executing": false
    }
   },
   "outputs": [
    {
     "data": {
      "text/plain": "     A          B    C  D      E    F\n0  1.0 2013-01-02  1.0  3   test  foo\n1  1.0 2013-01-02  1.0  3  train  foo\n2  1.0 2013-01-02  1.0  3   test  foo\n3  1.0 2013-01-02  1.0  3  train  foo",
      "text/html": "<div>\n<style scoped>\n    .dataframe tbody tr th:only-of-type {\n        vertical-align: middle;\n    }\n\n    .dataframe tbody tr th {\n        vertical-align: top;\n    }\n\n    .dataframe thead th {\n        text-align: right;\n    }\n</style>\n<table border=\"1\" class=\"dataframe\">\n  <thead>\n    <tr style=\"text-align: right;\">\n      <th></th>\n      <th>A</th>\n      <th>B</th>\n      <th>C</th>\n      <th>D</th>\n      <th>E</th>\n      <th>F</th>\n    </tr>\n  </thead>\n  <tbody>\n    <tr>\n      <td>0</td>\n      <td>1.0</td>\n      <td>2013-01-02</td>\n      <td>1.0</td>\n      <td>3</td>\n      <td>test</td>\n      <td>foo</td>\n    </tr>\n    <tr>\n      <td>1</td>\n      <td>1.0</td>\n      <td>2013-01-02</td>\n      <td>1.0</td>\n      <td>3</td>\n      <td>train</td>\n      <td>foo</td>\n    </tr>\n    <tr>\n      <td>2</td>\n      <td>1.0</td>\n      <td>2013-01-02</td>\n      <td>1.0</td>\n      <td>3</td>\n      <td>test</td>\n      <td>foo</td>\n    </tr>\n    <tr>\n      <td>3</td>\n      <td>1.0</td>\n      <td>2013-01-02</td>\n      <td>1.0</td>\n      <td>3</td>\n      <td>train</td>\n      <td>foo</td>\n    </tr>\n  </tbody>\n</table>\n</div>"
     },
     "metadata": {},
     "output_type": "execute_result",
     "execution_count": 5
    }
   ],
   "source": [
    "df2 = pd.DataFrame({'A': 1.,\n",
    "    ...:                    'B': pd.Timestamp('20130102'),\n",
    "   ...:                     'C': pd.Series(1, index=list(range(4)), dtype='float32'),\n",
    "   ...:                     'D': np.array([3] * 4, dtype='int32'),\n",
    "   ...:                     'E': pd.Categorical([\"test\", \"train\", \"test\", \"train\"]),\n",
    "   ...:                     'F': 'foo'})\n",
    "df2"
   ]
  },
  {
   "cell_type": "code",
   "execution_count": 6,
   "metadata": {
    "pycharm": {
     "is_executing": false
    }
   },
   "outputs": [],
   "source": [
    "df=df.rename(columns={'C':'buba'})"
   ]
  },
  {
   "cell_type": "markdown",
   "metadata": {},
   "source": [
    "### Manipulate"
   ]
  },
  {
   "cell_type": "code",
   "execution_count": 7,
   "metadata": {
    "pycharm": {
     "is_executing": false
    }
   },
   "outputs": [
    {
     "data": {
      "text/plain": "      2019-10-01  2019-10-02  2019-10-03  2019-10-04  2019-10-05  2019-10-06  \\\nA       0.856752    0.375948    0.234193    0.397636    0.566656    0.634553   \nB       0.360949    0.810313    0.249529    0.724435    0.585725    0.138856   \nbuba    0.644257    0.981498    0.302829    0.315116    0.972441    0.167947   \nD       0.943375    0.552257    0.374852    0.718836    0.900011    0.732863   \n\n      2019-10-07  2019-10-08  2019-10-09  2019-10-10  2019-10-11  2019-10-12  \\\nA       0.353361    0.225373    0.311273    0.503919    0.795028    0.178367   \nB       0.480261    0.333717    0.153111    0.711956    0.540691    0.098360   \nbuba    0.979224    0.357124    0.625143    0.514227    0.671000    0.318999   \nD       0.574875    0.366045    0.040719    0.221381    0.534273    0.242040   \n\n      2019-10-13  2019-10-14  2019-10-15  2019-10-16  \nA       0.781517    0.611202    0.617731    0.918375  \nB       0.047827    0.884589    0.630970    0.097588  \nbuba    0.858807    0.481673    0.341251    0.159629  \nD       0.348144    0.733428    0.466246    0.494655  ",
      "text/html": "<div>\n<style scoped>\n    .dataframe tbody tr th:only-of-type {\n        vertical-align: middle;\n    }\n\n    .dataframe tbody tr th {\n        vertical-align: top;\n    }\n\n    .dataframe thead th {\n        text-align: right;\n    }\n</style>\n<table border=\"1\" class=\"dataframe\">\n  <thead>\n    <tr style=\"text-align: right;\">\n      <th></th>\n      <th>2019-10-01</th>\n      <th>2019-10-02</th>\n      <th>2019-10-03</th>\n      <th>2019-10-04</th>\n      <th>2019-10-05</th>\n      <th>2019-10-06</th>\n      <th>2019-10-07</th>\n      <th>2019-10-08</th>\n      <th>2019-10-09</th>\n      <th>2019-10-10</th>\n      <th>2019-10-11</th>\n      <th>2019-10-12</th>\n      <th>2019-10-13</th>\n      <th>2019-10-14</th>\n      <th>2019-10-15</th>\n      <th>2019-10-16</th>\n    </tr>\n  </thead>\n  <tbody>\n    <tr>\n      <td>A</td>\n      <td>0.856752</td>\n      <td>0.375948</td>\n      <td>0.234193</td>\n      <td>0.397636</td>\n      <td>0.566656</td>\n      <td>0.634553</td>\n      <td>0.353361</td>\n      <td>0.225373</td>\n      <td>0.311273</td>\n      <td>0.503919</td>\n      <td>0.795028</td>\n      <td>0.178367</td>\n      <td>0.781517</td>\n      <td>0.611202</td>\n      <td>0.617731</td>\n      <td>0.918375</td>\n    </tr>\n    <tr>\n      <td>B</td>\n      <td>0.360949</td>\n      <td>0.810313</td>\n      <td>0.249529</td>\n      <td>0.724435</td>\n      <td>0.585725</td>\n      <td>0.138856</td>\n      <td>0.480261</td>\n      <td>0.333717</td>\n      <td>0.153111</td>\n      <td>0.711956</td>\n      <td>0.540691</td>\n      <td>0.098360</td>\n      <td>0.047827</td>\n      <td>0.884589</td>\n      <td>0.630970</td>\n      <td>0.097588</td>\n    </tr>\n    <tr>\n      <td>buba</td>\n      <td>0.644257</td>\n      <td>0.981498</td>\n      <td>0.302829</td>\n      <td>0.315116</td>\n      <td>0.972441</td>\n      <td>0.167947</td>\n      <td>0.979224</td>\n      <td>0.357124</td>\n      <td>0.625143</td>\n      <td>0.514227</td>\n      <td>0.671000</td>\n      <td>0.318999</td>\n      <td>0.858807</td>\n      <td>0.481673</td>\n      <td>0.341251</td>\n      <td>0.159629</td>\n    </tr>\n    <tr>\n      <td>D</td>\n      <td>0.943375</td>\n      <td>0.552257</td>\n      <td>0.374852</td>\n      <td>0.718836</td>\n      <td>0.900011</td>\n      <td>0.732863</td>\n      <td>0.574875</td>\n      <td>0.366045</td>\n      <td>0.040719</td>\n      <td>0.221381</td>\n      <td>0.534273</td>\n      <td>0.242040</td>\n      <td>0.348144</td>\n      <td>0.733428</td>\n      <td>0.466246</td>\n      <td>0.494655</td>\n    </tr>\n  </tbody>\n</table>\n</div>"
     },
     "metadata": {},
     "output_type": "execute_result",
     "execution_count": 7
    }
   ],
   "source": [
    "df.T"
   ]
  },
  {
   "cell_type": "code",
   "execution_count": 8,
   "metadata": {
    "scrolled": true,
    "pycharm": {
     "is_executing": false
    }
   },
   "outputs": [
    {
     "data": {
      "text/plain": "                buba         D         A         B\n2019-10-01  0.644257  0.943375  0.856752  0.360949\n2019-10-02  0.981498  0.552257  0.375948  0.810313\n2019-10-03  0.302829  0.374852  0.234193  0.249529\n2019-10-04  0.315116  0.718836  0.397636  0.724435\n2019-10-05  0.972441  0.900011  0.566656  0.585725\n2019-10-06  0.167947  0.732863  0.634553  0.138856\n2019-10-07  0.979224  0.574875  0.353361  0.480261\n2019-10-08  0.357124  0.366045  0.225373  0.333717\n2019-10-09  0.625143  0.040719  0.311273  0.153111\n2019-10-10  0.514227  0.221381  0.503919  0.711956\n2019-10-11  0.671000  0.534273  0.795028  0.540691\n2019-10-12  0.318999  0.242040  0.178367  0.098360\n2019-10-13  0.858807  0.348144  0.781517  0.047827\n2019-10-14  0.481673  0.733428  0.611202  0.884589\n2019-10-15  0.341251  0.466246  0.617731  0.630970\n2019-10-16  0.159629  0.494655  0.918375  0.097588",
      "text/html": "<div>\n<style scoped>\n    .dataframe tbody tr th:only-of-type {\n        vertical-align: middle;\n    }\n\n    .dataframe tbody tr th {\n        vertical-align: top;\n    }\n\n    .dataframe thead th {\n        text-align: right;\n    }\n</style>\n<table border=\"1\" class=\"dataframe\">\n  <thead>\n    <tr style=\"text-align: right;\">\n      <th></th>\n      <th>buba</th>\n      <th>D</th>\n      <th>A</th>\n      <th>B</th>\n    </tr>\n  </thead>\n  <tbody>\n    <tr>\n      <td>2019-10-01</td>\n      <td>0.644257</td>\n      <td>0.943375</td>\n      <td>0.856752</td>\n      <td>0.360949</td>\n    </tr>\n    <tr>\n      <td>2019-10-02</td>\n      <td>0.981498</td>\n      <td>0.552257</td>\n      <td>0.375948</td>\n      <td>0.810313</td>\n    </tr>\n    <tr>\n      <td>2019-10-03</td>\n      <td>0.302829</td>\n      <td>0.374852</td>\n      <td>0.234193</td>\n      <td>0.249529</td>\n    </tr>\n    <tr>\n      <td>2019-10-04</td>\n      <td>0.315116</td>\n      <td>0.718836</td>\n      <td>0.397636</td>\n      <td>0.724435</td>\n    </tr>\n    <tr>\n      <td>2019-10-05</td>\n      <td>0.972441</td>\n      <td>0.900011</td>\n      <td>0.566656</td>\n      <td>0.585725</td>\n    </tr>\n    <tr>\n      <td>2019-10-06</td>\n      <td>0.167947</td>\n      <td>0.732863</td>\n      <td>0.634553</td>\n      <td>0.138856</td>\n    </tr>\n    <tr>\n      <td>2019-10-07</td>\n      <td>0.979224</td>\n      <td>0.574875</td>\n      <td>0.353361</td>\n      <td>0.480261</td>\n    </tr>\n    <tr>\n      <td>2019-10-08</td>\n      <td>0.357124</td>\n      <td>0.366045</td>\n      <td>0.225373</td>\n      <td>0.333717</td>\n    </tr>\n    <tr>\n      <td>2019-10-09</td>\n      <td>0.625143</td>\n      <td>0.040719</td>\n      <td>0.311273</td>\n      <td>0.153111</td>\n    </tr>\n    <tr>\n      <td>2019-10-10</td>\n      <td>0.514227</td>\n      <td>0.221381</td>\n      <td>0.503919</td>\n      <td>0.711956</td>\n    </tr>\n    <tr>\n      <td>2019-10-11</td>\n      <td>0.671000</td>\n      <td>0.534273</td>\n      <td>0.795028</td>\n      <td>0.540691</td>\n    </tr>\n    <tr>\n      <td>2019-10-12</td>\n      <td>0.318999</td>\n      <td>0.242040</td>\n      <td>0.178367</td>\n      <td>0.098360</td>\n    </tr>\n    <tr>\n      <td>2019-10-13</td>\n      <td>0.858807</td>\n      <td>0.348144</td>\n      <td>0.781517</td>\n      <td>0.047827</td>\n    </tr>\n    <tr>\n      <td>2019-10-14</td>\n      <td>0.481673</td>\n      <td>0.733428</td>\n      <td>0.611202</td>\n      <td>0.884589</td>\n    </tr>\n    <tr>\n      <td>2019-10-15</td>\n      <td>0.341251</td>\n      <td>0.466246</td>\n      <td>0.617731</td>\n      <td>0.630970</td>\n    </tr>\n    <tr>\n      <td>2019-10-16</td>\n      <td>0.159629</td>\n      <td>0.494655</td>\n      <td>0.918375</td>\n      <td>0.097588</td>\n    </tr>\n  </tbody>\n</table>\n</div>"
     },
     "metadata": {},
     "output_type": "execute_result",
     "execution_count": 8
    }
   ],
   "source": [
    "df2.sort_index(axis=1,ascending=False)\n",
    "df2.sort_values(by='E',ascending=False)\n",
    "df.sort_values(by='2019-10-12',axis=1,ascending=False)"
   ]
  },
  {
   "cell_type": "code",
   "execution_count": 163,
   "metadata": {},
   "outputs": [
    {
     "data": {
      "text/html": [
       "<div>\n",
       "<style scoped>\n",
       "    .dataframe tbody tr th:only-of-type {\n",
       "        vertical-align: middle;\n",
       "    }\n",
       "\n",
       "    .dataframe tbody tr th {\n",
       "        vertical-align: top;\n",
       "    }\n",
       "\n",
       "    .dataframe thead th {\n",
       "        text-align: right;\n",
       "    }\n",
       "</style>\n",
       "<table border=\"1\" class=\"dataframe\">\n",
       "  <thead>\n",
       "    <tr style=\"text-align: right;\">\n",
       "      <th></th>\n",
       "      <th>B</th>\n",
       "      <th>C</th>\n",
       "      <th>D</th>\n",
       "    </tr>\n",
       "  </thead>\n",
       "  <tbody>\n",
       "    <tr>\n",
       "      <td>2019-10-01</td>\n",
       "      <td>0.579804</td>\n",
       "      <td>0.583251</td>\n",
       "      <td>0.528009</td>\n",
       "    </tr>\n",
       "    <tr>\n",
       "      <td>2019-10-02</td>\n",
       "      <td>0.644695</td>\n",
       "      <td>0.419164</td>\n",
       "      <td>0.307297</td>\n",
       "    </tr>\n",
       "    <tr>\n",
       "      <td>2019-10-03</td>\n",
       "      <td>0.722377</td>\n",
       "      <td>0.687754</td>\n",
       "      <td>0.881170</td>\n",
       "    </tr>\n",
       "    <tr>\n",
       "      <td>2019-10-04</td>\n",
       "      <td>0.284590</td>\n",
       "      <td>0.923430</td>\n",
       "      <td>0.644955</td>\n",
       "    </tr>\n",
       "    <tr>\n",
       "      <td>2019-10-05</td>\n",
       "      <td>0.934038</td>\n",
       "      <td>0.816200</td>\n",
       "      <td>0.314614</td>\n",
       "    </tr>\n",
       "    <tr>\n",
       "      <td>2019-10-06</td>\n",
       "      <td>0.414920</td>\n",
       "      <td>0.338379</td>\n",
       "      <td>0.471056</td>\n",
       "    </tr>\n",
       "    <tr>\n",
       "      <td>2019-10-07</td>\n",
       "      <td>0.131826</td>\n",
       "      <td>0.902051</td>\n",
       "      <td>0.816722</td>\n",
       "    </tr>\n",
       "    <tr>\n",
       "      <td>2019-10-08</td>\n",
       "      <td>0.579670</td>\n",
       "      <td>0.805624</td>\n",
       "      <td>0.445070</td>\n",
       "    </tr>\n",
       "    <tr>\n",
       "      <td>2019-10-09</td>\n",
       "      <td>0.615973</td>\n",
       "      <td>0.337242</td>\n",
       "      <td>0.501885</td>\n",
       "    </tr>\n",
       "    <tr>\n",
       "      <td>2019-10-10</td>\n",
       "      <td>0.517558</td>\n",
       "      <td>0.974292</td>\n",
       "      <td>0.567867</td>\n",
       "    </tr>\n",
       "    <tr>\n",
       "      <td>2019-10-11</td>\n",
       "      <td>0.406103</td>\n",
       "      <td>0.127399</td>\n",
       "      <td>0.862645</td>\n",
       "    </tr>\n",
       "    <tr>\n",
       "      <td>2019-10-12</td>\n",
       "      <td>0.914814</td>\n",
       "      <td>0.048206</td>\n",
       "      <td>0.466622</td>\n",
       "    </tr>\n",
       "    <tr>\n",
       "      <td>2019-10-13</td>\n",
       "      <td>0.291410</td>\n",
       "      <td>0.371360</td>\n",
       "      <td>0.972879</td>\n",
       "    </tr>\n",
       "    <tr>\n",
       "      <td>2019-10-14</td>\n",
       "      <td>0.462954</td>\n",
       "      <td>0.817518</td>\n",
       "      <td>0.998150</td>\n",
       "    </tr>\n",
       "    <tr>\n",
       "      <td>2019-10-15</td>\n",
       "      <td>0.126470</td>\n",
       "      <td>0.652609</td>\n",
       "      <td>0.772261</td>\n",
       "    </tr>\n",
       "    <tr>\n",
       "      <td>2019-10-16</td>\n",
       "      <td>0.664617</td>\n",
       "      <td>0.068308</td>\n",
       "      <td>0.478645</td>\n",
       "    </tr>\n",
       "  </tbody>\n",
       "</table>\n",
       "</div>"
      ],
      "text/plain": [
       "                   B         C         D\n",
       "2019-10-01  0.579804  0.583251  0.528009\n",
       "2019-10-02  0.644695  0.419164  0.307297\n",
       "2019-10-03  0.722377  0.687754  0.881170\n",
       "2019-10-04  0.284590  0.923430  0.644955\n",
       "2019-10-05  0.934038  0.816200  0.314614\n",
       "2019-10-06  0.414920  0.338379  0.471056\n",
       "2019-10-07  0.131826  0.902051  0.816722\n",
       "2019-10-08  0.579670  0.805624  0.445070\n",
       "2019-10-09  0.615973  0.337242  0.501885\n",
       "2019-10-10  0.517558  0.974292  0.567867\n",
       "2019-10-11  0.406103  0.127399  0.862645\n",
       "2019-10-12  0.914814  0.048206  0.466622\n",
       "2019-10-13  0.291410  0.371360  0.972879\n",
       "2019-10-14  0.462954  0.817518  0.998150\n",
       "2019-10-15  0.126470  0.652609  0.772261\n",
       "2019-10-16  0.664617  0.068308  0.478645"
      ]
     },
     "execution_count": 163,
     "metadata": {},
     "output_type": "execute_result"
    }
   ],
   "source": [
    "pd.melt(df)\n",
    "df2.pivot(columns='E')\n",
    "df.drop(columns=['A'])"
   ]
  },
  {
   "cell_type": "markdown",
   "metadata": {},
   "source": [
    "### Access data"
   ]
  },
  {
   "cell_type": "code",
   "execution_count": 107,
   "metadata": {},
   "outputs": [
    {
     "data": {
      "text/html": [
       "<div>\n",
       "<style scoped>\n",
       "    .dataframe tbody tr th:only-of-type {\n",
       "        vertical-align: middle;\n",
       "    }\n",
       "\n",
       "    .dataframe tbody tr th {\n",
       "        vertical-align: top;\n",
       "    }\n",
       "\n",
       "    .dataframe thead th {\n",
       "        text-align: right;\n",
       "    }\n",
       "</style>\n",
       "<table border=\"1\" class=\"dataframe\">\n",
       "  <thead>\n",
       "    <tr style=\"text-align: right;\">\n",
       "      <th></th>\n",
       "      <th>A</th>\n",
       "      <th>C</th>\n",
       "    </tr>\n",
       "  </thead>\n",
       "  <tbody>\n",
       "    <tr>\n",
       "      <td>2019-10-02</td>\n",
       "      <td>3</td>\n",
       "      <td>0.419164</td>\n",
       "    </tr>\n",
       "    <tr>\n",
       "      <td>2019-10-05</td>\n",
       "      <td>3</td>\n",
       "      <td>0.816200</td>\n",
       "    </tr>\n",
       "    <tr>\n",
       "      <td>2019-10-14</td>\n",
       "      <td>3</td>\n",
       "      <td>0.817518</td>\n",
       "    </tr>\n",
       "  </tbody>\n",
       "</table>\n",
       "</div>"
      ],
      "text/plain": [
       "            A         C\n",
       "2019-10-02  3  0.419164\n",
       "2019-10-05  3  0.816200\n",
       "2019-10-14  3  0.817518"
      ]
     },
     "execution_count": 107,
     "metadata": {},
     "output_type": "execute_result"
    }
   ],
   "source": [
    "df.A\n",
    "df['A']\n",
    "df.loc[:,'A']\n",
    "df.iloc[:,1]\n",
    "\n",
    "df[0:3]\n",
    "df['20191001':'20191003']\n",
    "df.iloc[0:3, :]\n",
    "df.iloc[[1,4,13],[0,2]]"
   ]
  },
  {
   "cell_type": "code",
   "execution_count": 172,
   "metadata": {},
   "outputs": [
    {
     "data": {
      "text/html": [
       "<div>\n",
       "<style scoped>\n",
       "    .dataframe tbody tr th:only-of-type {\n",
       "        vertical-align: middle;\n",
       "    }\n",
       "\n",
       "    .dataframe tbody tr th {\n",
       "        vertical-align: top;\n",
       "    }\n",
       "\n",
       "    .dataframe thead th {\n",
       "        text-align: right;\n",
       "    }\n",
       "</style>\n",
       "<table border=\"1\" class=\"dataframe\">\n",
       "  <thead>\n",
       "    <tr style=\"text-align: right;\">\n",
       "      <th></th>\n",
       "      <th>A</th>\n",
       "      <th>B</th>\n",
       "      <th>buba</th>\n",
       "      <th>D</th>\n",
       "    </tr>\n",
       "  </thead>\n",
       "  <tbody>\n",
       "    <tr>\n",
       "      <td>2019-10-01</td>\n",
       "      <td>3</td>\n",
       "      <td>0.579804</td>\n",
       "      <td>0.583251</td>\n",
       "      <td>0.528009</td>\n",
       "    </tr>\n",
       "    <tr>\n",
       "      <td>2019-10-02</td>\n",
       "      <td>3</td>\n",
       "      <td>0.644695</td>\n",
       "      <td>0.419164</td>\n",
       "      <td>0.307297</td>\n",
       "    </tr>\n",
       "    <tr>\n",
       "      <td>2019-10-03</td>\n",
       "      <td>3</td>\n",
       "      <td>0.722377</td>\n",
       "      <td>0.687754</td>\n",
       "      <td>0.881170</td>\n",
       "    </tr>\n",
       "    <tr>\n",
       "      <td>2019-10-04</td>\n",
       "      <td>3</td>\n",
       "      <td>0.284590</td>\n",
       "      <td>0.923430</td>\n",
       "      <td>0.644955</td>\n",
       "    </tr>\n",
       "    <tr>\n",
       "      <td>2019-10-05</td>\n",
       "      <td>3</td>\n",
       "      <td>0.934038</td>\n",
       "      <td>0.816200</td>\n",
       "      <td>0.314614</td>\n",
       "    </tr>\n",
       "    <tr>\n",
       "      <td>2019-10-06</td>\n",
       "      <td>3</td>\n",
       "      <td>0.414920</td>\n",
       "      <td>0.338379</td>\n",
       "      <td>0.471056</td>\n",
       "    </tr>\n",
       "    <tr>\n",
       "      <td>2019-10-07</td>\n",
       "      <td>3</td>\n",
       "      <td>0.131826</td>\n",
       "      <td>0.902051</td>\n",
       "      <td>0.816722</td>\n",
       "    </tr>\n",
       "    <tr>\n",
       "      <td>2019-10-08</td>\n",
       "      <td>3</td>\n",
       "      <td>0.579670</td>\n",
       "      <td>0.805624</td>\n",
       "      <td>0.445070</td>\n",
       "    </tr>\n",
       "    <tr>\n",
       "      <td>2019-10-09</td>\n",
       "      <td>3</td>\n",
       "      <td>0.615973</td>\n",
       "      <td>0.337242</td>\n",
       "      <td>0.501885</td>\n",
       "    </tr>\n",
       "    <tr>\n",
       "      <td>2019-10-10</td>\n",
       "      <td>3</td>\n",
       "      <td>0.517558</td>\n",
       "      <td>0.974292</td>\n",
       "      <td>0.567867</td>\n",
       "    </tr>\n",
       "    <tr>\n",
       "      <td>2019-10-11</td>\n",
       "      <td>3</td>\n",
       "      <td>0.406103</td>\n",
       "      <td>0.127399</td>\n",
       "      <td>0.862645</td>\n",
       "    </tr>\n",
       "    <tr>\n",
       "      <td>2019-10-12</td>\n",
       "      <td>3</td>\n",
       "      <td>0.914814</td>\n",
       "      <td>0.048206</td>\n",
       "      <td>0.466622</td>\n",
       "    </tr>\n",
       "    <tr>\n",
       "      <td>2019-10-13</td>\n",
       "      <td>3</td>\n",
       "      <td>0.291410</td>\n",
       "      <td>0.371360</td>\n",
       "      <td>0.972879</td>\n",
       "    </tr>\n",
       "    <tr>\n",
       "      <td>2019-10-14</td>\n",
       "      <td>3</td>\n",
       "      <td>0.462954</td>\n",
       "      <td>0.817518</td>\n",
       "      <td>0.998150</td>\n",
       "    </tr>\n",
       "    <tr>\n",
       "      <td>2019-10-15</td>\n",
       "      <td>3</td>\n",
       "      <td>0.126470</td>\n",
       "      <td>0.652609</td>\n",
       "      <td>0.772261</td>\n",
       "    </tr>\n",
       "    <tr>\n",
       "      <td>2019-10-16</td>\n",
       "      <td>3</td>\n",
       "      <td>0.664617</td>\n",
       "      <td>0.068308</td>\n",
       "      <td>0.478645</td>\n",
       "    </tr>\n",
       "  </tbody>\n",
       "</table>\n",
       "</div>"
      ],
      "text/plain": [
       "            A         B      buba         D\n",
       "2019-10-01  3  0.579804  0.583251  0.528009\n",
       "2019-10-02  3  0.644695  0.419164  0.307297\n",
       "2019-10-03  3  0.722377  0.687754  0.881170\n",
       "2019-10-04  3  0.284590  0.923430  0.644955\n",
       "2019-10-05  3  0.934038  0.816200  0.314614\n",
       "2019-10-06  3  0.414920  0.338379  0.471056\n",
       "2019-10-07  3  0.131826  0.902051  0.816722\n",
       "2019-10-08  3  0.579670  0.805624  0.445070\n",
       "2019-10-09  3  0.615973  0.337242  0.501885\n",
       "2019-10-10  3  0.517558  0.974292  0.567867\n",
       "2019-10-11  3  0.406103  0.127399  0.862645\n",
       "2019-10-12  3  0.914814  0.048206  0.466622\n",
       "2019-10-13  3  0.291410  0.371360  0.972879\n",
       "2019-10-14  3  0.462954  0.817518  0.998150\n",
       "2019-10-15  3  0.126470  0.652609  0.772261\n",
       "2019-10-16  3  0.664617  0.068308  0.478645"
      ]
     },
     "execution_count": 172,
     "metadata": {},
     "output_type": "execute_result"
    }
   ],
   "source": [
    "df.loc[dates[0], 'A']=1.2\n",
    "df.at[dates[0], 'A']=0.3\n",
    "df['A']=3\n",
    "df"
   ]
  },
  {
   "cell_type": "code",
   "execution_count": 173,
   "metadata": {},
   "outputs": [
    {
     "data": {
      "text/html": [
       "<div>\n",
       "<style scoped>\n",
       "    .dataframe tbody tr th:only-of-type {\n",
       "        vertical-align: middle;\n",
       "    }\n",
       "\n",
       "    .dataframe tbody tr th {\n",
       "        vertical-align: top;\n",
       "    }\n",
       "\n",
       "    .dataframe thead th {\n",
       "        text-align: right;\n",
       "    }\n",
       "</style>\n",
       "<table border=\"1\" class=\"dataframe\">\n",
       "  <thead>\n",
       "    <tr style=\"text-align: right;\">\n",
       "      <th></th>\n",
       "      <th>A</th>\n",
       "      <th>B</th>\n",
       "      <th>D</th>\n",
       "    </tr>\n",
       "  </thead>\n",
       "  <tbody>\n",
       "    <tr>\n",
       "      <td>2019-10-01</td>\n",
       "      <td>3</td>\n",
       "      <td>0.579804</td>\n",
       "      <td>0.528009</td>\n",
       "    </tr>\n",
       "    <tr>\n",
       "      <td>2019-10-02</td>\n",
       "      <td>3</td>\n",
       "      <td>0.644695</td>\n",
       "      <td>0.307297</td>\n",
       "    </tr>\n",
       "    <tr>\n",
       "      <td>2019-10-03</td>\n",
       "      <td>3</td>\n",
       "      <td>0.722377</td>\n",
       "      <td>0.881170</td>\n",
       "    </tr>\n",
       "    <tr>\n",
       "      <td>2019-10-04</td>\n",
       "      <td>3</td>\n",
       "      <td>0.284590</td>\n",
       "      <td>0.644955</td>\n",
       "    </tr>\n",
       "    <tr>\n",
       "      <td>2019-10-05</td>\n",
       "      <td>3</td>\n",
       "      <td>0.934038</td>\n",
       "      <td>0.314614</td>\n",
       "    </tr>\n",
       "    <tr>\n",
       "      <td>2019-10-06</td>\n",
       "      <td>3</td>\n",
       "      <td>0.414920</td>\n",
       "      <td>0.471056</td>\n",
       "    </tr>\n",
       "    <tr>\n",
       "      <td>2019-10-07</td>\n",
       "      <td>3</td>\n",
       "      <td>0.131826</td>\n",
       "      <td>0.816722</td>\n",
       "    </tr>\n",
       "    <tr>\n",
       "      <td>2019-10-08</td>\n",
       "      <td>3</td>\n",
       "      <td>0.579670</td>\n",
       "      <td>0.445070</td>\n",
       "    </tr>\n",
       "    <tr>\n",
       "      <td>2019-10-09</td>\n",
       "      <td>3</td>\n",
       "      <td>0.615973</td>\n",
       "      <td>0.501885</td>\n",
       "    </tr>\n",
       "    <tr>\n",
       "      <td>2019-10-10</td>\n",
       "      <td>3</td>\n",
       "      <td>0.517558</td>\n",
       "      <td>0.567867</td>\n",
       "    </tr>\n",
       "    <tr>\n",
       "      <td>2019-10-11</td>\n",
       "      <td>3</td>\n",
       "      <td>0.406103</td>\n",
       "      <td>0.862645</td>\n",
       "    </tr>\n",
       "    <tr>\n",
       "      <td>2019-10-12</td>\n",
       "      <td>3</td>\n",
       "      <td>0.914814</td>\n",
       "      <td>0.466622</td>\n",
       "    </tr>\n",
       "    <tr>\n",
       "      <td>2019-10-13</td>\n",
       "      <td>3</td>\n",
       "      <td>0.291410</td>\n",
       "      <td>0.972879</td>\n",
       "    </tr>\n",
       "    <tr>\n",
       "      <td>2019-10-14</td>\n",
       "      <td>3</td>\n",
       "      <td>0.462954</td>\n",
       "      <td>0.998150</td>\n",
       "    </tr>\n",
       "    <tr>\n",
       "      <td>2019-10-15</td>\n",
       "      <td>3</td>\n",
       "      <td>0.126470</td>\n",
       "      <td>0.772261</td>\n",
       "    </tr>\n",
       "    <tr>\n",
       "      <td>2019-10-16</td>\n",
       "      <td>3</td>\n",
       "      <td>0.664617</td>\n",
       "      <td>0.478645</td>\n",
       "    </tr>\n",
       "  </tbody>\n",
       "</table>\n",
       "</div>"
      ],
      "text/plain": [
       "            A         B         D\n",
       "2019-10-01  3  0.579804  0.528009\n",
       "2019-10-02  3  0.644695  0.307297\n",
       "2019-10-03  3  0.722377  0.881170\n",
       "2019-10-04  3  0.284590  0.644955\n",
       "2019-10-05  3  0.934038  0.314614\n",
       "2019-10-06  3  0.414920  0.471056\n",
       "2019-10-07  3  0.131826  0.816722\n",
       "2019-10-08  3  0.579670  0.445070\n",
       "2019-10-09  3  0.615973  0.501885\n",
       "2019-10-10  3  0.517558  0.567867\n",
       "2019-10-11  3  0.406103  0.862645\n",
       "2019-10-12  3  0.914814  0.466622\n",
       "2019-10-13  3  0.291410  0.972879\n",
       "2019-10-14  3  0.462954  0.998150\n",
       "2019-10-15  3  0.126470  0.772261\n",
       "2019-10-16  3  0.664617  0.478645"
      ]
     },
     "execution_count": 173,
     "metadata": {},
     "output_type": "execute_result"
    }
   ],
   "source": [
    "df\n",
    "df.filter(regex='[A-Z]')"
   ]
  },
  {
   "cell_type": "markdown",
   "metadata": {},
   "source": [
    "### Select data"
   ]
  },
  {
   "cell_type": "code",
   "execution_count": 189,
   "metadata": {},
   "outputs": [
    {
     "data": {
      "text/html": [
       "<div>\n",
       "<style scoped>\n",
       "    .dataframe tbody tr th:only-of-type {\n",
       "        vertical-align: middle;\n",
       "    }\n",
       "\n",
       "    .dataframe tbody tr th {\n",
       "        vertical-align: top;\n",
       "    }\n",
       "\n",
       "    .dataframe thead th {\n",
       "        text-align: right;\n",
       "    }\n",
       "</style>\n",
       "<table border=\"1\" class=\"dataframe\">\n",
       "  <thead>\n",
       "    <tr style=\"text-align: right;\">\n",
       "      <th></th>\n",
       "      <th>A</th>\n",
       "      <th>B</th>\n",
       "      <th>buba</th>\n",
       "      <th>D</th>\n",
       "    </tr>\n",
       "  </thead>\n",
       "  <tbody>\n",
       "    <tr>\n",
       "      <td>2019-10-09</td>\n",
       "      <td>3</td>\n",
       "      <td>0.615973</td>\n",
       "      <td>0.337242</td>\n",
       "      <td>0.501885</td>\n",
       "    </tr>\n",
       "    <tr>\n",
       "      <td>2019-10-11</td>\n",
       "      <td>3</td>\n",
       "      <td>0.406103</td>\n",
       "      <td>0.127399</td>\n",
       "      <td>0.862645</td>\n",
       "    </tr>\n",
       "    <tr>\n",
       "      <td>2019-10-12</td>\n",
       "      <td>3</td>\n",
       "      <td>0.914814</td>\n",
       "      <td>0.048206</td>\n",
       "      <td>0.466622</td>\n",
       "    </tr>\n",
       "    <tr>\n",
       "      <td>2019-10-13</td>\n",
       "      <td>3</td>\n",
       "      <td>0.291410</td>\n",
       "      <td>0.371360</td>\n",
       "      <td>0.972879</td>\n",
       "    </tr>\n",
       "    <tr>\n",
       "      <td>2019-10-16</td>\n",
       "      <td>3</td>\n",
       "      <td>0.664617</td>\n",
       "      <td>0.068308</td>\n",
       "      <td>0.478645</td>\n",
       "    </tr>\n",
       "  </tbody>\n",
       "</table>\n",
       "</div>"
      ],
      "text/plain": [
       "            A         B      buba         D\n",
       "2019-10-09  3  0.615973  0.337242  0.501885\n",
       "2019-10-11  3  0.406103  0.127399  0.862645\n",
       "2019-10-12  3  0.914814  0.048206  0.466622\n",
       "2019-10-13  3  0.291410  0.371360  0.972879\n",
       "2019-10-16  3  0.664617  0.068308  0.478645"
      ]
     },
     "execution_count": 189,
     "metadata": {},
     "output_type": "execute_result"
    }
   ],
   "source": [
    "df.B\n",
    "df.B>0\n",
    "df[df.B>0.3]\n",
    "df[df.B+df.D>=df.A*df.buba]\n",
    "df[df>.3]\n",
    "df[df>.3].sort_values(by='B',na_position='first')"
   ]
  },
  {
   "cell_type": "markdown",
   "metadata": {},
   "source": [
    "### Viewing data\n",
    "NumPy arrays have one dtype for the entire array, while pandas DataFrames have one dtype per column"
   ]
  },
  {
   "cell_type": "code",
   "execution_count": 48,
   "metadata": {},
   "outputs": [
    {
     "data": {
      "text/html": [
       "<div>\n",
       "<style scoped>\n",
       "    .dataframe tbody tr th:only-of-type {\n",
       "        vertical-align: middle;\n",
       "    }\n",
       "\n",
       "    .dataframe tbody tr th {\n",
       "        vertical-align: top;\n",
       "    }\n",
       "\n",
       "    .dataframe thead th {\n",
       "        text-align: right;\n",
       "    }\n",
       "</style>\n",
       "<table border=\"1\" class=\"dataframe\">\n",
       "  <thead>\n",
       "    <tr style=\"text-align: right;\">\n",
       "      <th></th>\n",
       "      <th>A</th>\n",
       "      <th>B</th>\n",
       "      <th>C</th>\n",
       "      <th>D</th>\n",
       "    </tr>\n",
       "  </thead>\n",
       "  <tbody>\n",
       "    <tr>\n",
       "      <td>count</td>\n",
       "      <td>16.000000</td>\n",
       "      <td>16.000000</td>\n",
       "      <td>16.000000</td>\n",
       "      <td>16.000000</td>\n",
       "    </tr>\n",
       "    <tr>\n",
       "      <td>mean</td>\n",
       "      <td>0.367464</td>\n",
       "      <td>0.518239</td>\n",
       "      <td>0.554549</td>\n",
       "      <td>0.626865</td>\n",
       "    </tr>\n",
       "    <tr>\n",
       "      <td>std</td>\n",
       "      <td>0.230786</td>\n",
       "      <td>0.239655</td>\n",
       "      <td>0.314426</td>\n",
       "      <td>0.226396</td>\n",
       "    </tr>\n",
       "    <tr>\n",
       "      <td>min</td>\n",
       "      <td>0.018116</td>\n",
       "      <td>0.126470</td>\n",
       "      <td>0.048206</td>\n",
       "      <td>0.307297</td>\n",
       "    </tr>\n",
       "    <tr>\n",
       "      <td>25%</td>\n",
       "      <td>0.196442</td>\n",
       "      <td>0.377430</td>\n",
       "      <td>0.338095</td>\n",
       "      <td>0.469947</td>\n",
       "    </tr>\n",
       "    <tr>\n",
       "      <td>50%</td>\n",
       "      <td>0.329312</td>\n",
       "      <td>0.548614</td>\n",
       "      <td>0.617930</td>\n",
       "      <td>0.547938</td>\n",
       "    </tr>\n",
       "    <tr>\n",
       "      <td>75%</td>\n",
       "      <td>0.485176</td>\n",
       "      <td>0.649676</td>\n",
       "      <td>0.816529</td>\n",
       "      <td>0.828203</td>\n",
       "    </tr>\n",
       "    <tr>\n",
       "      <td>max</td>\n",
       "      <td>0.816775</td>\n",
       "      <td>0.934038</td>\n",
       "      <td>0.974292</td>\n",
       "      <td>0.998150</td>\n",
       "    </tr>\n",
       "  </tbody>\n",
       "</table>\n",
       "</div>"
      ],
      "text/plain": [
       "               A          B          C          D\n",
       "count  16.000000  16.000000  16.000000  16.000000\n",
       "mean    0.367464   0.518239   0.554549   0.626865\n",
       "std     0.230786   0.239655   0.314426   0.226396\n",
       "min     0.018116   0.126470   0.048206   0.307297\n",
       "25%     0.196442   0.377430   0.338095   0.469947\n",
       "50%     0.329312   0.548614   0.617930   0.547938\n",
       "75%     0.485176   0.649676   0.816529   0.828203\n",
       "max     0.816775   0.934038   0.974292   0.998150"
      ]
     },
     "execution_count": 48,
     "metadata": {},
     "output_type": "execute_result"
    }
   ],
   "source": [
    "df.head()\n",
    "df.tail(3)\n",
    "df.index\n",
    "df.columns\n",
    "df.describe()"
   ]
  },
  {
   "cell_type": "code",
   "execution_count": 176,
   "metadata": {},
   "outputs": [
    {
     "data": {
      "text/plain": [
       "A       3.000000\n",
       "B       0.518239\n",
       "buba    0.554549\n",
       "D       0.626865\n",
       "dtype: float64"
      ]
     },
     "execution_count": 176,
     "metadata": {},
     "output_type": "execute_result"
    }
   ],
   "source": [
    "df.sum()\n",
    "df.count()\n",
    "df.mean()"
   ]
  },
  {
   "cell_type": "code",
   "execution_count": 184,
   "metadata": {},
   "outputs": [
    {
     "data": {
      "text/plain": [
       "<matplotlib.axes._subplots.AxesSubplot at 0xf0f7a88>"
      ]
     },
     "execution_count": 184,
     "metadata": {},
     "output_type": "execute_result"
    },
    {
     "data": {
      "image/png": "[encoded data removed]",
      "text/plain": [
       "<Figure size 432x288 with 1 Axes>"
      ]
     },
     "metadata": {
      "needs_background": "light"
     },
     "output_type": "display_data"
    },
    {
     "data": {
      "image/png": "[encoded data removed]",
      "text/plain": [
       "<Figure size 432x288 with 1 Axes>"
      ]
     },
     "metadata": {
      "needs_background": "light"
     },
     "output_type": "display_data"
    },
    {
     "data": {
      "image/png": "[encoded data removed]",
      "text/plain": [
       "<Figure size 432x288 with 1 Axes>"
      ]
     },
     "metadata": {
      "needs_background": "light"
     },
     "output_type": "display_data"
    }
   ],
   "source": [
    "df.plot.box()\n",
    "df.plot.hist()\n",
    "df.plot.scatter(x='B',y='D')"
   ]
  }
 ],
 "metadata": {
  "kernelspec": {
   "name": "pycharm-e230bcc",
   "language": "python",
   "display_name": "PyCharm (deeplearning)"
  },
  "language_info": {
   "codemirror_mode": {
    "name": "ipython",
    "version": 3
   },
   "file_extension": ".py",
   "mimetype": "text/x-python",
   "name": "python",
   "nbconvert_exporter": "python",
   "pygments_lexer": "ipython3",
   "version": "3.7.4"
  }
 },
 "nbformat": 4,
 "nbformat_minor": 2
}