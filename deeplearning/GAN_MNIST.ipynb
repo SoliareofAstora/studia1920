{
 "cells": [
  {
   "cell_type": "code",
   "execution_count": 1,
   "metadata": {
    "slideshow": {
     "slide_type": "-"
    }
   },
   "outputs": [],
   "source": [
    "import itertools\n",
    "from IPython.display import clear_output, display"
   ]
  },
  {
   "cell_type": "code",
   "execution_count": 2,
   "metadata": {},
   "outputs": [],
   "source": [
    "import numpy as np\n",
    "import scipy\n",
    "import scipy.stats\n",
    "\n",
    "import matplotlib.pyplot as plt"
   ]
  },
  {
   "cell_type": "code",
   "execution_count": 3,
   "metadata": {},
   "outputs": [],
   "source": [
    "import torch as t\n",
    "from torch.nn import Sequential, Linear, ReLU, LeakyReLU, BatchNorm1d\n",
    "import torchvision"
   ]
  },
  {
   "cell_type": "code",
   "execution_count": 4,
   "metadata": {},
   "outputs": [],
   "source": [
    "%matplotlib inline"
   ]
  },
  {
   "cell_type": "code",
   "execution_count": 5,
   "metadata": {},
   "outputs": [],
   "source": [
    "if t.cuda.is_available():\n",
    "    if t.cuda.device_count()>1:\n",
    "        device = t.device('cuda:1')\n",
    "    else:\n",
    "        device = t.device('cuda')   \n",
    "else:\n",
    "    device = t.device('cpu')"
   ]
  },
  {
   "cell_type": "markdown",
   "metadata": {
    "slideshow": {
     "slide_type": "slide"
    }
   },
   "source": [
    "## MNIST "
   ]
  },
  {
   "cell_type": "code",
   "execution_count": 6,
   "metadata": {},
   "outputs": [],
   "source": [
    "dl_train = t.utils.data.DataLoader(\n",
    "    torchvision.datasets.MNIST('./data/mnist', train=True, download=True))\n",
    "\n",
    "dl_test  = t.utils.data.DataLoader(\n",
    "    torchvision.datasets.MNIST('./data/mnist', train=False, download=True))"
   ]
  },
  {
   "cell_type": "code",
   "execution_count": 7,
   "metadata": {
    "slideshow": {
     "slide_type": "slide"
    }
   },
   "outputs": [],
   "source": [
    "mnist_train_data   = dl_train.dataset.data.to(dtype=t.float32)\n",
    "mnist_train_labels = dl_train.dataset.targets"
   ]
  },
  {
   "cell_type": "code",
   "execution_count": 8,
   "metadata": {
    "slideshow": {
     "slide_type": "slide"
    }
   },
   "outputs": [],
   "source": [
    "mnist_test_data   = dl_test.dataset.data.to(dtype=t.float32)\n",
    "mnist_test_labels = dl_test.dataset.targets"
   ]
  },
  {
   "cell_type": "code",
   "execution_count": 9,
   "metadata": {},
   "outputs": [],
   "source": [
    "mnist_data = np.concatenate((mnist_train_data, mnist_test_data))\n",
    "mnist_labels = np.concatenate((mnist_train_labels, mnist_test_labels))"
   ]
  },
  {
   "cell_type": "code",
   "execution_count": 10,
   "metadata": {
    "slideshow": {
     "slide_type": "slide"
    }
   },
   "outputs": [
    {
     "data": {
      "image/png": "[encoded data removed]",
      "text/plain": [
       "<Figure size 432x288 with 1 Axes>"
      ]
     },
     "metadata": {
      "needs_background": "light"
     },
     "output_type": "display_data"
    }
   ],
   "source": [
    "index=49\n",
    "plt.imshow(mnist_data[index], cmap='Greys')\n",
    "plt.text(22,3,'%d' % (mnist_labels[index],), fontsize=32);"
   ]
  },
  {
   "cell_type": "code",
   "execution_count": 11,
   "metadata": {},
   "outputs": [],
   "source": [
    "mnist_data_flatened = 2*mnist_data.astype('float32').reshape(-1,28*28)/255.0 - 1.0\n",
    "np.random.shuffle(mnist_data_flatened)\n",
    "mnist_data_t = t.from_numpy(mnist_data_flatened[0:10000])"
   ]
  },
  {
   "cell_type": "markdown",
   "metadata": {},
   "source": [
    "I am taking the whole data set. But if you run on the CPU you can consider using a smaller portion e.g \n",
    "```\n",
    "mnist_data_t = t.from_numpy(mnist_data_flatened[0:20000])\n",
    "```"
   ]
  },
  {
   "cell_type": "markdown",
   "metadata": {},
   "source": [
    "## Models"
   ]
  },
  {
   "cell_type": "code",
   "execution_count": 12,
   "metadata": {
    "slideshow": {
     "slide_type": "slide"
    }
   },
   "outputs": [],
   "source": [
    "def init_layer(layer):\n",
    "    if isinstance(layer,t.nn.modules.linear.Linear):\n",
    "        fan_in = layer.weight.size(1)\n",
    "        sigma = 1*np.sqrt(6/fan_in)\n",
    "        t.nn.init.uniform_(layer.weight,-sigma,sigma)\n",
    "        if layer.bias is not None:\n",
    "            t.nn.init.zeros_(layer.bias)"
   ]
  },
  {
   "cell_type": "code",
   "execution_count": 13,
   "metadata": {
    "slideshow": {
     "slide_type": "slide"
    }
   },
   "outputs": [],
   "source": [
    "def init_layer_with_sigma(sigma=1):\n",
    "    def f(layer):\n",
    "        if isinstance(layer,t.nn.modules.linear.Linear):\n",
    "            fan_in = layer.weight.size(1)\n",
    "            s = sigma*np.sqrt(6/fan_in)\n",
    "            t.nn.init.uniform_(layer.weight, -s , s)\n",
    "            if layer.bias is not None:\n",
    "                t.nn.init.zeros_(layer.bias)\n",
    "    return f            "
   ]
  },
  {
   "cell_type": "markdown",
   "metadata": {},
   "source": [
    "### Discriminator"
   ]
  },
  {
   "cell_type": "code",
   "execution_count": 14,
   "metadata": {},
   "outputs": [],
   "source": [
    "discriminator = Sequential(Linear(28*28,1024), \n",
    "                           LeakyReLU(0.2, inplace=True),\n",
    "                           t.nn.Dropout(0.3),\n",
    "                           Linear(1024,512), \n",
    "                           LeakyReLU(0.2, inplace=True),\n",
    "                           t.nn.Dropout(0.3),\n",
    "                           Linear(512,256), \n",
    "                           LeakyReLU(0.2, inplace=True),\n",
    "                           t.nn.Dropout(0.3),\n",
    "                           Linear(256,1), \n",
    "                           t.nn.Sigmoid()\n",
    "                                     )"
   ]
  },
  {
   "cell_type": "markdown",
   "metadata": {},
   "source": [
    "### Generator"
   ]
  },
  {
   "cell_type": "code",
   "execution_count": 15,
   "metadata": {},
   "outputs": [],
   "source": [
    "def make_generator(noise_input_size):\n",
    "    return Sequential( Linear(noise_input_size,256), BatchNorm1d(256), LeakyReLU(0.2, inplace=True),\n",
    "                       Linear(256,512),   BatchNorm1d(512), LeakyReLU(0.2, inplace=True),\n",
    "                       Linear(512,1024), BatchNorm1d(1024), LeakyReLU(0.2, inplace=True),\n",
    "                       Linear(1024,28*28), t.nn.Tanh()\n",
    "                         )"
   ]
  },
  {
   "cell_type": "code",
   "execution_count": 16,
   "metadata": {},
   "outputs": [],
   "source": [
    "noise_input_size = 100\n",
    "generator = make_generator(noise_input_size)"
   ]
  },
  {
   "cell_type": "code",
   "execution_count": 17,
   "metadata": {},
   "outputs": [
    {
     "data": {
      "text/plain": [
       "Sequential(\n",
       "  (0): Linear(in_features=784, out_features=1024, bias=True)\n",
       "  (1): LeakyReLU(negative_slope=0.2, inplace=True)\n",
       "  (2): Dropout(p=0.3, inplace=False)\n",
       "  (3): Linear(in_features=1024, out_features=512, bias=True)\n",
       "  (4): LeakyReLU(negative_slope=0.2, inplace=True)\n",
       "  (5): Dropout(p=0.3, inplace=False)\n",
       "  (6): Linear(in_features=512, out_features=256, bias=True)\n",
       "  (7): LeakyReLU(negative_slope=0.2, inplace=True)\n",
       "  (8): Dropout(p=0.3, inplace=False)\n",
       "  (9): Linear(in_features=256, out_features=1, bias=True)\n",
       "  (10): Sigmoid()\n",
       ")"
      ]
     },
     "execution_count": 17,
     "metadata": {},
     "output_type": "execute_result"
    }
   ],
   "source": [
    "discriminator.apply(init_layer_with_sigma(1.0))"
   ]
  },
  {
   "cell_type": "code",
   "execution_count": 18,
   "metadata": {},
   "outputs": [
    {
     "data": {
      "text/plain": [
       "Sequential(\n",
       "  (0): Linear(in_features=100, out_features=256, bias=True)\n",
       "  (1): BatchNorm1d(256, eps=1e-05, momentum=0.1, affine=True, track_running_stats=True)\n",
       "  (2): LeakyReLU(negative_slope=0.2, inplace=True)\n",
       "  (3): Linear(in_features=256, out_features=512, bias=True)\n",
       "  (4): BatchNorm1d(512, eps=1e-05, momentum=0.1, affine=True, track_running_stats=True)\n",
       "  (5): LeakyReLU(negative_slope=0.2, inplace=True)\n",
       "  (6): Linear(in_features=512, out_features=1024, bias=True)\n",
       "  (7): BatchNorm1d(1024, eps=1e-05, momentum=0.1, affine=True, track_running_stats=True)\n",
       "  (8): LeakyReLU(negative_slope=0.2, inplace=True)\n",
       "  (9): Linear(in_features=1024, out_features=784, bias=True)\n",
       "  (10): Tanh()\n",
       ")"
      ]
     },
     "execution_count": 18,
     "metadata": {},
     "output_type": "execute_result"
    }
   ],
   "source": [
    "generator.apply(init_layer_with_sigma(1.0))"
   ]
  },
  {
   "cell_type": "markdown",
   "metadata": {},
   "source": [
    "Move data and models to the device (CUDA). "
   ]
  },
  {
   "cell_type": "code",
   "execution_count": 19,
   "metadata": {},
   "outputs": [],
   "source": [
    "mnist_data_t = mnist_data_t.to(device)\n",
    "generator = generator.to(device)\n",
    "discriminator = discriminator.to(device)"
   ]
  },
  {
   "cell_type": "code",
   "execution_count": 20,
   "metadata": {},
   "outputs": [
    {
     "data": {
      "image/png": "[encoded data removed]",
      "text/plain": [
       "<Figure size 432x288 with 1 Axes>"
      ]
     },
     "metadata": {
      "needs_background": "light"
     },
     "output_type": "display_data"
    }
   ],
   "source": [
    "with t.no_grad():\n",
    "    generator.eval()\n",
    "    in_t = t.empty(1,noise_input_size, device=device).uniform_(-1,1)\n",
    "    out_t = generator(in_t);\n",
    "    plt.imshow(out_t.data.cpu().numpy().reshape(28,28), cmap='Greys')"
   ]
  },
  {
   "cell_type": "markdown",
   "metadata": {},
   "source": [
    "Binary Cross Entropy loss with labels $l_i$ is defined as:\n",
    "$$bce(\\{ p_i \\},\\{ l_ i\\}) = \\frac{1}{n}\\sum_{i=0}^{n-1} \\left(l_i \\log p_i + (1-l_i) \\log(1-p_i)\\right)  $$"
   ]
  },
  {
   "cell_type": "code",
   "execution_count": 21,
   "metadata": {},
   "outputs": [],
   "source": [
    "bce = t.nn.BCELoss()"
   ]
  },
  {
   "cell_type": "markdown",
   "metadata": {},
   "source": [
    "Functions below implement a non-saturating loss function for generator and  one-sided label smoothing  for discriminator."
   ]
  },
  {
   "cell_type": "code",
   "execution_count": 22,
   "metadata": {},
   "outputs": [],
   "source": [
    "def discriminator_loss(imgs):\n",
    "    data_size = len(imgs)\n",
    "    \n",
    "    real_labels = t.ones(data_size,1, device=device)\n",
    "    d_real_loss = bce(discriminator(imgs), 0.9*real_labels) #Using one-sided label smoothing\n",
    "    fake_labels = t.zeros(data_size,1, device=device)\n",
    "    z = t.empty(data_size, noise_input_size, device=device).uniform_(-1,1)\n",
    "    g_out = generator(z).detach()\n",
    "    d_fake_loss = bce(discriminator(g_out), fake_labels)\n",
    "    \n",
    "    d_loss = d_fake_loss + d_real_loss\n",
    "    return d_loss \n",
    "    \n",
    "def generator_loss(data_size):    \n",
    "    z = t.empty(data_size, noise_input_size, device=device).uniform_(-1,1)\n",
    "    g_out = generator(z)\n",
    "    real_labels = t.ones(data_size,1, device=device)\n",
    "    g_loss = bce(discriminator(g_out), real_labels)\n",
    "    return g_loss"
   ]
  },
  {
   "cell_type": "code",
   "execution_count": 23,
   "metadata": {},
   "outputs": [
    {
     "name": "stdout",
     "output_type": "stream",
     "text": [
      "1.9641155004501343 1.4459387063980103\n"
     ]
    }
   ],
   "source": [
    "with t.no_grad():\n",
    "              d_loss = discriminator_loss(mnist_data_t)\n",
    "              g_loss = generator_loss(len(mnist_data_t)) \n",
    "print(d_loss.item(), g_loss.item())"
   ]
  },
  {
   "cell_type": "code",
   "execution_count": 24,
   "metadata": {},
   "outputs": [],
   "source": [
    "d_optimizer = t.optim.Adam(discriminator.parameters(), lr=0.0004,betas=(0.5, 0.999))\n",
    "g_optimizer = t.optim.Adam(generator.parameters(), lr=0.0001, betas=(0.5, 0.999))"
   ]
  },
  {
   "cell_type": "code",
   "execution_count": 25,
   "metadata": {},
   "outputs": [
    {
     "data": {
      "text/plain": [
       "Sequential(\n",
       "  (0): Linear(in_features=100, out_features=256, bias=True)\n",
       "  (1): BatchNorm1d(256, eps=1e-05, momentum=0.1, affine=True, track_running_stats=True)\n",
       "  (2): LeakyReLU(negative_slope=0.2, inplace=True)\n",
       "  (3): Linear(in_features=256, out_features=512, bias=True)\n",
       "  (4): BatchNorm1d(512, eps=1e-05, momentum=0.1, affine=True, track_running_stats=True)\n",
       "  (5): LeakyReLU(negative_slope=0.2, inplace=True)\n",
       "  (6): Linear(in_features=512, out_features=1024, bias=True)\n",
       "  (7): BatchNorm1d(1024, eps=1e-05, momentum=0.1, affine=True, track_running_stats=True)\n",
       "  (8): LeakyReLU(negative_slope=0.2, inplace=True)\n",
       "  (9): Linear(in_features=1024, out_features=784, bias=True)\n",
       "  (10): Tanh()\n",
       ")"
      ]
     },
     "execution_count": 25,
     "metadata": {},
     "output_type": "execute_result"
    }
   ],
   "source": [
    "generator.train()"
   ]
  },
  {
   "cell_type": "code",
   "execution_count": null,
   "metadata": {},
   "outputs": [
    {
     "name": "stdout",
     "output_type": "stream",
     "text": [
      "    6   0.90   2.59 115.59s 3737.48s\n",
      "\n"
     ]
    }
   ],
   "source": [
    "import time\n",
    "start = time.time()\n",
    "\n",
    "cols = 8\n",
    "rows = 4 \n",
    "\n",
    "fixed_noise = t.empty(cols*rows,noise_input_size, device=device).uniform_(-1,1)\n",
    "\n",
    "k_discriminator = 2\n",
    "k_generator = 1\n",
    "if device.type == 'cpu':\n",
    "    mini_batch_size=64\n",
    "else:\n",
    "    mini_batch_size=2048\n",
    "n_epochs = 200\n",
    "\n",
    "generator.train()\n",
    "\n",
    "for epoch in range(1,n_epochs+1):\n",
    "    for k in range(len(mnist_data_t)//mini_batch_size):\n",
    "        for di in range(k_discriminator):\n",
    "            d_optimizer.zero_grad()\n",
    "            kr = np.random.randint(0,len(mnist_data_t)//mini_batch_size )\n",
    "            d_loss= discriminator_loss(mnist_data_t[kr*(mini_batch_size):(kr+1)*(mini_batch_size)])\n",
    "                             \n",
    "            d_loss.backward()\n",
    "            d_optimizer.step()\n",
    "        for gi in range(k_generator):\n",
    "            g_optimizer.zero_grad()\n",
    "            g_loss = generator_loss(mini_batch_size)\n",
    "            g_loss.backward()\n",
    "            g_optimizer.step()\n",
    "    if epoch % 1 == 0:\n",
    "        clear_output(wait=True)\n",
    "        with t.no_grad():           \n",
    "            d_loss = discriminator_loss(mnist_data_t)\n",
    "            g_loss = generator_loss(len(mnist_data_t)) \n",
    "        end = time.time()\n",
    "        ellapsed = end - start\n",
    "        time_per_epoch = ellapsed/epoch\n",
    "        eta = time_per_epoch*(n_epochs-epoch)\n",
    "        print('%5d %6.2f %6.2f %6.2fs %6.2fs\\n' % (epoch, d_loss.item(), g_loss.item(), ellapsed, eta))\n",
    "        fig, ax = plt.subplots(rows, cols, figsize=(1.5*cols,1.5*rows))\n",
    "        with t.no_grad():\n",
    "            # Generate the row x cols samples always using same noise for each of them. \n",
    "            generator.eval()\n",
    "            out_t = generator(fixed_noise);\n",
    "            #Plot the samples on rows x cols grid. \n",
    "            for i, j in itertools.product(range(rows), range(cols) ):\n",
    "                ax[i,j].get_xaxis().set_visible(False)\n",
    "                ax[i,j].get_yaxis().set_visible(False)\n",
    "            for i, j in itertools.product(range(rows), range(cols)):    \n",
    "                ax[i,j].imshow(out_t[i*cols+j].cpu().data.numpy().reshape(28,28), cmap='Greys')  \n",
    "            plt.savefig(\"img/_%03d.png\" % (epoch,))\n",
    "            plt.close() #This prevents plt from displaying the picture in the notebook. \n",
    "            generator.train();"
   ]
  },
  {
   "cell_type": "code",
   "execution_count": null,
   "metadata": {},
   "outputs": [],
   "source": [
    "#save the generator\n",
    "t.save(generator.state_dict(),\"gan.pt\")"
   ]
  },
  {
   "cell_type": "code",
   "execution_count": null,
   "metadata": {},
   "outputs": [],
   "source": [
    "#display the samples\n",
    "with t.no_grad():\n",
    "    # Generate the row x cols samples always using same noise for each of them. \n",
    "    generator.eval()\n",
    "    out_t = generator(fixed_noise);\n",
    "    #Plot the samples on rows x cols grid. \n",
    "    fig, ax = plt.subplots(rows, cols, figsize=(1.5*cols,1.5*rows))\n",
    "    for i, j in itertools.product(range(rows), range(cols) ):\n",
    "        ax[i,j].get_xaxis().set_visible(False)\n",
    "        ax[i,j].get_yaxis().set_visible(False)\n",
    "    for i, j in itertools.product(range(rows), range(cols)):    \n",
    "        ax[i,j].imshow(out_t[i*cols+j].cpu().data.numpy().reshape(28,28), cmap='Greys')         "
   ]
  },
  {
   "cell_type": "code",
   "execution_count": null,
   "metadata": {},
   "outputs": [],
   "source": [
    "#Display original data\n",
    "cols = 8\n",
    "rows = 4 \n",
    "fig, ax = plt.subplots(rows, cols, figsize=(1.5*cols,1.5*rows))\n",
    "for i, j in itertools.product(range(rows), range(cols) ):\n",
    "    ax[i,j].get_xaxis().set_visible(False)\n",
    "    ax[i,j].get_yaxis().set_visible(False)\n",
    "for i, j in itertools.product(range(rows), range(cols)):  \n",
    "    ax[i,j].imshow(mnist_data[np.random.randint(0,len(mnist_data))], cmap='Greys')    "
   ]
  },
  {
   "cell_type": "markdown",
   "metadata": {},
   "source": [
    "A demonstration of how to load generator.  "
   ]
  },
  {
   "cell_type": "code",
   "execution_count": null,
   "metadata": {},
   "outputs": [],
   "source": [
    "generator_loaded = make_generator(noise_input_size)"
   ]
  },
  {
   "cell_type": "code",
   "execution_count": null,
   "metadata": {},
   "outputs": [],
   "source": [
    "generator_loaded.load_state_dict(t.load('gan.pt'))\n",
    "generator_loaded.eval()"
   ]
  },
  {
   "cell_type": "code",
   "execution_count": null,
   "metadata": {},
   "outputs": [],
   "source": [
    "generator_loaded= generator_loaded.to(device)"
   ]
  },
  {
   "cell_type": "code",
   "execution_count": null,
   "metadata": {},
   "outputs": [],
   "source": [
    "in_t = t.empty(1,noise_input_size, device=device).uniform_(-1,1)\n",
    "out_t = generator_loaded(in_t);\n",
    "plt.imshow(out_t.cpu().data.numpy().reshape(28,28), cmap='Greys')"
   ]
  },
  {
   "cell_type": "code",
   "execution_count": null,
   "metadata": {},
   "outputs": [],
   "source": []
  }
 ],
 "metadata": {
  "kernelspec": {
   "display_name": "Python 3",
   "language": "python",
   "name": "python3"
  },
  "language_info": {
   "codemirror_mode": {
    "name": "ipython",
    "version": 3
   },
   "file_extension": ".py",
   "mimetype": "text/x-python",
   "name": "python",
   "nbconvert_exporter": "python",
   "pygments_lexer": "ipython3",
   "version": "3.6.9"
  },
  "pycharm": {
   "stem_cell": {
    "cell_type": "raw",
    "source": [],
    "metadata": {
     "collapsed": false
    }
   }
  }
 },
 "nbformat": 4,
 "nbformat_minor": 4
}