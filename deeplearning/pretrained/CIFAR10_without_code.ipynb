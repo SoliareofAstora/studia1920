{
  "nbformat": 4,
  "nbformat_minor": 0,
  "metadata": {
    "colab": {
      "name": "CIFAR10_without_code.ipynb",
      "provenance": [],
      "collapsed_sections": []
    },
    "kernelspec": {
      "name": "pycharm-e230bcc",
      "language": "python",
      "display_name": "PyCharm (deeplearning)"
    },
    "accelerator": "GPU",
    "pycharm": {
      "stem_cell": {
        "cell_type": "raw",
        "source": [],
        "metadata": {
          "collapsed": false
        }
      }
    }
  },
  "cells": [
    {
      "cell_type": "markdown",
      "metadata": {
        "id": "kVclo602PoY0",
        "colab_type": "text"
      },
      "source": [
        "<h3>  &nbsp;&nbsp;Train on GPU&nbsp;&nbsp; <a href=\"https://cloud.google.com/tpu/\"><img valign=\"middle\" src=\"https://raw.githubusercontent.com/GoogleCloudPlatform/tensorflow-without-a-phd/master/tensorflow-rl-pong/images/tpu-hexagon.png\" width=\"50\"></a></h3>\n",
        "\n",
        "1. On the main menu, click Runtime and select **Change runtime type**. Set \"GPU\" as the hardware accelerator.\n",
        "1. Click Runtime again and select **Runtime > Run All**. You can also run the cells manually with Shift-ENTER. "
      ]
    },
    {
      "cell_type": "code",
      "metadata": {
        "pycharm": {
          "name": "#%%\n",
          "is_executing": false
        },
        "id": "vKyUMIUzEuei",
        "colab_type": "code",
        "colab": {
          "base_uri": "https://localhost:8080/",
          "height": 237
        },
        "outputId": "4e6f31e5-6751-4613-ca43-7a1ec920fed2"
      },
      "source": [
        "import keras\n",
        "keras.__version__\n",
        "from keras import backend as K\n",
        "K.tensorflow_backend._get_available_gpus()"
      ],
      "execution_count": 1,
      "outputs": [
        {
          "output_type": "stream",
          "text": [
            "Using TensorFlow backend.\n"
          ],
          "name": "stderr"
        },
        {
          "output_type": "display_data",
          "data": {
            "text/html": [
              "<p style=\"color: red;\">\n",
              "The default version of TensorFlow in Colab will soon switch to TensorFlow 2.x.<br>\n",
              "We recommend you <a href=\"https://www.tensorflow.org/guide/migrate\" target=\"_blank\">upgrade</a> now \n",
              "or ensure your notebook will continue to use TensorFlow 1.x via the <code>%tensorflow_version 1.x</code> magic:\n",
              "<a href=\"https://colab.research.google.com/notebooks/tensorflow_version.ipynb\" target=\"_blank\">more info</a>.</p>\n"
            ],
            "text/plain": [
              "<IPython.core.display.HTML object>"
            ]
          },
          "metadata": {
            "tags": []
          }
        },
        {
          "output_type": "stream",
          "text": [
            "WARNING:tensorflow:From /usr/local/lib/python3.6/dist-packages/keras/backend/tensorflow_backend.py:190: The name tf.get_default_session is deprecated. Please use tf.compat.v1.get_default_session instead.\n",
            "\n",
            "WARNING:tensorflow:From /usr/local/lib/python3.6/dist-packages/keras/backend/tensorflow_backend.py:197: The name tf.ConfigProto is deprecated. Please use tf.compat.v1.ConfigProto instead.\n",
            "\n",
            "WARNING:tensorflow:From /usr/local/lib/python3.6/dist-packages/keras/backend/tensorflow_backend.py:203: The name tf.Session is deprecated. Please use tf.compat.v1.Session instead.\n",
            "\n",
            "WARNING:tensorflow:From /usr/local/lib/python3.6/dist-packages/keras/backend/tensorflow_backend.py:207: The name tf.global_variables is deprecated. Please use tf.compat.v1.global_variables instead.\n",
            "\n"
          ],
          "name": "stdout"
        },
        {
          "output_type": "execute_result",
          "data": {
            "text/plain": [
              "['/job:localhost/replica:0/task:0/device:GPU:0']"
            ]
          },
          "metadata": {
            "tags": []
          },
          "execution_count": 1
        }
      ]
    },
    {
      "cell_type": "code",
      "metadata": {
        "id": "cLjbWVSwLRAM",
        "colab_type": "code",
        "pycharm": {
          "is_executing": false
        },
        "colab": {}
      },
      "source": [
        "from keras import layers\n",
        "from keras import models\n",
        "from keras.datasets import cifar10\n",
        "from keras.utils import to_categorical\n",
        "\n",
        "(train_images, train_labels), (test_images, test_labels) = cifar10.load_data()"
      ],
      "execution_count": 0,
      "outputs": []
    },
    {
      "cell_type": "code",
      "metadata": {
        "id": "f1l1_b4FLnAx",
        "colab_type": "code",
        "outputId": "849a5389-f206-430b-8468-d7adf918aef1",
        "pycharm": {
          "is_executing": false
        },
        "colab": {
          "base_uri": "https://localhost:8080/",
          "height": 266
        }
      },
      "source": [
        "import matplotlib.pyplot as plt\n",
        "%matplotlib inline\n",
        "\n",
        "digit = train_images[4]\n",
        "plt.imshow(digit, cmap=plt.cm.binary)\n",
        "\n",
        "plt.show()"
      ],
      "execution_count": 3,
      "outputs": [
        {
          "output_type": "display_data",
          "data": {
            "image/png": "[encoded data removed]",
            "text/plain": [
              "<Figure size 432x288 with 1 Axes>"
            ]
          },
          "metadata": {
            "tags": []
          }
        }
      ]
    },
    {
      "cell_type": "code",
      "metadata": {
        "pycharm": {
          "name": "#%%\n",
          "is_executing": false
        },
        "id": "pcefAGXUEufF",
        "colab_type": "code",
        "colab": {}
      },
      "source": [
        "# MODIFY THE CODE TO ADD A VALIDATION SET\n",
        "validation_count = 2500\n",
        "\n",
        "train_images = train_images.reshape((50000, 32, 32, 3))\n",
        "train_images = train_images.astype('float32') / 255\n",
        "\n",
        "validation_images = train_images[:validation_count]\n",
        "train_images = train_images[validation_count:]\n",
        "\n",
        "test_images = test_images.reshape((10000, 32, 32, 3))\n",
        "test_images = test_images.astype('float32') / 255\n",
        "\n",
        "train_labels = to_categorical(train_labels)\n",
        "validation_labels = train_labels[:validation_count]\n",
        "train_labels = train_labels[validation_count:]\n",
        "test_labels = to_categorical(test_labels)"
      ],
      "execution_count": 0,
      "outputs": []
    },
    {
      "cell_type": "code",
      "metadata": {
        "pycharm": {
          "name": "#%%\n",
          "is_executing": false
        },
        "id": "tF0HBHS-EufN",
        "colab_type": "code",
        "colab": {
          "base_uri": "https://localhost:8080/",
          "height": 350
        },
        "outputId": "cb19fa97-1804-4955-9ed7-36fe0d241489"
      },
      "source": [
        "backbone = keras.applications.densenet.DenseNet121(include_top=True, weights='imagenet', input_tensor=None, input_shape=None, pooling=None, classes=1000)\n",
        "backbone.trainable = False"
      ],
      "execution_count": 5,
      "outputs": [
        {
          "output_type": "stream",
          "text": [
            "WARNING:tensorflow:From /usr/local/lib/python3.6/dist-packages/keras/backend/tensorflow_backend.py:66: The name tf.get_default_graph is deprecated. Please use tf.compat.v1.get_default_graph instead.\n",
            "\n",
            "WARNING:tensorflow:From /usr/local/lib/python3.6/dist-packages/keras/backend/tensorflow_backend.py:541: The name tf.placeholder is deprecated. Please use tf.compat.v1.placeholder instead.\n",
            "\n",
            "WARNING:tensorflow:From /usr/local/lib/python3.6/dist-packages/keras/backend/tensorflow_backend.py:4432: The name tf.random_uniform is deprecated. Please use tf.random.uniform instead.\n",
            "\n",
            "WARNING:tensorflow:From /usr/local/lib/python3.6/dist-packages/keras/backend/tensorflow_backend.py:2041: The name tf.nn.fused_batch_norm is deprecated. Please use tf.compat.v1.nn.fused_batch_norm instead.\n",
            "\n",
            "WARNING:tensorflow:From /usr/local/lib/python3.6/dist-packages/keras/backend/tensorflow_backend.py:148: The name tf.placeholder_with_default is deprecated. Please use tf.compat.v1.placeholder_with_default instead.\n",
            "\n",
            "WARNING:tensorflow:From /usr/local/lib/python3.6/dist-packages/keras/backend/tensorflow_backend.py:4267: The name tf.nn.max_pool is deprecated. Please use tf.nn.max_pool2d instead.\n",
            "\n",
            "WARNING:tensorflow:From /usr/local/lib/python3.6/dist-packages/keras/backend/tensorflow_backend.py:4271: The name tf.nn.avg_pool is deprecated. Please use tf.nn.avg_pool2d instead.\n",
            "\n",
            "WARNING:tensorflow:From /usr/local/lib/python3.6/dist-packages/keras/backend/tensorflow_backend.py:216: The name tf.is_variable_initialized is deprecated. Please use tf.compat.v1.is_variable_initialized instead.\n",
            "\n",
            "WARNING:tensorflow:From /usr/local/lib/python3.6/dist-packages/keras/backend/tensorflow_backend.py:223: The name tf.variables_initializer is deprecated. Please use tf.compat.v1.variables_initializer instead.\n",
            "\n"
          ],
          "name": "stdout"
        }
      ]
    },
    {
      "cell_type": "code",
      "metadata": {
        "pycharm": {
          "name": "#%%\n",
          "is_executing": true
        },
        "id": "a8PWENZQEufV",
        "colab_type": "code",
        "colab": {
          "base_uri": "https://localhost:8080/",
          "height": 69
        },
        "outputId": "d91b4552-1ad8-4573-fe5f-fc770d4ce6cc"
      },
      "source": [
        "import cv2\n",
        "import tqdm\n",
        "import numpy as np\n",
        "def extract(images):\n",
        "    output = []\n",
        "    with tqdm.tqdm(total=images.shape[0]) as pbar:\n",
        "        for image in images:\n",
        "            img = cv2.resize(image, dsize=(224, 224), interpolation=cv2.INTER_CUBIC).reshape(1,224,224,3)\n",
        "            output.append(backbone.predict(img))\n",
        "            pbar.update(1)\n",
        "    return output\n",
        "\n",
        "test_images = np.concatenate(extract(test_images))\n",
        "train_images = np.concatenate(extract(train_images))\n",
        "validation_images = np.concatenate(extract(validation_images))\n",
        "# backbone.predict(test_images)"
      ],
      "execution_count": 7,
      "outputs": [
        {
          "output_type": "stream",
          "text": [
            "100%|██████████| 10000/10000 [03:02<00:00, 54.91it/s]\n",
            "100%|██████████| 47500/47500 [13:53<00:00, 56.97it/s]\n",
            "100%|██████████| 2500/2500 [00:43<00:00, 58.07it/s]\n"
          ],
          "name": "stderr"
        }
      ]
    },
    {
      "cell_type": "code",
      "metadata": {
        "id": "rIJilTuvRnDY",
        "colab_type": "code",
        "pycharm": {
          "is_executing": false
        },
        "colab": {
          "base_uri": "https://localhost:8080/",
          "height": 86
        },
        "outputId": "6538f43a-697c-4715-8017-231c0f089ae2"
      },
      "source": [
        "# MAKE WHATEVER CHANGES ARE NECESSARY\n",
        "# TO GET 0.7 ACCURACY ON THE TEST SET\n",
        "\n",
        "model = models.Sequential()\n",
        "model.add(layers.Dense(1000, activation='relu',input_shape=[1000]))\n",
        "model.add(layers.Dense(10, activation='softmax'))\n",
        "\n",
        "model.compile(optimizer='adam',\n",
        "              loss='categorical_crossentropy',\n",
        "              metrics=['accuracy'])"
      ],
      "execution_count": 9,
      "outputs": [
        {
          "output_type": "stream",
          "text": [
            "WARNING:tensorflow:From /usr/local/lib/python3.6/dist-packages/keras/optimizers.py:793: The name tf.train.Optimizer is deprecated. Please use tf.compat.v1.train.Optimizer instead.\n",
            "\n",
            "WARNING:tensorflow:From /usr/local/lib/python3.6/dist-packages/keras/backend/tensorflow_backend.py:3576: The name tf.log is deprecated. Please use tf.math.log instead.\n",
            "\n"
          ],
          "name": "stdout"
        }
      ]
    },
    {
      "cell_type": "code",
      "metadata": {
        "id": "Lr0xkEliYc-6",
        "colab_type": "code",
        "outputId": "6897d91a-dd48-48fe-8a73-e717568b7858",
        "pycharm": {
          "is_executing": false
        },
        "colab": {
          "base_uri": "https://localhost:8080/",
          "height": 225
        }
      },
      "source": [
        "model.summary()"
      ],
      "execution_count": 10,
      "outputs": [
        {
          "output_type": "stream",
          "text": [
            "Model: \"sequential_2\"\n",
            "_________________________________________________________________\n",
            "Layer (type)                 Output Shape              Param #   \n",
            "=================================================================\n",
            "dense_2 (Dense)              (None, 1000)              1001000   \n",
            "_________________________________________________________________\n",
            "dense_3 (Dense)              (None, 10)                10010     \n",
            "=================================================================\n",
            "Total params: 1,011,010\n",
            "Trainable params: 1,011,010\n",
            "Non-trainable params: 0\n",
            "_________________________________________________________________\n"
          ],
          "name": "stdout"
        }
      ]
    },
    {
      "cell_type": "code",
      "metadata": {
        "id": "pdgz18QPNOVr",
        "colab_type": "code",
        "outputId": "5775abb6-0fe0-4653-a3f3-a52794d57d84",
        "pycharm": {
          "is_executing": true
        },
        "colab": {
          "base_uri": "https://localhost:8080/",
          "height": 1000
        }
      },
      "source": [
        "  # MAKE WHATEVER CHANGES ARE NECESSARY\n",
        "  # TO GET 0.7 ACCURACY ON THE TEST SET\n",
        "epichs = 100\n",
        "model_hist = model.fit(train_images, train_labels,\n",
        "                       validation_data=(validation_images,validation_labels),\n",
        "                        epochs=epichs, batch_size=500)"
      ],
      "execution_count": 11,
      "outputs": [
        {
          "output_type": "stream",
          "text": [
            "WARNING:tensorflow:From /usr/local/lib/python3.6/dist-packages/tensorflow_core/python/ops/math_grad.py:1424: where (from tensorflow.python.ops.array_ops) is deprecated and will be removed in a future version.\n",
            "Instructions for updating:\n",
            "Use tf.where in 2.0, which has the same broadcast rule as np.where\n",
            "WARNING:tensorflow:From /usr/local/lib/python3.6/dist-packages/keras/backend/tensorflow_backend.py:1033: The name tf.assign_add is deprecated. Please use tf.compat.v1.assign_add instead.\n",
            "\n",
            "WARNING:tensorflow:From /usr/local/lib/python3.6/dist-packages/keras/backend/tensorflow_backend.py:1020: The name tf.assign is deprecated. Please use tf.compat.v1.assign instead.\n",
            "\n",
            "Train on 47500 samples, validate on 2500 samples\n",
            "Epoch 1/100\n",
            "47500/47500 [==============================] - 2s 43us/step - loss: 1.6653 - acc: 0.5459 - val_loss: 1.1749 - val_acc: 0.6140\n",
            "Epoch 2/100\n",
            "47500/47500 [==============================] - 1s 11us/step - loss: 1.0744 - acc: 0.6382 - val_loss: 1.0186 - val_acc: 0.6488\n",
            "Epoch 3/100\n",
            "47500/47500 [==============================] - 1s 11us/step - loss: 0.9748 - acc: 0.6693 - val_loss: 0.9562 - val_acc: 0.6712\n",
            "Epoch 4/100\n",
            "47500/47500 [==============================] - 1s 11us/step - loss: 0.9225 - acc: 0.6884 - val_loss: 0.9236 - val_acc: 0.6936\n",
            "Epoch 5/100\n",
            "47500/47500 [==============================] - 1s 11us/step - loss: 0.8868 - acc: 0.7002 - val_loss: 0.9001 - val_acc: 0.6952\n",
            "Epoch 6/100\n",
            "47500/47500 [==============================] - 1s 11us/step - loss: 0.8593 - acc: 0.7098 - val_loss: 0.8850 - val_acc: 0.7072\n",
            "Epoch 7/100\n",
            "47500/47500 [==============================] - 0s 10us/step - loss: 0.8361 - acc: 0.7167 - val_loss: 0.8645 - val_acc: 0.7160\n",
            "Epoch 8/100\n",
            "47500/47500 [==============================] - 1s 11us/step - loss: 0.8168 - acc: 0.7243 - val_loss: 0.8497 - val_acc: 0.7180\n",
            "Epoch 9/100\n",
            "47500/47500 [==============================] - 1s 11us/step - loss: 0.7984 - acc: 0.7289 - val_loss: 0.8365 - val_acc: 0.7212\n",
            "Epoch 10/100\n",
            "47500/47500 [==============================] - 1s 11us/step - loss: 0.7829 - acc: 0.7346 - val_loss: 0.8299 - val_acc: 0.7200\n",
            "Epoch 11/100\n",
            "47500/47500 [==============================] - 1s 11us/step - loss: 0.7688 - acc: 0.7388 - val_loss: 0.8186 - val_acc: 0.7248\n",
            "Epoch 12/100\n",
            "47500/47500 [==============================] - 1s 11us/step - loss: 0.7558 - acc: 0.7435 - val_loss: 0.8075 - val_acc: 0.7284\n",
            "Epoch 13/100\n",
            "47500/47500 [==============================] - 1s 11us/step - loss: 0.7426 - acc: 0.7472 - val_loss: 0.8077 - val_acc: 0.7268\n",
            "Epoch 14/100\n",
            "47500/47500 [==============================] - 0s 10us/step - loss: 0.7321 - acc: 0.7500 - val_loss: 0.7929 - val_acc: 0.7384\n",
            "Epoch 15/100\n",
            "47500/47500 [==============================] - 1s 11us/step - loss: 0.7202 - acc: 0.7544 - val_loss: 0.7860 - val_acc: 0.7416\n",
            "Epoch 16/100\n",
            "47500/47500 [==============================] - 1s 11us/step - loss: 0.7110 - acc: 0.7565 - val_loss: 0.7843 - val_acc: 0.7444\n",
            "Epoch 17/100\n",
            "47500/47500 [==============================] - 0s 10us/step - loss: 0.7007 - acc: 0.7597 - val_loss: 0.7789 - val_acc: 0.7440\n",
            "Epoch 18/100\n",
            "47500/47500 [==============================] - 0s 10us/step - loss: 0.6927 - acc: 0.7635 - val_loss: 0.7695 - val_acc: 0.7468\n",
            "Epoch 19/100\n",
            "47500/47500 [==============================] - 1s 11us/step - loss: 0.6833 - acc: 0.7658 - val_loss: 0.7636 - val_acc: 0.7488\n",
            "Epoch 20/100\n",
            "47500/47500 [==============================] - 0s 10us/step - loss: 0.6756 - acc: 0.7675 - val_loss: 0.7622 - val_acc: 0.7468\n",
            "Epoch 21/100\n",
            "47500/47500 [==============================] - 0s 10us/step - loss: 0.6671 - acc: 0.7697 - val_loss: 0.7566 - val_acc: 0.7548\n",
            "Epoch 22/100\n",
            "47500/47500 [==============================] - 0s 10us/step - loss: 0.6591 - acc: 0.7731 - val_loss: 0.7527 - val_acc: 0.7548\n",
            "Epoch 23/100\n",
            "47500/47500 [==============================] - 1s 11us/step - loss: 0.6525 - acc: 0.7757 - val_loss: 0.7481 - val_acc: 0.7548\n",
            "Epoch 24/100\n",
            "47500/47500 [==============================] - 0s 10us/step - loss: 0.6453 - acc: 0.7777 - val_loss: 0.7456 - val_acc: 0.7564\n",
            "Epoch 25/100\n",
            "47500/47500 [==============================] - 1s 11us/step - loss: 0.6382 - acc: 0.7798 - val_loss: 0.7424 - val_acc: 0.7612\n",
            "Epoch 26/100\n",
            "47500/47500 [==============================] - 0s 10us/step - loss: 0.6318 - acc: 0.7843 - val_loss: 0.7401 - val_acc: 0.7588\n",
            "Epoch 27/100\n",
            "47500/47500 [==============================] - 1s 11us/step - loss: 0.6247 - acc: 0.7851 - val_loss: 0.7365 - val_acc: 0.7568\n",
            "Epoch 28/100\n",
            "47500/47500 [==============================] - 1s 11us/step - loss: 0.6185 - acc: 0.7868 - val_loss: 0.7330 - val_acc: 0.7640\n",
            "Epoch 29/100\n",
            "47500/47500 [==============================] - 1s 11us/step - loss: 0.6133 - acc: 0.7884 - val_loss: 0.7296 - val_acc: 0.7616\n",
            "Epoch 30/100\n",
            "47500/47500 [==============================] - 0s 10us/step - loss: 0.6074 - acc: 0.7913 - val_loss: 0.7336 - val_acc: 0.7644\n",
            "Epoch 31/100\n",
            "47500/47500 [==============================] - 1s 11us/step - loss: 0.6014 - acc: 0.7935 - val_loss: 0.7278 - val_acc: 0.7640\n",
            "Epoch 32/100\n",
            "47500/47500 [==============================] - 0s 10us/step - loss: 0.5950 - acc: 0.7963 - val_loss: 0.7239 - val_acc: 0.7664\n",
            "Epoch 33/100\n",
            "47500/47500 [==============================] - 1s 11us/step - loss: 0.5900 - acc: 0.7967 - val_loss: 0.7202 - val_acc: 0.7644\n",
            "Epoch 34/100\n",
            "47500/47500 [==============================] - 1s 11us/step - loss: 0.5846 - acc: 0.7993 - val_loss: 0.7180 - val_acc: 0.7672\n",
            "Epoch 35/100\n",
            "47500/47500 [==============================] - 1s 11us/step - loss: 0.5793 - acc: 0.7997 - val_loss: 0.7196 - val_acc: 0.7640\n",
            "Epoch 36/100\n",
            "47500/47500 [==============================] - 1s 11us/step - loss: 0.5749 - acc: 0.8021 - val_loss: 0.7151 - val_acc: 0.7668\n",
            "Epoch 37/100\n",
            "47500/47500 [==============================] - 1s 11us/step - loss: 0.5694 - acc: 0.8040 - val_loss: 0.7136 - val_acc: 0.7668\n",
            "Epoch 38/100\n",
            "47500/47500 [==============================] - 1s 11us/step - loss: 0.5645 - acc: 0.8056 - val_loss: 0.7157 - val_acc: 0.7672\n",
            "Epoch 39/100\n",
            "47500/47500 [==============================] - 1s 11us/step - loss: 0.5597 - acc: 0.8069 - val_loss: 0.7109 - val_acc: 0.7688\n",
            "Epoch 40/100\n",
            "47500/47500 [==============================] - 0s 10us/step - loss: 0.5548 - acc: 0.8089 - val_loss: 0.7101 - val_acc: 0.7672\n",
            "Epoch 41/100\n",
            "47500/47500 [==============================] - 1s 11us/step - loss: 0.5494 - acc: 0.8110 - val_loss: 0.7144 - val_acc: 0.7644\n",
            "Epoch 42/100\n",
            "47500/47500 [==============================] - 0s 10us/step - loss: 0.5465 - acc: 0.8118 - val_loss: 0.7106 - val_acc: 0.7744\n",
            "Epoch 43/100\n",
            "47500/47500 [==============================] - 1s 11us/step - loss: 0.5414 - acc: 0.8122 - val_loss: 0.7062 - val_acc: 0.7720\n",
            "Epoch 44/100\n",
            "47500/47500 [==============================] - 1s 11us/step - loss: 0.5360 - acc: 0.8141 - val_loss: 0.7053 - val_acc: 0.7728\n",
            "Epoch 45/100\n",
            "47500/47500 [==============================] - 1s 11us/step - loss: 0.5323 - acc: 0.8168 - val_loss: 0.7053 - val_acc: 0.7700\n",
            "Epoch 46/100\n",
            "47500/47500 [==============================] - 1s 11us/step - loss: 0.5274 - acc: 0.8182 - val_loss: 0.7049 - val_acc: 0.7740\n",
            "Epoch 47/100\n",
            "47500/47500 [==============================] - 0s 10us/step - loss: 0.5224 - acc: 0.8206 - val_loss: 0.7057 - val_acc: 0.7704\n",
            "Epoch 48/100\n",
            "47500/47500 [==============================] - 0s 10us/step - loss: 0.5192 - acc: 0.8206 - val_loss: 0.7036 - val_acc: 0.7752\n",
            "Epoch 49/100\n",
            "47500/47500 [==============================] - 0s 10us/step - loss: 0.5145 - acc: 0.8224 - val_loss: 0.7043 - val_acc: 0.7692\n",
            "Epoch 50/100\n",
            "47500/47500 [==============================] - 1s 11us/step - loss: 0.5108 - acc: 0.8241 - val_loss: 0.6994 - val_acc: 0.7728\n",
            "Epoch 51/100\n",
            "47500/47500 [==============================] - 1s 11us/step - loss: 0.5060 - acc: 0.8254 - val_loss: 0.6982 - val_acc: 0.7740\n",
            "Epoch 52/100\n",
            "47500/47500 [==============================] - 1s 11us/step - loss: 0.5018 - acc: 0.8273 - val_loss: 0.7018 - val_acc: 0.7788\n",
            "Epoch 53/100\n",
            "47500/47500 [==============================] - 0s 10us/step - loss: 0.4973 - acc: 0.8278 - val_loss: 0.6970 - val_acc: 0.7816\n",
            "Epoch 54/100\n",
            "47500/47500 [==============================] - 1s 11us/step - loss: 0.4955 - acc: 0.8285 - val_loss: 0.7025 - val_acc: 0.7712\n",
            "Epoch 55/100\n",
            "47500/47500 [==============================] - 1s 11us/step - loss: 0.4900 - acc: 0.8303 - val_loss: 0.6994 - val_acc: 0.7736\n",
            "Epoch 56/100\n",
            "47500/47500 [==============================] - 1s 11us/step - loss: 0.4860 - acc: 0.8334 - val_loss: 0.7025 - val_acc: 0.7700\n",
            "Epoch 57/100\n",
            "47500/47500 [==============================] - 1s 11us/step - loss: 0.4835 - acc: 0.8343 - val_loss: 0.6968 - val_acc: 0.7728\n",
            "Epoch 58/100\n",
            "47500/47500 [==============================] - 0s 10us/step - loss: 0.4785 - acc: 0.8354 - val_loss: 0.6950 - val_acc: 0.7776\n",
            "Epoch 59/100\n",
            "47500/47500 [==============================] - 1s 11us/step - loss: 0.4747 - acc: 0.8371 - val_loss: 0.6980 - val_acc: 0.7728\n",
            "Epoch 60/100\n",
            "47500/47500 [==============================] - 0s 10us/step - loss: 0.4712 - acc: 0.8379 - val_loss: 0.6965 - val_acc: 0.7764\n",
            "Epoch 61/100\n",
            "47500/47500 [==============================] - 1s 11us/step - loss: 0.4670 - acc: 0.8391 - val_loss: 0.6946 - val_acc: 0.7788\n",
            "Epoch 62/100\n",
            "47500/47500 [==============================] - 1s 11us/step - loss: 0.4637 - acc: 0.8410 - val_loss: 0.6994 - val_acc: 0.7796\n",
            "Epoch 63/100\n",
            "47500/47500 [==============================] - 1s 11us/step - loss: 0.4605 - acc: 0.8416 - val_loss: 0.6952 - val_acc: 0.7816\n",
            "Epoch 64/100\n",
            "47500/47500 [==============================] - 0s 11us/step - loss: 0.4565 - acc: 0.8429 - val_loss: 0.7011 - val_acc: 0.7760\n",
            "Epoch 65/100\n",
            "47500/47500 [==============================] - 1s 11us/step - loss: 0.4524 - acc: 0.8451 - val_loss: 0.6958 - val_acc: 0.7780\n",
            "Epoch 66/100\n",
            "47500/47500 [==============================] - 1s 11us/step - loss: 0.4485 - acc: 0.8465 - val_loss: 0.6917 - val_acc: 0.7808\n",
            "Epoch 67/100\n",
            "47500/47500 [==============================] - 1s 11us/step - loss: 0.4462 - acc: 0.8485 - val_loss: 0.6958 - val_acc: 0.7788\n",
            "Epoch 68/100\n",
            "47500/47500 [==============================] - 0s 10us/step - loss: 0.4426 - acc: 0.8500 - val_loss: 0.7016 - val_acc: 0.7764\n",
            "Epoch 69/100\n",
            "47500/47500 [==============================] - 1s 11us/step - loss: 0.4390 - acc: 0.8504 - val_loss: 0.6963 - val_acc: 0.7820\n",
            "Epoch 70/100\n",
            "47500/47500 [==============================] - 0s 10us/step - loss: 0.4363 - acc: 0.8519 - val_loss: 0.6928 - val_acc: 0.7824\n",
            "Epoch 71/100\n",
            "47500/47500 [==============================] - 0s 10us/step - loss: 0.4323 - acc: 0.8524 - val_loss: 0.6985 - val_acc: 0.7788\n",
            "Epoch 72/100\n",
            "47500/47500 [==============================] - 0s 10us/step - loss: 0.4298 - acc: 0.8539 - val_loss: 0.6926 - val_acc: 0.7800\n",
            "Epoch 73/100\n",
            "47500/47500 [==============================] - 1s 11us/step - loss: 0.4252 - acc: 0.8564 - val_loss: 0.7004 - val_acc: 0.7800\n",
            "Epoch 74/100\n",
            "47500/47500 [==============================] - 0s 11us/step - loss: 0.4219 - acc: 0.8584 - val_loss: 0.6963 - val_acc: 0.7820\n",
            "Epoch 75/100\n",
            "47500/47500 [==============================] - 1s 11us/step - loss: 0.4188 - acc: 0.8585 - val_loss: 0.6967 - val_acc: 0.7780\n",
            "Epoch 76/100\n",
            "47500/47500 [==============================] - 1s 11us/step - loss: 0.4160 - acc: 0.8590 - val_loss: 0.6944 - val_acc: 0.7812\n",
            "Epoch 77/100\n",
            "47500/47500 [==============================] - 0s 10us/step - loss: 0.4129 - acc: 0.8606 - val_loss: 0.7064 - val_acc: 0.7768\n",
            "Epoch 78/100\n",
            "47500/47500 [==============================] - 0s 10us/step - loss: 0.4096 - acc: 0.8613 - val_loss: 0.6958 - val_acc: 0.7824\n",
            "Epoch 79/100\n",
            "47500/47500 [==============================] - 1s 11us/step - loss: 0.4061 - acc: 0.8631 - val_loss: 0.6986 - val_acc: 0.7820\n",
            "Epoch 80/100\n",
            "47500/47500 [==============================] - 0s 10us/step - loss: 0.4033 - acc: 0.8653 - val_loss: 0.7070 - val_acc: 0.7776\n",
            "Epoch 81/100\n",
            "47500/47500 [==============================] - 1s 11us/step - loss: 0.4006 - acc: 0.8647 - val_loss: 0.6993 - val_acc: 0.7820\n",
            "Epoch 82/100\n",
            "47500/47500 [==============================] - 1s 11us/step - loss: 0.3975 - acc: 0.8669 - val_loss: 0.7027 - val_acc: 0.7840\n",
            "Epoch 83/100\n",
            "47500/47500 [==============================] - 0s 10us/step - loss: 0.3939 - acc: 0.8682 - val_loss: 0.6993 - val_acc: 0.7848\n",
            "Epoch 84/100\n",
            "47500/47500 [==============================] - 1s 11us/step - loss: 0.3909 - acc: 0.8688 - val_loss: 0.6996 - val_acc: 0.7800\n",
            "Epoch 85/100\n",
            "47500/47500 [==============================] - 1s 11us/step - loss: 0.3880 - acc: 0.8701 - val_loss: 0.6997 - val_acc: 0.7816\n",
            "Epoch 86/100\n",
            "47500/47500 [==============================] - 1s 11us/step - loss: 0.3848 - acc: 0.8714 - val_loss: 0.7068 - val_acc: 0.7844\n",
            "Epoch 87/100\n",
            "47500/47500 [==============================] - 0s 10us/step - loss: 0.3822 - acc: 0.8732 - val_loss: 0.7030 - val_acc: 0.7812\n",
            "Epoch 88/100\n",
            "47500/47500 [==============================] - 1s 11us/step - loss: 0.3787 - acc: 0.8740 - val_loss: 0.7048 - val_acc: 0.7848\n",
            "Epoch 89/100\n",
            "47500/47500 [==============================] - 1s 11us/step - loss: 0.3766 - acc: 0.8733 - val_loss: 0.6980 - val_acc: 0.7864\n",
            "Epoch 90/100\n",
            "47500/47500 [==============================] - 1s 11us/step - loss: 0.3742 - acc: 0.8740 - val_loss: 0.7064 - val_acc: 0.7840\n",
            "Epoch 91/100\n",
            "47500/47500 [==============================] - 1s 11us/step - loss: 0.3713 - acc: 0.8764 - val_loss: 0.7106 - val_acc: 0.7812\n",
            "Epoch 92/100\n",
            "47500/47500 [==============================] - 1s 11us/step - loss: 0.3674 - acc: 0.8780 - val_loss: 0.7049 - val_acc: 0.7828\n",
            "Epoch 93/100\n",
            "47500/47500 [==============================] - 1s 11us/step - loss: 0.3644 - acc: 0.8793 - val_loss: 0.7056 - val_acc: 0.7836\n",
            "Epoch 94/100\n",
            "47500/47500 [==============================] - 0s 10us/step - loss: 0.3624 - acc: 0.8797 - val_loss: 0.7112 - val_acc: 0.7772\n",
            "Epoch 95/100\n",
            "47500/47500 [==============================] - 1s 11us/step - loss: 0.3595 - acc: 0.8813 - val_loss: 0.7098 - val_acc: 0.7816\n",
            "Epoch 96/100\n",
            "47500/47500 [==============================] - 1s 11us/step - loss: 0.3560 - acc: 0.8821 - val_loss: 0.7081 - val_acc: 0.7836\n",
            "Epoch 97/100\n",
            "47500/47500 [==============================] - 0s 10us/step - loss: 0.3542 - acc: 0.8833 - val_loss: 0.7106 - val_acc: 0.7836\n",
            "Epoch 98/100\n",
            "47500/47500 [==============================] - 1s 11us/step - loss: 0.3521 - acc: 0.8845 - val_loss: 0.7253 - val_acc: 0.7848\n",
            "Epoch 99/100\n",
            "47500/47500 [==============================] - 1s 11us/step - loss: 0.3494 - acc: 0.8852 - val_loss: 0.7112 - val_acc: 0.7816\n",
            "Epoch 100/100\n",
            "47500/47500 [==============================] - 1s 11us/step - loss: 0.3459 - acc: 0.8859 - val_loss: 0.7198 - val_acc: 0.7800\n"
          ],
          "name": "stdout"
        }
      ]
    },
    {
      "cell_type": "code",
      "metadata": {
        "id": "AK7GvOCaUwp9",
        "colab_type": "code",
        "outputId": "0d3359b5-6787-43a4-ed8a-930db9762015",
        "pycharm": {
          "is_executing": true
        },
        "colab": {
          "base_uri": "https://localhost:8080/",
          "height": 279
        }
      },
      "source": [
        "import matplotlib.pyplot as plt\n",
        "\n",
        "epochs = range(0, epichs)\n",
        "train_loss = model_hist.history['loss']\n",
        "val_loss= model_hist.history['val_loss']\n",
        "\n",
        "plt.plot(epochs, val_loss, 'b+', label='Validation')\n",
        "plt.plot(epochs, train_loss, 'bo', label='training')\n",
        "plt.xlabel('Epochs')\n",
        "plt.ylabel('Validation loss')\n",
        "plt.legend()\n",
        "\n",
        "plt.show()"
      ],
      "execution_count": 12,
      "outputs": [
        {
          "output_type": "display_data",
          "data": {
            "image/png": "[encoded data removed]",
            "text/plain": [
              "<Figure size 432x288 with 1 Axes>"
            ]
          },
          "metadata": {
            "tags": []
          }
        }
      ]
    },
    {
      "cell_type": "code",
      "metadata": {
        "id": "ZSr5gnDLNRo7",
        "colab_type": "code",
        "outputId": "f52ec8a5-8da4-4187-ebdc-fd88f2c926f0",
        "pycharm": {
          "is_executing": true
        },
        "colab": {
          "base_uri": "https://localhost:8080/",
          "height": 69
        }
      },
      "source": [
        "test_loss, test_acc = model.evaluate(test_images, test_labels)\n",
        "print('test_acc:', test_acc)\n",
        "test_loss"
      ],
      "execution_count": 13,
      "outputs": [
        {
          "output_type": "stream",
          "text": [
            "10000/10000 [==============================] - 1s 50us/step\n",
            "test_acc: 0.7803\n"
          ],
          "name": "stdout"
        },
        {
          "output_type": "execute_result",
          "data": {
            "text/plain": [
              "0.7103838948726654"
            ]
          },
          "metadata": {
            "tags": []
          },
          "execution_count": 13
        }
      ]
    },
    {
      "cell_type": "code",
      "metadata": {
        "id": "e9SeN6QOO77D",
        "colab_type": "code",
        "pycharm": {
          "is_executing": false
        },
        "colab": {}
      },
      "source": [
        "model.save_weights('./cifar10.h5', overwrite=True)"
      ],
      "execution_count": 0,
      "outputs": []
    },
    {
      "cell_type": "code",
      "metadata": {
        "pycharm": {
          "name": "#%%\n"
        },
        "id": "WkigYULHEugI",
        "colab_type": "code",
        "colab": {}
      },
      "source": [
        "\n"
      ],
      "execution_count": 0,
      "outputs": []
    }
  ]
}