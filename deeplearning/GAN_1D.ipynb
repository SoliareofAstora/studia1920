{
 "cells": [
  {
   "cell_type": "code",
   "execution_count": 1,
   "outputs": [],
   "source": [
    "import numpy as np\n",
    "import scipy\n",
    "import scipy.stats\n",
    "import torch as t\n",
    "import matplotlib.pyplot as plt"
   ],
   "metadata": {
    "collapsed": false,
    "pycharm": {
     "name": "#%%\n",
     "is_executing": false
    }
   }
  },
  {
   "cell_type": "code",
   "execution_count": 2,
   "outputs": [],
   "source": [
    "from torch.nn import Sequential, Linear, ReLU, LeakyReLU, Dropout, Sigmoid"
   ],
   "metadata": {
    "collapsed": false,
    "pycharm": {
     "name": "#%%\n",
     "is_executing": false
    }
   }
  },
  {
   "cell_type": "code",
   "execution_count": 3,
   "outputs": [],
   "source": [
    "%matplotlib inline"
   ],
   "metadata": {
    "collapsed": false,
    "pycharm": {
     "name": "#%%\n",
     "is_executing": false
    }
   }
  },
  {
   "cell_type": "code",
   "execution_count": 4,
   "outputs": [],
   "source": [
    "if t.cuda.is_available():\n",
    "    if t.cuda.device_count()>1:\n",
    "        device = t.device('cuda:1')\n",
    "    else:\n",
    "        device = t.device('cuda')   \n",
    "else:\n",
    "    device = t.device('cpu')"
   ],
   "metadata": {
    "collapsed": false,
    "pycharm": {
     "name": "#%%\n",
     "is_executing": false
    }
   }
  },
  {
   "cell_type": "code",
   "execution_count": 5,
   "outputs": [],
   "source": [
    "d1_dist = scipy.stats.norm(loc=3,scale=2)\n",
    "d2_dist = scipy.stats.norm(loc=0,  scale=0.5)"
   ],
   "metadata": {
    "collapsed": false,
    "pycharm": {
     "name": "#%%\n",
     "is_executing": false
    }
   }
  },
  {
   "cell_type": "code",
   "execution_count": 6,
   "outputs": [],
   "source": [
    "d1 = d1_dist.rvs(size=50000).astype('float32')\n",
    "d2 = d2_dist.rvs(25000).astype('float32')"
   ],
   "metadata": {
    "collapsed": false,
    "pycharm": {
     "name": "#%%\n",
     "is_executing": false
    }
   }
  },
  {
   "cell_type": "code",
   "execution_count": 7,
   "outputs": [],
   "source": [
    "def p_data(x):\n",
    "    return 2/3*d1_dist.pdf(x)+1/3*d2_dist.pdf(x)"
   ],
   "metadata": {
    "collapsed": false,
    "pycharm": {
     "name": "#%%\n",
     "is_executing": false
    }
   }
  },
  {
   "cell_type": "code",
   "execution_count": 8,
   "outputs": [],
   "source": [
    "data =np.concatenate((d1,d2)) \n",
    "np.random.shuffle(data)\n",
    "data_t = t.from_numpy(data).view(-1,1)"
   ],
   "metadata": {
    "collapsed": false,
    "pycharm": {
     "name": "#%%\n",
     "is_executing": false
    }
   }
  },
  {
   "cell_type": "code",
   "execution_count": 9,
   "outputs": [
    {
     "data": {
      "text/plain": "tensor([[-0.1511],\n        [ 5.8021],\n        [ 3.1821],\n        ...,\n        [-0.8136],\n        [-0.3738],\n        [ 1.6336]])"
     },
     "metadata": {},
     "output_type": "execute_result",
     "execution_count": 9
    }
   ],
   "source": [
    "data_t"
   ],
   "metadata": {
    "collapsed": false,
    "pycharm": {
     "name": "#%%\n",
     "is_executing": false
    }
   }
  },
  {
   "cell_type": "code",
   "execution_count": 10,
   "outputs": [],
   "source": [
    "ys = np.linspace(-5,10,100).astype('float32')"
   ],
   "metadata": {
    "collapsed": false,
    "pycharm": {
     "name": "#%%\n",
     "is_executing": false
    }
   }
  },
  {
   "cell_type": "code",
   "execution_count": 11,
   "outputs": [
    {
     "data": {
      "text/plain": "[<matplotlib.lines.Line2D at 0x7f86cb938c10>]"
     },
     "metadata": {},
     "output_type": "execute_result",
     "execution_count": 11
    },
    {
     "data": {
      "text/plain": "<Figure size 432x288 with 1 Axes>",
      "image/png": "[encoded data removed]"
     },
     "metadata": {
      "needs_background": "light"
     },
     "output_type": "display_data"
    }
   ],
   "source": [
    "plt.hist(data, bins=100, density=True);\n",
    "plt.plot(ys, p_data(ys))"
   ],
   "metadata": {
    "collapsed": false,
    "pycharm": {
     "name": "#%%\n",
     "is_executing": false
    }
   }
  },
  {
   "cell_type": "code",
   "execution_count": 12,
   "outputs": [],
   "source": [
    "noise_dist=scipy.stats.uniform(loc=0, scale=1)"
   ],
   "metadata": {
    "collapsed": false,
    "pycharm": {
     "name": "#%%\n",
     "is_executing": false
    }
   }
  },
  {
   "cell_type": "markdown",
   "source": [
    "## Inverse cumulant"
   ],
   "metadata": {
    "collapsed": false
   }
  },
  {
   "cell_type": "code",
   "execution_count": 13,
   "outputs": [],
   "source": [
    "us = np.linspace(0,1,100).astype('float32')\n",
    "us_t = t.from_numpy(us).view(-1,1)"
   ],
   "metadata": {
    "collapsed": false,
    "pycharm": {
     "name": "#%%\n",
     "is_executing": false
    }
   }
  },
  {
   "cell_type": "code",
   "execution_count": 14,
   "outputs": [],
   "source": [
    "def f_generator(u):\n",
    "    return t.log(u/(1-u))"
   ],
   "metadata": {
    "collapsed": false,
    "pycharm": {
     "name": "#%%\n",
     "is_executing": false
    }
   }
  },
  {
   "cell_type": "markdown",
   "source": [
    "$$ Y = \\log\\left(\\frac{u}{1-u}\\right)$$"
   ],
   "metadata": {
    "collapsed": false
   }
  },
  {
   "cell_type": "markdown",
   "source": [
    "$$CDF_{Y}(x)=P(Y<y)$$ "
   ],
   "metadata": {
    "collapsed": false
   }
  },
  {
   "cell_type": "markdown",
   "source": [
    "$$P(\\log\\left(\\frac{u}{1-u}\\right)<y)$$ "
   ],
   "metadata": {
    "collapsed": false
   }
  },
  {
   "cell_type": "markdown",
   "source": [
    "$$P\\left(\\frac{u}{1-u}<e^y\\right)$$ "
   ],
   "metadata": {
    "collapsed": false
   }
  },
  {
   "cell_type": "markdown",
   "source": [
    "$$P\\left(u<e^y-u e^y\\right)$$ "
   ],
   "metadata": {
    "collapsed": false
   }
  },
  {
   "cell_type": "markdown",
   "source": [
    "$$P\\left(u(1+ e^y)<e^y\\right)$$ "
   ],
   "metadata": {
    "collapsed": false
   }
  },
  {
   "cell_type": "markdown",
   "source": [
    "$$P\\left(u<\\frac{e^y}{1+ e^y}\\right)=\\frac{e^y}{1+ e^y}=\\frac{1}{1+ e^{-y}} $$ "
   ],
   "metadata": {
    "collapsed": false
   }
  },
  {
   "cell_type": "markdown",
   "source": [
    "$$PDF_Y(x) = \\frac{\\partial}{\\partial y}\\frac{1}{1+ e^{-y}}=\\frac{e^{-y}}{(1+e^{-y})^2}$$"
   ],
   "metadata": {
    "collapsed": false
   }
  },
  {
   "cell_type": "code",
   "execution_count": 15,
   "outputs": [],
   "source": [
    "def p_gen(y):\n",
    "    e = np.exp(-y)\n",
    "    return e/((1+e)*(1+e))"
   ],
   "metadata": {
    "collapsed": false,
    "pycharm": {
     "name": "#%%\n",
     "is_executing": false
    }
   }
  },
  {
   "cell_type": "code",
   "execution_count": 16,
   "outputs": [],
   "source": [
    "p_ys = p_gen(ys).reshape(-1,1)"
   ],
   "metadata": {
    "collapsed": false,
    "pycharm": {
     "name": "#%%\n",
     "is_executing": false
    }
   }
  },
  {
   "cell_type": "code",
   "execution_count": 17,
   "outputs": [],
   "source": [
    "gen = f_generator(t.FloatTensor(10000,1).uniform_(0,1))"
   ],
   "metadata": {
    "collapsed": false,
    "pycharm": {
     "name": "#%%\n",
     "is_executing": false
    }
   }
  },
  {
   "cell_type": "code",
   "execution_count": 18,
   "outputs": [
    {
     "data": {
      "text/plain": "<Figure size 432x288 with 1 Axes>",
      "image/png": "[encoded data removed]"
     },
     "metadata": {
      "needs_background": "light"
     },
     "output_type": "display_data"
    }
   ],
   "source": [
    "plt.hist(gen.data.numpy().reshape(-1), bins=100, density=True);\n",
    "plt.plot(ys, p_ys);"
   ],
   "metadata": {
    "collapsed": false,
    "pycharm": {
     "name": "#%%\n",
     "is_executing": false
    }
   }
  },
  {
   "cell_type": "markdown",
   "source": [
    "### Data"
   ],
   "metadata": {
    "collapsed": false
   }
  },
  {
   "cell_type": "code",
   "execution_count": 19,
   "outputs": [],
   "source": [
    "n = 1000\n",
    "xs = np.linspace(-5,10,n+1)\n",
    "pdf_data = p_data(xs)\n",
    "cum_data = np.cumsum(pdf_data)*15/n\n",
    "cum_data[0]=0.0\n",
    "cum_data[-1]=1.0"
   ],
   "metadata": {
    "collapsed": false,
    "pycharm": {
     "name": "#%%\n",
     "is_executing": false
    }
   }
  },
  {
   "cell_type": "code",
   "execution_count": 20,
   "outputs": [
    {
     "data": {
      "text/plain": "[<matplotlib.lines.Line2D at 0x7f86c3537090>]"
     },
     "metadata": {},
     "output_type": "execute_result",
     "execution_count": 20
    },
    {
     "data": {
      "text/plain": "<Figure size 432x288 with 1 Axes>",
      "image/png": "[encoded data removed]"
     },
     "metadata": {
      "needs_background": "light"
     },
     "output_type": "display_data"
    }
   ],
   "source": [
    "plt.plot(cum_data,xs)"
   ],
   "metadata": {
    "collapsed": false,
    "pycharm": {
     "name": "#%%\n",
     "is_executing": false
    }
   }
  },
  {
   "cell_type": "code",
   "execution_count": 21,
   "outputs": [],
   "source": [
    "from scipy.interpolate import interp1d"
   ],
   "metadata": {
    "collapsed": false,
    "pycharm": {
     "name": "#%%\n",
     "is_executing": false
    }
   }
  },
  {
   "cell_type": "code",
   "execution_count": 22,
   "outputs": [],
   "source": [
    "inv_cum_data = interp1d(cum_data, xs,3)"
   ],
   "metadata": {
    "collapsed": false,
    "pycharm": {
     "name": "#%%\n",
     "is_executing": false
    }
   }
  },
  {
   "cell_type": "code",
   "execution_count": 23,
   "outputs": [],
   "source": [
    "fake_data = inv_cum_data(np.random.uniform(0,1,100000))"
   ],
   "metadata": {
    "collapsed": false,
    "pycharm": {
     "name": "#%%\n",
     "is_executing": false
    }
   }
  },
  {
   "cell_type": "code",
   "execution_count": 24,
   "outputs": [
    {
     "data": {
      "text/plain": "<Figure size 432x288 with 1 Axes>",
      "image/png": "[encoded data removed]"
     },
     "metadata": {
      "needs_background": "light"
     },
     "output_type": "display_data"
    }
   ],
   "source": [
    "plt.hist(fake_data, bins=100, density=True);\n",
    "plt.plot(xs, p_data(xs));"
   ],
   "metadata": {
    "collapsed": false,
    "pycharm": {
     "name": "#%%\n",
     "is_executing": false
    }
   }
  },
  {
   "cell_type": "markdown",
   "source": [
    "## Generative Adversarial Network"
   ],
   "metadata": {
    "collapsed": false
   }
  },
  {
   "cell_type": "code",
   "execution_count": 25,
   "outputs": [],
   "source": [
    "def makeNet(n_layers, n_neurons_in_last_layer):\n",
    "    n = n_layers-1\n",
    "    n_neurons_in_first_layer = n_neurons_in_last_layer*(2**(n-1))\n",
    "    modules=[]\n",
    "    modules.append(Linear(in_features=1, out_features=n_neurons_in_first_layer))\n",
    "    modules.append(LeakyReLU())\n",
    "    for i in range(n-1):\n",
    "        modules.append(Linear(in_features=n_neurons_in_first_layer, out_features=n_neurons_in_first_layer//2))\n",
    "        modules.append(LeakyReLU())\n",
    "        n_neurons_in_first_layer//=2\n",
    "    modules.append(Linear(in_features=n_neurons_in_last_layer, out_features=1))\n",
    "   \n",
    "    return Sequential(*modules)"
   ],
   "metadata": {
    "collapsed": false,
    "pycharm": {
     "name": "#%%\n",
     "is_executing": false
    }
   }
  },
  {
   "cell_type": "code",
   "execution_count": 26,
   "outputs": [],
   "source": [
    "discriminator = Sequential(Linear(1,512), LeakyReLU(0.2, inplace=True),\n",
    "                           Linear(512,32), LeakyReLU(0.2, inplace=True),\n",
    "                           Linear(32,1),  Sigmoid()\n",
    "                                     )"
   ],
   "metadata": {
    "collapsed": false,
    "pycharm": {
     "name": "#%%\n",
     "is_executing": false
    }
   }
  },
  {
   "cell_type": "code",
   "execution_count": 27,
   "outputs": [],
   "source": [
    "discriminator=discriminator.to(device)\n",
    "data_t = data_t.to(device)"
   ],
   "metadata": {
    "collapsed": false,
    "pycharm": {
     "name": "#%%\n",
     "is_executing": false
    }
   }
  },
  {
   "cell_type": "code",
   "execution_count": 28,
   "outputs": [],
   "source": [
    "d_optimizer = t.optim.Adam(discriminator.parameters(), lr=0.0002)"
   ],
   "metadata": {
    "collapsed": false,
    "pycharm": {
     "name": "#%%\n",
     "is_executing": false
    }
   }
  },
  {
   "cell_type": "code",
   "execution_count": 29,
   "outputs": [],
   "source": [
    "bce = t.nn.BCELoss()"
   ],
   "metadata": {
    "collapsed": false,
    "pycharm": {
     "name": "#%%\n",
     "is_executing": false
    }
   }
  },
  {
   "cell_type": "code",
   "execution_count": 30,
   "outputs": [],
   "source": [
    "d_out = discriminator(t.from_numpy(ys).view(-1,1).to(device))"
   ],
   "metadata": {
    "collapsed": false,
    "pycharm": {
     "name": "#%%\n",
     "is_executing": false
    }
   }
  },
  {
   "cell_type": "code",
   "execution_count": 31,
   "outputs": [
    {
     "data": {
      "text/plain": "<Figure size 432x288 with 1 Axes>",
      "image/png": "[encoded data removed]"
     },
     "metadata": {
      "needs_background": "light"
     },
     "output_type": "display_data"
    }
   ],
   "source": [
    "plt.plot(ys,d_out.data.cpu().numpy().reshape(-1),c='r');\n",
    "plt.plot(ys, p_data(ys)/(p_data(ys)+p_gen(ys)),c='b');"
   ],
   "metadata": {
    "collapsed": false,
    "pycharm": {
     "name": "#%%\n",
     "is_executing": false
    }
   }
  },
  {
   "cell_type": "code",
   "execution_count": 32,
   "outputs": [],
   "source": [
    "generator = makeNet(5,32)"
   ],
   "metadata": {
    "collapsed": false,
    "pycharm": {
     "name": "#%%\n",
     "is_executing": false
    }
   }
  },
  {
   "cell_type": "code",
   "execution_count": 33,
   "outputs": [
    {
     "name": "stdout",
     "text": [
      "Sequential(\n",
      "  (0): Linear(in_features=1, out_features=256, bias=True)\n",
      "  (1): LeakyReLU(negative_slope=0.01)\n",
      "  (2): Linear(in_features=256, out_features=128, bias=True)\n",
      "  (3): LeakyReLU(negative_slope=0.01)\n",
      "  (4): Linear(in_features=128, out_features=64, bias=True)\n",
      "  (5): LeakyReLU(negative_slope=0.01)\n",
      "  (6): Linear(in_features=64, out_features=32, bias=True)\n",
      "  (7): LeakyReLU(negative_slope=0.01)\n",
      "  (8): Linear(in_features=32, out_features=1, bias=True)\n",
      ")\n"
     ],
     "output_type": "stream"
    }
   ],
   "source": [
    "print(generator)"
   ],
   "metadata": {
    "collapsed": false,
    "pycharm": {
     "name": "#%%\n",
     "is_executing": false
    }
   }
  },
  {
   "cell_type": "code",
   "execution_count": 34,
   "outputs": [],
   "source": [
    "generator= generator.to(device)"
   ],
   "metadata": {
    "collapsed": false,
    "pycharm": {
     "name": "#%%\n",
     "is_executing": false
    }
   }
  },
  {
   "cell_type": "code",
   "execution_count": 35,
   "outputs": [],
   "source": [
    "out_t = generator(t.FloatTensor(us_t).to(device));"
   ],
   "metadata": {
    "collapsed": false,
    "pycharm": {
     "name": "#%%\n",
     "is_executing": false
    }
   }
  },
  {
   "cell_type": "code",
   "execution_count": 36,
   "outputs": [
    {
     "data": {
      "text/plain": "[<matplotlib.lines.Line2D at 0x7f86c20b9a50>]"
     },
     "metadata": {},
     "output_type": "execute_result",
     "execution_count": 36
    },
    {
     "data": {
      "text/plain": "<Figure size 432x288 with 1 Axes>",
      "image/png": "[encoded data removed]"
     },
     "metadata": {
      "needs_background": "light"
     },
     "output_type": "display_data"
    }
   ],
   "source": [
    "plt.plot(us, out_t.data.cpu().numpy().reshape(-1))"
   ],
   "metadata": {
    "collapsed": false,
    "pycharm": {
     "name": "#%%\n",
     "is_executing": false
    }
   }
  },
  {
   "cell_type": "code",
   "execution_count": 37,
   "outputs": [],
   "source": [
    "g_optimizer = t.optim.Adam(generator.parameters(), lr=0.0002)"
   ],
   "metadata": {
    "collapsed": false,
    "pycharm": {
     "name": "#%%\n",
     "is_executing": false
    }
   }
  },
  {
   "cell_type": "code",
   "execution_count": 38,
   "outputs": [],
   "source": [
    "gen = generator(t.empty(10000,1).uniform_(-1,1).to(device))"
   ],
   "metadata": {
    "collapsed": false,
    "pycharm": {
     "name": "#%%\n",
     "is_executing": false
    }
   }
  },
  {
   "cell_type": "code",
   "execution_count": 39,
   "outputs": [
    {
     "data": {
      "text/plain": "<Figure size 432x288 with 1 Axes>",
      "image/png": "[encoded data removed]"
     },
     "metadata": {
      "needs_background": "light"
     },
     "output_type": "display_data"
    }
   ],
   "source": [
    "plt.hist(gen.data.cpu().numpy().reshape(-1), bins=100, density=True);\n",
    "#plt.plot(ys, p_data(ys));"
   ],
   "metadata": {
    "collapsed": false,
    "pycharm": {
     "name": "#%%\n",
     "is_executing": false
    }
   }
  },
  {
   "cell_type": "code",
   "execution_count": 40,
   "outputs": [
    {
     "data": {
      "text/plain": "0.6931471805599453"
     },
     "metadata": {},
     "output_type": "execute_result",
     "execution_count": 40
    }
   ],
   "source": [
    "-np.log(0.5)"
   ],
   "metadata": {
    "collapsed": false,
    "pycharm": {
     "name": "#%%\n",
     "is_executing": false
    }
   }
  },
  {
   "cell_type": "code",
   "execution_count": 41,
   "outputs": [
    {
     "name": "stdout",
     "text": [
      "5 1.3679485321044922 0.8144615888595581\n",
      "10 1.372945785522461 0.8047529458999634\n",
      "15 1.3838768005371094 0.827799916267395\n",
      "20 1.3873789310455322 0.8348183035850525\n",
      "25 1.3852341175079346 0.8231152892112732\n",
      "30 1.3778235912322998 0.7916216850280762\n",
      "35 1.3790556192398071 0.7988837361335754\n",
      "40 1.3848645687103271 0.8043307065963745\n",
      "45 1.3882821798324585 0.8044396638870239\n",
      "50 1.3897556066513062 0.8080999255180359\n",
      "55 1.389251470565796 0.7930432558059692\n",
      "60 1.3905794620513916 0.8385722637176514\n",
      "65 1.3892672061920166 0.7867472171783447\n",
      "70 1.3881416320800781 0.7966575026512146\n",
      "75 1.3927010297775269 0.8089472055435181\n",
      "80 1.3899257183074951 0.7995430827140808\n",
      "85 1.3878068923950195 0.7901945114135742\n",
      "90 1.3907790184020996 0.7907605767250061\n",
      "95 1.3935426473617554 0.8202030062675476\n",
      "100 1.3916791677474976 0.7967673540115356\n",
      "105 1.3944015502929688 0.80064457654953\n",
      "110 1.3946641683578491 0.8152185678482056\n",
      "115 1.3906081914901733 0.7815003395080566\n",
      "120 1.3948289155960083 0.8229042887687683\n",
      "125 1.3925987482070923 0.8110561370849609\n",
      "130 1.3927006721496582 0.8049525618553162\n",
      "135 1.3916325569152832 0.8092427849769592\n",
      "140 1.387568473815918 0.7999376058578491\n",
      "145 1.3920924663543701 0.8185679316520691\n",
      "150 1.391423225402832 0.806460440158844\n",
      "155 1.391584038734436 0.7946286201477051\n",
      "160 1.396329641342163 0.8250594139099121\n",
      "165 1.3790497779846191 0.816575288772583\n",
      "170 1.4011662006378174 0.8141170144081116\n",
      "175 1.396645188331604 0.8094438314437866\n",
      "180 1.3911998271942139 0.8076421618461609\n",
      "185 1.3907883167266846 0.811968982219696\n",
      "190 1.392852544784546 0.8009945154190063\n",
      "195 1.3950507640838623 0.8094526529312134\n",
      "200 1.3852213621139526 0.8004475235939026\n"
     ],
     "output_type": "stream"
    }
   ],
   "source": [
    "mini_batch_size = 2048\n",
    "k_discriminator = 12\n",
    "k_generator = 1\n",
    "for epoch in range(1,201):\n",
    "    for batch in range(len(data)//mini_batch_size):\n",
    "        for k_d in range(k_discriminator):\n",
    "            d_optimizer.zero_grad()\n",
    "            kr = np.random.randint(0,len(data)//mini_batch_size )\n",
    "          \n",
    "            d = data_t[kr*mini_batch_size:(kr+1)*mini_batch_size]\n",
    "            real_labels = t.ones(mini_batch_size, 1, device=device)\n",
    "            d_real_loss = bce(discriminator(d), 0.9*real_labels)\n",
    "      \n",
    "            z = t.empty(mini_batch_size,1, device=device).uniform_(-1,1)\n",
    "            g_out = generator(z)\n",
    "            fake_labels = t.zeros(mini_batch_size, 1, device=device)\n",
    "            d_fake_loss = bce(discriminator(g_out), fake_labels)\n",
    "            d_loss = d_real_loss + d_fake_loss\n",
    "            d_loss.backward()\n",
    "            d_optimizer.step()\n",
    "    \n",
    "        g_optimizer.zero_grad()\n",
    "        z = t.empty(mini_batch_size,1, device=device).uniform_(-1,1)\n",
    "        g_out = generator(z)\n",
    "        g_loss = bce(discriminator(g_out), real_labels)\n",
    "        g_loss.backward()\n",
    "        g_optimizer.step()\n",
    "        \n",
    "    if epoch%5 == 0:\n",
    "        with t.no_grad():\n",
    "                z = t.empty(len(data_t),1, device=device).uniform_(-1,1)\n",
    "                real_labels = t.ones(len(data_t),1, device=device)\n",
    "                fake_labels = t.zeros(len(data_t),1, device=device)\n",
    "                g_out =  generator(z)\n",
    "                dg_out = discriminator(g_out)\n",
    "                d_loss =  bce(discriminator(data_t), real_labels)\n",
    "                d_loss +=  bce(dg_out, fake_labels)\n",
    "                \n",
    "                g_loss = bce(dg_out, real_labels)\n",
    "                \n",
    "                print(epoch, d_loss.item(), g_loss.item())     "
   ],
   "metadata": {
    "collapsed": false,
    "pycharm": {
     "name": "#%%\n",
     "is_executing": false
    }
   }
  },
  {
   "cell_type": "code",
   "execution_count": 42,
   "outputs": [],
   "source": [
    "gen = generator(t.empty(100000,1).uniform_(-1,1).to(device))"
   ],
   "metadata": {
    "collapsed": false,
    "pycharm": {
     "name": "#%%\n",
     "is_executing": false
    }
   }
  },
  {
   "cell_type": "code",
   "execution_count": 43,
   "outputs": [
    {
     "data": {
      "text/plain": "<Figure size 432x288 with 1 Axes>",
      "image/png": "[encoded data removed]"
     },
     "metadata": {
      "needs_background": "light"
     },
     "output_type": "display_data"
    }
   ],
   "source": [
    "plt.hist(gen.data.cpu().numpy().reshape(-1), bins=100, density=True);\n",
    "plt.plot(ys, p_data(ys));"
   ],
   "metadata": {
    "collapsed": false,
    "pycharm": {
     "name": "#%%\n",
     "is_executing": false
    }
   }
  },
  {
   "cell_type": "code",
   "execution_count": 44,
   "outputs": [],
   "source": [
    "d_out = discriminator(t.from_numpy(ys).to(device).view(-1,1))"
   ],
   "metadata": {
    "collapsed": false,
    "pycharm": {
     "name": "#%%\n",
     "is_executing": false
    }
   }
  },
  {
   "cell_type": "code",
   "execution_count": 45,
   "outputs": [
    {
     "data": {
      "text/plain": "<Figure size 432x288 with 1 Axes>",
      "image/png": "[encoded data removed]"
     },
     "metadata": {
      "needs_background": "light"
     },
     "output_type": "display_data"
    }
   ],
   "source": [
    "plt.plot(ys,d_out.data.cpu().numpy().reshape(-1));\n",
    "plt.axhline(0.5);"
   ],
   "metadata": {
    "collapsed": false,
    "pycharm": {
     "name": "#%%\n",
     "is_executing": false
    }
   }
  },
  {
   "cell_type": "code",
   "execution_count": 46,
   "outputs": [],
   "source": [
    "out_t = generator(t.linspace(-1,1,100).view(-1,1).to(device));"
   ],
   "metadata": {
    "collapsed": false,
    "pycharm": {
     "name": "#%%\n",
     "is_executing": false
    }
   }
  },
  {
   "cell_type": "code",
   "execution_count": 47,
   "outputs": [
    {
     "data": {
      "text/plain": "<Figure size 432x288 with 1 Axes>",
      "image/png": "[encoded data removed]"
     },
     "metadata": {
      "needs_background": "light"
     },
     "output_type": "display_data"
    }
   ],
   "source": [
    "plt.plot(np.linspace(-1,1,100), out_t.data.cpu().numpy().reshape(-1))\n",
    "plt.plot(2*cum_data-1, xs);\n"
   ],
   "metadata": {
    "collapsed": false,
    "pycharm": {
     "name": "#%%\n",
     "is_executing": false
    }
   }
  },
  {
   "cell_type": "code",
   "execution_count": null,
   "outputs": [],
   "source": [
    "\n"
   ],
   "metadata": {
    "collapsed": false,
    "pycharm": {
     "name": "#%%\n"
    }
   }
  }
 ],
 "metadata": {
  "kernelspec": {
   "name": "pycharm-e230bcc",
   "language": "python",
   "display_name": "PyCharm (deeplearning)"
  },
  "language_info": {
   "codemirror_mode": {
    "name": "ipython",
    "version": 3
   },
   "file_extension": ".py",
   "mimetype": "text/x-python",
   "name": "python",
   "nbconvert_exporter": "python",
   "pygments_lexer": "ipython3",
   "version": "3.6.8"
  },
  "pycharm": {
   "stem_cell": {
    "cell_type": "raw",
    "source": [],
    "metadata": {
     "collapsed": false
    }
   }
  }
 },
 "nbformat": 4,
 "nbformat_minor": 4
}