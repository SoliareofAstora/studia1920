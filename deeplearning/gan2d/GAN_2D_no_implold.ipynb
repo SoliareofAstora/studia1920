{
 "cells": [
  {
   "cell_type": "code",
   "execution_count": 40,
   "metadata": {
    "pycharm": {
     "is_executing": false
    }
   },
   "outputs": [],
   "source": [
    "import numpy as np\n",
    "import scipy\n",
    "import scipy.stats\n",
    "import torch as t\n",
    "\n",
    "import matplotlib.pyplot as plt\n",
    "from IPython.display import clear_output, display\n",
    "\n",
    "from torch.nn import Sequential, Linear, ReLU, LeakyReLU, Dropout, Sigmoid"
   ]
  },
  {
   "cell_type": "code",
   "execution_count": 41,
   "metadata": {
    "pycharm": {
     "is_executing": false
    }
   },
   "outputs": [],
   "source": [
    "# %matplotlib inline"
   ]
  },
  {
   "cell_type": "code",
   "execution_count": 42,
   "metadata": {
    "pycharm": {
     "is_executing": false
    }
   },
   "outputs": [],
   "source": [
    "if t.cuda.is_available():\n",
    "    if t.cuda.device_count()>1:\n",
    "        device = t.device('cuda:1')\n",
    "    else:\n",
    "        device = t.device('cuda')   \n",
    "else:\n",
    "    device = t.device('cpu')"
   ]
  },
  {
   "cell_type": "code",
   "execution_count": 43,
   "metadata": {
    "pycharm": {
     "is_executing": false
    }
   },
   "outputs": [],
   "source": [
    "# device=t.device('cpu') #Overrride the above device choice"
   ]
  },
  {
   "cell_type": "markdown",
   "metadata": {},
   "source": [
    "Generate the sample 2D distribution: uniform from unit circle.  "
   ]
  },
  {
   "cell_type": "code",
   "execution_count": 44,
   "metadata": {
    "pycharm": {
     "is_executing": false
    }
   },
   "outputs": [],
   "source": [
    "angle = np.random.uniform(-np.pi,np.pi,(1000,1)).astype('float32')\n",
    "data = np.concatenate((np.cos(angle), np.sin(angle)),axis=1)"
   ]
  },
  {
   "cell_type": "code",
   "execution_count": 45,
   "metadata": {
    "pycharm": {
     "is_executing": false
    }
   },
   "outputs": [
    {
     "data": {
      "text/plain": "<matplotlib.collections.PathCollection at 0x7f9a39abc410>"
     },
     "metadata": {},
     "output_type": "execute_result",
     "execution_count": 45
    },
    {
     "data": {
      "text/plain": "<Figure size 432x288 with 1 Axes>",
      "image/png": "[encoded data removed]"
     },
     "metadata": {
      "needs_background": "light"
     },
     "output_type": "display_data"
    }
   ],
   "source": [
    "plt.scatter(data[:,0], data[:,1])"
   ]
  },
  {
   "cell_type": "code",
   "execution_count": 46,
   "metadata": {
    "pycharm": {
     "is_executing": false
    }
   },
   "outputs": [],
   "source": [
    "data_t = t.from_numpy(data)"
   ]
  },
  {
   "cell_type": "code",
   "execution_count": 47,
   "metadata": {
    "pycharm": {
     "is_executing": false
    }
   },
   "outputs": [
    {
     "data": {
      "text/plain": "tensor([[ 0.7493,  0.6623],\n        [ 0.7121, -0.7021],\n        [ 0.7539, -0.6570],\n        ...,\n        [ 0.8783, -0.4782],\n        [ 0.5929,  0.8052],\n        [ 0.9997,  0.0238]])"
     },
     "metadata": {},
     "output_type": "execute_result",
     "execution_count": 47
    }
   ],
   "source": [
    "data_t"
   ]
  },
  {
   "cell_type": "code",
   "execution_count": 93,
   "metadata": {
    "pycharm": {
     "is_executing": false
    }
   },
   "outputs": [],
   "source": [
    "discriminator = Sequential(\n",
    "    Linear(2,50),\n",
    "    ReLU(),\n",
    "    Linear(50,100),\n",
    "    ReLU(),\n",
    "    Linear(100,100),\n",
    "    ReLU(),\n",
    "    Linear(100,50),\n",
    "    ReLU(),\n",
    "    Linear(50,1),\n",
    "    Sigmoid()) #dummy discriminator: please subsitute you own implementation "
   ]
  },
  {
   "cell_type": "code",
   "execution_count": 94,
   "metadata": {
    "pycharm": {
     "is_executing": false
    }
   },
   "outputs": [],
   "source": [
    "discriminator = discriminator.to(device) "
   ]
  },
  {
   "cell_type": "code",
   "execution_count": 95,
   "metadata": {
    "pycharm": {
     "is_executing": false
    }
   },
   "outputs": [],
   "source": [
    "generator = Sequential(\n",
    "    Linear(2,50),\n",
    "    ReLU(),\n",
    "    Linear(50,100),\n",
    "    ReLU(),\n",
    "    Linear(100,100),\n",
    "    ReLU(),\n",
    "    Linear(100,50),\n",
    "    ReLU(),\n",
    "    Linear(50,2),\n",
    ")# dummy generator: please subsitute you own implementation "
   ]
  },
  {
   "cell_type": "code",
   "execution_count": 96,
   "metadata": {
    "pycharm": {
     "is_executing": false
    }
   },
   "outputs": [],
   "source": [
    "generator= generator.to(device)"
   ]
  },
  {
   "cell_type": "code",
   "execution_count": 97,
   "metadata": {
    "pycharm": {
     "is_executing": false
    }
   },
   "outputs": [],
   "source": [
    "out_t = generator(t.empty(1000,2, device=device).uniform_(-1,1));"
   ]
  },
  {
   "cell_type": "code",
   "execution_count": 98,
   "metadata": {
    "pycharm": {
     "is_executing": false
    }
   },
   "outputs": [
    {
     "data": {
      "text/plain": "<matplotlib.collections.PathCollection at 0x7f9a38da14d0>"
     },
     "metadata": {},
     "output_type": "execute_result",
     "execution_count": 98
    },
    {
     "data": {
      "text/plain": "<Figure size 432x288 with 1 Axes>",
      "image/png": "[encoded data removed]"
     },
     "metadata": {
      "needs_background": "light"
     },
     "output_type": "display_data"
    }
   ],
   "source": [
    "plt.scatter(out_t.data.cpu().numpy()[:,0],out_t.data.cpu().numpy()[:,1])"
   ]
  },
  {
   "cell_type": "code",
   "execution_count": 99,
   "metadata": {
    "pycharm": {
     "is_executing": false
    }
   },
   "outputs": [],
   "source": [
    "d_optimizer = t.optim.Adam(discriminator.parameters(), lr=0.02)"
   ]
  },
  {
   "cell_type": "code",
   "execution_count": 100,
   "metadata": {
    "pycharm": {
     "is_executing": false
    }
   },
   "outputs": [],
   "source": [
    "g_optimizer = t.optim.Adam(generator.parameters(), lr=0.02)"
   ]
  },
  {
   "cell_type": "code",
   "execution_count": 101,
   "outputs": [],
   "source": [],
   "metadata": {
    "collapsed": false,
    "pycharm": {
     "name": "#%%\n",
     "is_executing": false
    }
   }
  },
  {
   "cell_type": "markdown",
   "metadata": {},
   "source": [
    "### Problem 1"
   ]
  },
  {
   "cell_type": "markdown",
   "metadata": {},
   "source": [
    "Implement the GAN train loop that will train GAN to generate from the sample distribution.  "
   ]
  },
  {
   "cell_type": "code",
   "execution_count": 107,
   "outputs": [
    {
     "name": "stdout",
     "text": [
      "True\n",
      "None\n",
      "False\n",
      "None\n"
     ],
     "output_type": "stream"
    }
   ],
   "source": [
    "lossfn = t.nn.BCELoss().cuda()\n",
    "batch_size = 100\n",
    "\n",
    "for epoch in range(1000):\n",
    "    angle = np.random.uniform(-np.pi,np.pi,(batch_size,1)).astype('float32')\n",
    "    real = t.from_numpy(np.concatenate((np.cos(angle), np.sin(angle)),axis=1)).to(device)\n",
    "    fake_points = generator(t.empty(batch_size,2, device=device).uniform_(-1,1))\n",
    "    \n",
    "    print(discriminator(real).requires_grad)\n",
    "    \n",
    "    valid = t.ones([batch_size,1]).to(device)\n",
    "    fake = t.zeros([batch_size,1]).to(device)\n",
    "        \n",
    "    \n",
    "    a = list(generator.parameters())[0].clone()\n",
    "    \n",
    "    g_optimizer.zero_grad()\n",
    "    gloss = lossfn(discriminator(fake_points),valid)\n",
    "    gloss.backward()\n",
    "    print(a.grad)\n",
    "    g_optimizer.step()\n",
    "\n",
    "    b = list(generator.parameters())[0].clone()\n",
    "    print(t.equal(a.data, b.data))\n",
    "    print(b.grad)\n",
    "    \n",
    "    break\n",
    "\n",
    "    d_optimizer.zero_grad()\n",
    "    dloss_real = lossfn(discriminator(real),valid)\n",
    "    dloss_fake = lossfn(discriminator(fake_points.detach()),fake)\n",
    "    dloss = (dloss_fake+dloss_real)/2\n",
    "    dloss.backward()\n",
    "    d_optimizer.step()\n",
    "    \n",
    "\n",
    "    \n",
    "    if epoch%200==0:\n",
    "        print(\"[Epoch %d] [D loss: %f] [G loss: %f]\"%(epoch, dloss.item(), gloss.item()))\n",
    "        real = real.detach().cpu().numpy()\n",
    "        fake_points = fake_points.detach().cpu().numpy()\n",
    "        plt.scatter(real[:,0],real[:,1])\n",
    "        plt.scatter(fake_points[:,0],fake_points[:,1])\n",
    "        plt.show()\n",
    "\n",
    "\n",
    "\n",
    "\n",
    "# \n",
    "# for epoch in range(100):\n",
    "#     for datum in train_loader:\n",
    "#         optimizer.zero_grad()\n",
    "#         (features, target) = datum\n",
    "#         pred = model(features.to('cuda'))\n",
    "#         loss = loss_func(pred, target.to('cuda'))\n",
    "#         loss.backward()\n",
    "#         optimizer.step()\n",
    "# \n",
    "#     with torch.no_grad():\n",
    "#         vpred = model(valid_set[:][0].to('cuda'))\n",
    "#         vloss = loss_func(vpred, valid_set[:][1].to('cuda'))\n",
    "#         err_valid.append(vloss)\n",
    "#         pred = model(train_set[:][0].to('cuda'))\n",
    "#         loss = loss_func(pred, train_set[:][1].to('cuda'))\n",
    "#         err_train.append(loss)"
   ],
   "metadata": {
    "collapsed": false,
    "pycharm": {
     "name": "#%%\n",
     "is_executing": false
    }
   }
  },
  {
   "cell_type": "markdown",
   "metadata": {},
   "source": [
    "### Problem 2"
   ]
  },
  {
   "cell_type": "markdown",
   "metadata": {},
   "source": [
    "Use another sampling distribution. One that is not concentrated on a line e.g. an ellipse. "
   ]
  },
  {
   "cell_type": "code",
   "execution_count": null,
   "metadata": {},
   "outputs": [],
   "source": []
  }
 ],
 "metadata": {
  "kernelspec": {
   "display_name": "Python 3",
   "language": "python",
   "name": "python3"
  },
  "language_info": {
   "codemirror_mode": {
    "name": "ipython",
    "version": 3
   },
   "file_extension": ".py",
   "mimetype": "text/x-python",
   "name": "python",
   "nbconvert_exporter": "python",
   "pygments_lexer": "ipython3",
   "version": "3.6.8"
  },
  "pycharm": {
   "stem_cell": {
    "cell_type": "raw",
    "source": [],
    "metadata": {
     "collapsed": false
    }
   }
  }
 },
 "nbformat": 4,
 "nbformat_minor": 4
}