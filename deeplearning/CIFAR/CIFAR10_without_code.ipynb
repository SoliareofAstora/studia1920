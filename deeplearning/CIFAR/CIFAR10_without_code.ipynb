{
 "nbformat": 4,
 "nbformat_minor": 0,
 "metadata": {
  "colab": {
   "name": "CIFAR10.ipynb",
   "provenance": [],
   "collapsed_sections": []
  },
  "kernelspec": {
   "name": "pycharm-e230bcc",
   "language": "python",
   "display_name": "PyCharm (deeplearning)"
  },
  "accelerator": "GPU",
  "pycharm": {
   "stem_cell": {
    "cell_type": "raw",
    "source": [],
    "metadata": {
     "collapsed": false
    }
   }
  }
 },
 "cells": [
  {
   "cell_type": "markdown",
   "metadata": {
    "id": "kVclo602PoY0",
    "colab_type": "text"
   },
   "source": [
    "<h3>  &nbsp;&nbsp;Train on GPU&nbsp;&nbsp; <a href=\"https://cloud.google.com/tpu/\"><img valign=\"middle\" src=\"https://raw.githubusercontent.com/GoogleCloudPlatform/tensorflow-without-a-phd/master/tensorflow-rl-pong/images/tpu-hexagon.png\" width=\"50\"></a></h3>\n",
    "\n",
    "1. On the main menu, click Runtime and select **Change runtime type**. Set \"GPU\" as the hardware accelerator.\n",
    "1. Click Runtime again and select **Runtime > Run All**. You can also run the cells manually with Shift-ENTER. "
   ]
  },
  {
   "cell_type": "code",
   "execution_count": null,
   "outputs": [],
   "source": [
    "import keras\n",
    "keras.__version__\n",
    "from keras import backend as K\n",
    "K.tensorflow_backend._get_available_gpus()"
   ],
   "metadata": {
    "collapsed": false,
    "pycharm": {
     "name": "#%%\n",
     "is_executing": false
    }
   }
  },
  {
   "cell_type": "code",
   "metadata": {
    "id": "cLjbWVSwLRAM",
    "colab_type": "code",
    "colab": {},
    "pycharm": {
     "is_executing": false
    }
   },
   "source": [
    "from keras import layers\n",
    "from keras import models\n",
    "from keras.datasets import cifar10\n",
    "from keras.utils import to_categorical\n",
    "\n",
    "(train_images, train_labels), (test_images, test_labels) = cifar10.load_data()"
   ],
   "execution_count": null,
   "outputs": []
  },
  {
   "cell_type": "code",
   "metadata": {
    "id": "f1l1_b4FLnAx",
    "colab_type": "code",
    "colab": {
     "base_uri": "https://localhost:8080/",
     "height": 266
    },
    "outputId": "ec9566b2-afb3-4d48-db7f-06289b76fb13",
    "pycharm": {
     "is_executing": false
    }
   },
   "source": [
    "import matplotlib.pyplot as plt\n",
    "%matplotlib inline\n",
    "\n",
    "digit = train_images[4]\n",
    "plt.imshow(digit, cmap=plt.cm.binary)\n",
    "\n",
    "plt.show()"
   ],
   "execution_count": null,
   "outputs": []
  },
  {
   "cell_type": "code",
   "metadata": {
    "id": "76yjbnbJLjsk",
    "colab_type": "code",
    "colab": {},
    "pycharm": {
     "is_executing": false
    }
   },
   "source": [
    "# MODIFY THE CODE TO ADD A VALIDATION SET\n",
    "validation_count = 2500\n",
    "train_images = train_images\n",
    "train_labels = train_labels\n",
    "\n",
    "train_images = train_images.reshape((50000, 32, 32, 3))\n",
    "train_images = train_images.astype('float32') / 255\n",
    "\n",
    "validation_images = train_images[:validation_count]\n",
    "train_images = train_images[validation_count:]\n",
    "\n",
    "test_images = test_images.reshape((10000, 32, 32, 3))\n",
    "test_images = test_images.astype('float32') / 255\n",
    "\n",
    "train_labels = to_categorical(train_labels)\n",
    "validation_labels = train_labels[:validation_count]\n",
    "train_labels = train_labels[validation_count:]\n",
    "test_labels = to_categorical(test_labels)"
   ],
   "execution_count": null,
   "outputs": []
  },
  {
   "cell_type": "code",
   "metadata": {
    "id": "rIJilTuvRnDY",
    "colab_type": "code",
    "colab": {},
    "pycharm": {
     "is_executing": false
    }
   },
   "source": [
    "# MAKE WHATEVER CHANGES ARE NECESSARY\n",
    "# TO GET 0.7 ACCURACY ON THE TEST SET\n",
    "\n",
    "model = models.Sequential()\n",
    "model.add(layers.Conv2D(32, (3,3),padding='same', activation='relu', input_shape=(32, 32, 3)))\n",
    "model.add(layers.Conv2D(64, (3,3), padding='same',strides=2, activation='relu'))\n",
    "model.add(layers.Conv2D(128, (3, 3), padding='same',activation='relu'))\n",
    "model.add(layers.Conv2D(128, (3, 3), padding='same',activation='relu'))\n",
    "model.add(layers.Conv2D(128, (3, 3), padding='same',activation='relu'))\n",
    "model.add(layers.Conv2D(64, (3,3), padding='same',strides=2, activation='relu'))\n",
    "model.add(layers.Flatten())\n",
    "model.add(layers.Dense(500, activation='relu'))\n",
    "model.add(layers.Dense(10, activation='softmax'))\n",
    "\n",
    "model.compile(optimizer='adam',\n",
    "              loss='categorical_crossentropy',\n",
    "              metrics=['accuracy'])"
   ],
   "execution_count": null,
   "outputs": []
  },
  {
   "cell_type": "code",
   "metadata": {
    "id": "Lr0xkEliYc-6",
    "colab_type": "code",
    "colab": {
     "base_uri": "https://localhost:8080/",
     "height": 357
    },
    "outputId": "8b8c6f3b-6fe6-4219-f82f-d7be3005e5de",
    "pycharm": {
     "is_executing": false
    }
   },
   "source": [
    "model.summary()"
   ],
   "execution_count": null,
   "outputs": []
  },
  {
   "cell_type": "code",
   "metadata": {
    "id": "pdgz18QPNOVr",
    "colab_type": "code",
    "colab": {
     "base_uri": "https://localhost:8080/",
     "height": 714
    },
    "outputId": "1775b09f-be46-46c4-bf2a-2f5fc62fc327",
    "pycharm": {
     "is_executing": false
    }
   },
   "source": [
    "  # MAKE WHATEVER CHANGES ARE NECESSARY\n",
    "  # TO GET 0.7 ACCURACY ON THE TEST SET\n",
    "epichs = 6\n",
    "model_hist = model.fit(train_images, train_labels,\n",
    "                       validation_data=(validation_images,validation_labels),\n",
    "                        epochs=epichs, batch_size=475)"
   ],
   "execution_count": null,
   "outputs": []
  },
  {
   "cell_type": "code",
   "metadata": {
    "id": "AK7GvOCaUwp9",
    "colab_type": "code",
    "colab": {
     "base_uri": "https://localhost:8080/",
     "height": 279
    },
    "outputId": "2eeed805-5049-4e46-cc80-f3ff85a72fce",
    "pycharm": {
     "is_executing": false
    }
   },
   "source": [
    "import matplotlib.pyplot as plt\n",
    "\n",
    "epochs = range(0, epichs)\n",
    "train_loss = model_hist.history['loss']\n",
    "val_loss= model_hist.history['val_loss']\n",
    "\n",
    "plt.plot(epochs, val_loss, 'b+', label='Validation')\n",
    "plt.plot(epochs, train_loss, 'bo', label='training')\n",
    "plt.xlabel('Epochs')\n",
    "plt.ylabel('Validation loss')\n",
    "plt.legend()\n",
    "\n",
    "plt.show()"
   ],
   "execution_count": null,
   "outputs": []
  },
  {
   "cell_type": "code",
   "metadata": {
    "id": "ZSr5gnDLNRo7",
    "colab_type": "code",
    "colab": {
     "base_uri": "https://localhost:8080/",
     "height": 68
    },
    "outputId": "b0c2ffb1-5a3f-424f-86d0-f7e9fb4a656b",
    "pycharm": {
     "is_executing": false
    }
   },
   "source": [
    "test_loss, test_acc = model.evaluate(test_images, test_labels)\n",
    "print('test_acc:', test_acc)\n",
    "test_loss"
   ],
   "execution_count": null,
   "outputs": []
  },
  {
   "cell_type": "code",
   "metadata": {
    "id": "e9SeN6QOO77D",
    "colab_type": "code",
    "colab": {},
    "pycharm": {
     "is_executing": false
    }
   },
   "source": [
    "model.save_weights('./cifar10.h5', overwrite=True)"
   ],
   "execution_count": null,
   "outputs": []
  },
  {
   "cell_type": "code",
   "execution_count": null,
   "outputs": [],
   "source": [
    "\n"
   ],
   "metadata": {
    "collapsed": false,
    "pycharm": {
     "name": "#%%\n"
    }
   }
  }
 ]
}